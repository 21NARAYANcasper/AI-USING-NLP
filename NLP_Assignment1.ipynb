{
  "nbformat": 4,
  "nbformat_minor": 0,
  "metadata": {
    "colab": {
      "provenance": []
    },
    "kernelspec": {
      "name": "python3",
      "display_name": "Python 3"
    },
    "language_info": {
      "name": "python"
    }
  },
  "cells": [
    {
      "cell_type": "code",
      "execution_count": 51,
      "metadata": {
        "colab": {
          "base_uri": "https://localhost:8080/",
          "height": 70
        },
        "id": "pTcL1oJG0Dcx",
        "outputId": "fc5685bd-0cea-4b9d-fbe2-9cdb07b3ac27"
      },
      "outputs": [
        {
          "output_type": "execute_result",
          "data": {
            "text/plain": [
              "\"On landing at Bombay, I learned that my corps had advanced through the passes, and was already deep in the enemy's country. I followed, however, with many other officers who were in the same situation as myself, and succeeded in reaching Candahar in safety, where I found my regiment, and at once entered upon my new duties.  The campaign brought honours and promotion to many, but for me \""
            ],
            "application/vnd.google.colaboratory.intrinsic+json": {
              "type": "string"
            }
          },
          "metadata": {},
          "execution_count": 51
        }
      ],
      "source": [
        "import re\n",
        "\n",
        "text = ''\n",
        "with open('/content/cnus.txt','r') as f:\n",
        "    text = \" \".join([l.strip() for l in f.readlines()])\n",
        "\n",
        "text[2611:3000]"
      ]
    },
    {
      "cell_type": "markdown",
      "source": [
        "**Question 1**"
      ],
      "metadata": {
        "id": "7L6iaaes3w3w"
      }
    },
    {
      "cell_type": "code",
      "source": [
        "count_undoubtedly = len(re.findall(r'undoubtedly', text))\n",
        "print(count_undoubtedly)"
      ],
      "metadata": {
        "colab": {
          "base_uri": "https://localhost:8080/"
        },
        "id": "XvrvFY2C4VGV",
        "outputId": "c57f1710-8da8-44b1-a2c6-132928e7b206"
      },
      "execution_count": 16,
      "outputs": [
        {
          "output_type": "stream",
          "name": "stdout",
          "text": [
            "43\n"
          ]
        }
      ]
    },
    {
      "cell_type": "markdown",
      "source": [
        "**Question 2**"
      ],
      "metadata": {
        "id": "pXSC0kMe3_Nw"
      }
    },
    {
      "cell_type": "code",
      "source": [
        "count = len(re.findall(r'Mr. Sherlock Holmes', text))\n",
        "print(count)"
      ],
      "metadata": {
        "colab": {
          "base_uri": "https://localhost:8080/"
        },
        "id": "rQ4hKe_l4Vme",
        "outputId": "87a8e9ac-435c-4999-ee30-2fad959cee18"
      },
      "execution_count": 17,
      "outputs": [
        {
          "output_type": "stream",
          "name": "stdout",
          "text": [
            "93\n"
          ]
        }
      ]
    },
    {
      "cell_type": "code",
      "source": [
        "count = len(re.findall(r'Sherlock Holmes', text))\n",
        "print(count)"
      ],
      "metadata": {
        "colab": {
          "base_uri": "https://localhost:8080/"
        },
        "id": "WnMK5ian8w3z",
        "outputId": "96556fa9-84b3-4c45-e96f-28048d545b5d"
      },
      "execution_count": 18,
      "outputs": [
        {
          "output_type": "stream",
          "name": "stdout",
          "text": [
            "361\n"
          ]
        }
      ]
    },
    {
      "cell_type": "code",
      "source": [
        "count = len(re.findall(r'Mr. Holmes', text))\n",
        "print(count)"
      ],
      "metadata": {
        "colab": {
          "base_uri": "https://localhost:8080/"
        },
        "id": "yC6wOHg-80XI",
        "outputId": "e614981c-ebac-4276-9034-8da6603699cb"
      },
      "execution_count": 19,
      "outputs": [
        {
          "output_type": "stream",
          "name": "stdout",
          "text": [
            "496\n"
          ]
        }
      ]
    },
    {
      "cell_type": "code",
      "source": [
        "count = len(re.findall(r'Sherlock', text))\n",
        "print(count)"
      ],
      "metadata": {
        "colab": {
          "base_uri": "https://localhost:8080/"
        },
        "id": "HZshfSSH80Ko",
        "outputId": "d3bf9efe-f7f2-44b2-85f8-5cea91101506"
      },
      "execution_count": 20,
      "outputs": [
        {
          "output_type": "stream",
          "name": "stdout",
          "text": [
            "383\n"
          ]
        }
      ]
    },
    {
      "cell_type": "markdown",
      "source": [
        "**Question 3**"
      ],
      "metadata": {
        "id": "cUBSczWS3_yJ"
      }
    },
    {
      "cell_type": "code",
      "source": [
        "p = re.compile('[MD][irs][s\\.]? [A-Z]\\w*')\n",
        "x = p.findall(text)\n",
        "print(x)"
      ],
      "metadata": {
        "colab": {
          "base_uri": "https://localhost:8080/"
        },
        "id": "kMAJJgqc4WH3",
        "outputId": "426ef6bf-fdb7-452b-f34b-a7dbd796a692"
      },
      "execution_count": 54,
      "outputs": [
        {
          "output_type": "stream",
          "name": "stdout",
          "text": [
            "['Mr. Sherlock', 'Mr. Sherlock', 'Dr. Watson', 'Mr. Sherlock', 'Mr. Lestrade', 'Mr. Sherlock', 'Mr. Sherlock', 'Mr. Lestrade', 'Mr. Gregson', 'Mr. Sherlock', 'Mr. Gregson', 'Mr. Lestrade', 'Dr. Watson', 'Dr. Watson', 'Mr. Joseph', 'Mr. Drebber', 'Mr. Lestrade', 'Mr. Gregson', 'Mr. Gregson', 'Mr. Sherlock', 'Mr. Drebber', 'Mr. Sherlock', 'Mr. Enoch', 'Mr. Drebber', 'Mr. Stangerson', 'Mr. Drebber', 'Mr. Drebber', 'Mr. Stangerson', 'Mr. Drebber', 'Mr. Drebber', 'Mr. Lestrade', 'Mr. Joseph', 'Mr. Joseph', 'Mr. Stangerson', 'Mr. Joseph', 'Mr. Gregson', 'Mr. Sherlock', 'Mr. Jefferson', 'Mr. Bender', 'Dr. Watson', 'Mr. Jefferson', 'Mr. Drebber', 'Mr. Enoch', 'Mr. Joseph', 'Mr. Sherlock', 'Mr. Holmes', 'Dr. Watson', 'Mr. Thaddeus', 'Mr. Sherlock', 'Dr. Watson', 'Mr. Sholto', 'Mr. Thaddeus', 'Mr. Thaddeus', 'Mr. Thaddeus', 'Mr. Thaddeus', 'Mr. Thaddeus', 'Mr. Thaddeus', 'Mr. Sherlock', 'Mr. Thaddeus', 'Mr. Thaddeus', 'Mr. Thaddeus', 'Mr. Thaddeus', 'Mr. Bartholomew', 'Mr. Sholto', 'Mr. Athelney', 'Mr. Sherlock', 'Mr. Sholto', 'Mr. Sholto', 'Mr. Sholto', 'Mr. Sholto', 'Mr. Theorist', 'Mr. Jones', 'Mr. Thaddeus', 'Mr. Sherman', 'Mr. Sherlock', 'Mr. Sherman', 'Mr. Sherlock', 'Mr. Sherlock', 'Mr. Sholto', 'Mr. Smith', 'Mr. Smith', 'Mr. Bartholomew', 'Mr. Sholto', 'Mr. Sherlock', 'Dr. Watson', 'Mr. Thaddeus', 'Mr. Athelney', 'Mr. Jones', 'Mr. Mordecai', 'Mr. Sholto', 'Mr. Thaddeus', 'Mr. Sherlock', 'Mr. Thaddeus', 'Mr. Athelney', 'Mr. Athelney', 'Mr. Sherlock', 'Mr. Sholto', 'Mr. Sherlock', 'Mr. Sherlock', 'Mr. Holmes', 'Mr. Holmes', 'Mr. Sholto', 'Mr. Sholto', 'Mr. Sholto', 'Mr. Athelney', 'Dr. Watson', 'Dr. Watson', 'Mr. Thaddeus', 'Mr. Athelney', 'Mr. Abelwhite', 'Mr. Abelwhite', 'Dr. Somerton', 'Mr. Jones', 'Dr. Somerton', 'Mr. Bartholomew', 'Mr. Sholto', 'Dr. Watson', 'Mr. Godfrey', 'Mr. John', 'Mr. Godfrey', 'Mr. Sherlock', 'Mr. Holmes', 'Mr. Sherlock', 'Mr. Sherlock', 'Mr. Sherlock', 'Mr. Sherlock', 'Mr. Sherlock', 'Mr. Wilson', 'Mr. Jabez', 'Mr. Wilson', 'Dr. Watson', 'Mr. Jabez', 'Mr. Holmes', 'Mr. Jabez', 'Mr. Wilson', 'Mr. Wilson', 'Mr. Wilson', 'Mr. Sherlock', 'Mr. Holmes', 'Mr. Wilson', 'Mr. Wilson', 'Mr. Holmes', 'Mr. Wilson', 'Mr. Holmes', 'Mr. Jabez', 'Mr. Duncan', 'Mr. Wilson', 'Mr. Holmes', 'Mr. Wilson', 'Mr. Holmes', 'Mr. Duncan', 'Mr. Jabez', 'Mr. Duncan', 'Mr. Holmes', 'Mr. Duncan', 'Mr. Duncan', 'Mr. Holmes', 'Mr. William', 'Mr. Duncan', 'Mr. Holmes', 'Mr. Jabez', 'Mr. Wilson', 'Mr. Wilson', 'Mr. Wilson', 'Mr. Jones', 'Mr. Merryweather', 'Mr. Merryweather', 'Mr. Holmes', 'Mr. Jones', 'Mr. Merryweather', 'Mr. Merryweather', 'Mr. John', 'Mr. Merryweather', 'Mr. Merryweather', 'Mr. Merryweather', 'Mr. Merryweather', 'Mr. Merryweather', 'Mr. Merryweather', 'Mr. Holmes', 'Mr. Merryweather', 'Mr. John', 'Mr. Jabez', 'Mr. Holmes', 'Mr. Holmes', 'Mr. Hosmer', 'Mr. Windibank', 'Mr. Holmes', 'Mr. Hardy', 'Mr. Windibank', 'Mr. Holmes', 'Mr. Windibank', 'Dr. Watson', 'Mr. Hosmer', 'Mr. Windibank', 'Mr. Hardy', 'Mr. Hosmer', 'Mr. Windibank', 'Mr. Hosmer', 'Mr. Holmes', 'Mr. Hosmer', 'Mr. Hosmer', 'Mr. Holmes', 'Mr. Angel', 'Mr. Holmes', 'Mr. Holmes', 'Mr. Hosmer', 'Mr. Holmes', 'Mr. Windibank', 'Mr. Hosmer', 'Mr. Holmes', 'Mr. Holmes', 'Mr. Hosmer', 'Mr. Angel', 'Mr. Holmes', 'Mr. Hosmer', 'Mr. Angel', 'Mr. Windibank', 'Mr. James', 'Mr. James', 'Mr. Hosmer', 'Mr. Windibank', 'Mr. Windibank', 'Mr. Windibank', 'Mr. Windibank', 'Mr. Holmes', 'Mr. Windibank', 'Mr. Windibank', 'Mr. Hosmer', 'Mr. Angel', 'Mr. Windibank', 'Mr. Holmes', 'Mr. James', 'Mr. Hosmer', 'Mr. Sherlock', 'Mr. John', 'Mr. Charles', 'Mr. Turner', 'Mr. McCarthy', 'Mr. McCarthy', 'Mr. James', 'Mr. McCarthy', 'Mr. McCarthy', 'Mr. McCarthy', 'Mr. Lestrade', 'Mr. Lestrade', 'Mr. James', 'Mr. Turner', 'Mr. Sherlock', 'Mr. McCarthy', 'Mr. McCarthy', 'Dr. Willows', 'Mr. McCarthy', 'Mr. Turner', 'Mr. Holmes', 'Mr. Turner', 'Mr. Turner', 'Mr. John', 'Mr. Holmes', 'Mr. Holmes', 'Mr. Fordham', 'Mr. Holmes', 'Mr. Isa', 'Mr. St', 'Mr. St', 'Mr. Neville', 'Mr. St', 'Mr. Neville', 'Mr. Neville', 'Mr. Neville', 'Dr. Watson', 'Mr. Sherlock', 'Mr. Holmes', 'Mr. Holmes', 'Mr. Holmes', 'Mr. Holmes', 'Mr. Holmes', 'Mr. Neville', 'Mr. Neville', 'Mr. Neville', 'Mr. Neville', 'Mr. Neville', 'Mr. Holmes', 'Mr. Holmes', 'Mr. Henry', 'Mr. Henry', 'Mr. Henry', 'Mr. Baker', 'Mr. Baker', 'Mr. Baker', 'Mr. Henry', 'Mr. Henry', 'Mr. Breckinridge', 'Mr. Cocksure', 'Mr. Windigate', 'Mr. Windigate', 'Mr. Henry', 'Mr. Ryder', 'Mr. Holmes', 'Mr. Holmes', 'Dr. Grimesby', 'Dr. Watson', 'Mr. Holmes', 'Mr. Holmes', 'Mr. Holmes', 'Dr. Roylott', 'Dr. Roylott', 'Dr. Roylott', 'Dr. Roylott', 'Dr. Roylott', 'Dr. Roylott', 'Mr. Armitage', 'Dr. Grimesby', 'Dr. Grimesby', 'Dr. Roylott', 'Dr. Roylott', 'Dr. Grimesby', 'Mr. Holmes', 'Dr. Roylott', 'Dr. Grimesby', 'Dr. Roylott', 'Dr. Roylott', 'Dr. Grimesby', 'Dr. Grimesby', 'Dr. Grimesby', 'Mr. Sherlock', 'Mr. Hatherley', 'Mr. Victor', 'Mr. Sherlock', 'Mr. Hatherley', 'Mr. Hatherley', 'Mr. Hatherley', 'Mr. Hatherley', 'Mr. Ferguson', 'Mr. Ferguson', 'Mr. Jeremiah', 'Dr. Becher', 'Dr. Becher', 'Dr. Becher', 'Mr. Sherlock', 'Mr. Lestrade', 'Mr. Aloysius', 'Mr. Aloysius', 'Mr. Aloysius', 'Mr. Aloysius', 'Dr. Watson', 'Mr. Holmes', 'Mr. Holmes', 'Mr. Doran', 'Mr. Holmes', 'Mr. Doran', 'Mr. Lestrade', 'Mr. Holmes', 'Mr. Holmes', 'Mr. Moulton', 'Mr. Lestrade', 'Mr. Holder', 'Mr. Holder', 'Mr. Holmes', 'Mr. Holmes', 'Mr. Holmes', 'Mr. Holmes', 'Mr. Holder', 'Mr. Holder', 'Mr. Holder', 'Mr. Holder', 'Mr. Holder', 'Mr. Holder', 'Mr. Holder', 'Mr. Holmes', 'Mr. Holmes', 'Mr. Holder', 'Mr. Holmes', 'Mr. Holder', 'Mr. Holder', 'Mr. Holder', 'Mr. Holmes', 'Mr. Holmes', 'Mr. Holmes', 'Mr. Holmes', 'Mr. Holmes', 'Mr. Holmes', 'Mr. Rucastle', 'Mr. Holmes', 'Mr. Rucastle', 'Mr. Rucastle', 'Mr. Rucastle', 'Mr. Holmes', 'Mr. Rucastle', 'Mr. Holmes', 'Mr. Rucastle', 'Mr. Rucastle', 'Mr. Rucastle', 'Mr. Holmes', 'Mr. Rucastle', 'Mr. Rucastle', 'Mr. Holmes', 'Mr. Rucastle', 'Mr. Rucastle', 'Mr. Holmes', 'Mr. Rucastle', 'Mr. Holmes', 'Mr. Rucastle', 'Mr. Holmes', 'Mr. Holmes', 'Mr. Holmes', 'Mr. Rucastle', 'Mr. Rucastle', 'Mr. Fowler', 'Mr. Rucastle', 'Mr. Rucastle', 'Mr. Fowler', 'Mr. Fowler', 'Mr. Fowler', 'Mr. Rucastle', 'Mr. Fowler', 'Mr. Holmes', 'Dr. Watson', 'Mr. Holmes', 'Mr. Holmes', 'Mr. Silas', 'Mr. Brown', 'Mr. John', 'Mr. Heath', 'Mr. Holmes', 'Mr. Holmes', 'Mr. Holmes', 'Dr. Watson', 'Mr. Grant', 'Mr. Holmes', 'Mr. Holmes', 'Mr. Munro', 'Mr. Holmes', 'Mr. Holmes', 'Mr. Holmes', 'Mr. Grant', 'Mr. Holmes', 'Mr. Grant', 'Mr. Farquhar', 'Mr. Hall', 'Mr. Hall', 'Mr. Pycroft', 'Dr. Watson', 'Mr. Hall', 'Mr. Pinner', 'Mr. Pinner', 'Dr. Watson', 'Mr. Hall', 'Mr. Pycroft', 'Mr. Pycroft', 'Mr. Harry', 'Dr. Watson', 'Mr. Sherlock', 'Mr. Arthur', 'Mr. Pinner', 'Mr. Harris', 'Mr. Price', 'Mr. Pinner', 'Mr. Harris', 'Mr. Price', 'Mr. Pinner', 'Mr. Pycroft', 'Mr. Hall', 'Mr. Holmes', 'Mr. Pycroft', 'Mr. Holmes', 'Mr. Trevor', 'Mr. Holmes', 'Mr. Trevor', 'Mr. Trevor', 'Mr. Trevor', 'Mr. Trevor', 'Mr. Trevor', 'Mr. Beddoes', 'Mr. Beddoes', 'Mr. Trevor', 'Mr. Beddoes', 'Dr. Fordham', 'Mr. Beddoes', 'Mr. Musgrave', 'Mr. Musgrave', 'Mr. Musgrave', 'Mr. Sherlock', 'Mr. Holmes', 'Mr. Holmes', 'Mr. Holmes', 'Mr. Cunningham', 'Mr. Alec', 'Mr. Cunningham', 'Mr. Alec', 'Mr. Alec', 'Mr. Cunningham', 'Mr. Alec', 'Mr. Holmes', 'Mr. Cunningham', 'Mr. Holmes', 'Mr. Cunningham', 'Mr. Holmes', 'Mr. Cunningham', 'Mr. Cunningham', 'Mr. Alec', 'Mr. Holmes', 'Mr. Cunningham', 'Mr. Alec', 'Mr. Holmes', 'Mr. Cunningham', 'Mr. Cunningham', 'Mr. Cunningham', 'Mr. Cunningham', 'Mr. Holmes', 'Mr. Cunningham', 'Mr. Acton', 'Mr. Acton', 'Mr. Alec', 'Mr. Acton', 'Mr. Acton', 'Mr. Acton', 'Mr. Acton', 'Mr. Acton', 'Mr. Acton', 'Mr. Alec', 'Mr. Holmes', 'Mr. Henry', 'Mr. Sherlock', 'Mr. Sherlock', 'Dr. Trevelyan', 'Mr. Holmes', 'Mr. Holmes', 'Mr. Blessington', 'Mr. Blessington', 'Dr. Percy', 'Dr. Trevelyan', 'Dr. Trevelyan', 'Mr. Blessington', 'Mr. Blessington', 'Mr. Blessington', 'Dr. Trevelyan', 'Mr. Blessington', 'Dr. Trevelyan', 'Mr. Holmes', 'Dr. Trevelyan', 'Mr. Blessington', 'Mr. Holmes', 'Mr. Holmes', 'Dr. Trevelyan', 'Mr. Holmes', 'Dr. Trevelyan', 'Dr. Trevelyan', 'Mr. Holmes', 'Mr. Lanner', 'Dr. Trevelyan', 'Dr. Trevelyan', 'Mr. Blessington', 'Mr. Blessington', 'Dr. Trevelyan', 'Mr. Sherlock', 'Mr. Melas', 'Mr. Melas', 'Mr. Melas', 'Mr. Latimer', 'Mr. Latimer', 'Mr. Melas', 'Mr. Latimer', 'Mr. Melas', 'Mr. Melas', 'Mr. Melas', 'Mr. Melas', 'Mr. Holmes', 'Mr. Melas', 'Mr. Latimer', 'Mr. Melas', 'Mr. Holmes', 'Mr. Mycroft', 'Mr. Melas', 'Mr. Melas', 'Mr. Melas', 'Mr. Melas', 'Mr. Melas', 'Mr. Holmes', 'Mr. Melas', 'Mr. Melas', 'Mr. Holmes', 'Mr. Sherlock', 'Mr. Holmes', 'Mr. Harrison', 'Mr. Phelps', 'Mr. Holmes', 'Mr. Phelps', 'Mr. Forbes', 'Mr. Phelps', 'Dr. Ferrier', 'Dr. Ferrier', 'Mr. Holmes', 'Mr. Forbes', 'Mr. Holmes', 'Mr. Holmes', 'Mr. Phelps', 'Mr. Joseph', 'Mr. Phelps', 'Mr. Holmes', 'Mr. Phelps', 'Mr. Phelps', 'Mr. Holmes', 'Mr. Percy', 'Mr. Phelps', 'Mr. Holmes', 'Mr. Joseph', 'Mr. Holmes', 'Mr. Holmes', 'Mr. Holmes', 'Mr. Phelps', 'Mr. Phelps', 'Mr. Phelps', 'Mr. Phelps', 'Mr. Joseph', 'Mr. Percy', 'Mr. Joseph', 'Mr. Sherlock', 'Mr. Sherlock', 'Mr. Holmes', 'Mr. Holmes', 'Mr. Holmes', 'Mr. Moriarty', 'Mr. Moriarty', 'Mr. Murray', 'Mr. Holmes', 'Mr. Holmes', 'Mr. Holmes', 'Mr. Sherlock', 'Mr. Holmes', 'Mr. Sherlock', 'Mr. Sherlock', 'Mr. Sherlock', 'Mr. Holmes', 'Mr. Holmes', 'Mr. McFarlane', 'Dr. Watson', 'Mr. Holmes', 'Mr. Holmes', 'Mr. Jonas', 'Dr. Watson', 'Mr. Holmes', 'Mr. Holmes', 'Mr. Jonas', 'Mr. Oldacre', 'Mr. Jonas', 'Mr. John', 'Mr. Jonas', 'Mr. McFarlane', 'Mr. Holmes', 'Mr. Jonas', 'Mr. John', 'Mr. Jonas', 'Mr. Holmes', 'Mr. Jonas', 'Mr. McFarlane', 'Mr. Jonas', 'Mr. Holmes', 'Mr. Oldacre', 'Mr. Jonas', 'Mr. Holmes', 'Mr. Sherlock', 'Mr. McFarlane', 'Mr. Holmes', 'Mr. Holmes', 'Mr. Sherlock', 'Mr. Holmes', 'Mr. Holmes', 'Mr. Holmes', 'Mr. Oldacre', 'Mr. McFarlane', 'Mr. McFarlane', 'Mr. Oldacre', 'Mr. Oldacre', 'Mr. Cornelius', 'Mr. Cornelius', 'Mr. Holmes', 'Mr. Holmes', 'Dr. Watson', 'Mr. Holmes', 'Mr. Holmes', 'Mr. Holmes', 'Mr. Holmes', 'Mr. Lestrade', 'Mr. Sherlock', 'Mr. Jonas', 'Mr. Holmes', 'Dr. Watson', 'Mr. Holmes', 'Mr. Holmes', 'Mr. Cornelius', 'Mr. McFarlane', 'Mr. Cornelius', 'Mr. Hilton', 'Mr. Holmes', 'Mr. Holmes', 'Mr. Hilton', 'Dr. Watson', 'Mr. Holmes', 'Mr. Holmes', 'Mr. Holmes', 'Mr. Cubitt', 'Mr. Holmes', 'Mr. Hilton', 'Mr. Holmes', 'Mr. Holmes', 'Mr. Holmes', 'Mr. Hilton', 'Mr. Holmes', 'Mr. Holmes', 'Mr. Hilton', 'Mr. Holmes', 'Mr. Holmes', 'Mr. Hilton', 'Mr. Cubitt', 'Mr. Holmes', 'Mr. Abe', 'Mr. Hilton', 'Mr. Hilton', 'Dr. Watson', 'Mr. Holmes', 'Mr. Abe', 'Mr. Slaney', 'Mr. Sherlock', 'Mr. Sherlock', 'Mr. Holmes', 'Mr. Holmes', 'Mr. Holmes', 'Mr. Carruthers', 'Mr. Woodley', 'Mr. Carruthers', 'Mr. Woodley', 'Mr. Holmes', 'Mr. Woodley', 'Mr. Carruthers', 'Mr. Carruthers', 'Mr. Carruthers', 'Mr. Woodley', 'Mr. Carruthers', 'Mr. Carruthers', 'Mr. Woodley', 'Mr. Holmes', 'Mr. Holmes', 'Mr. Carruthers', 'Mr. Holmes', 'Mr. Holmes', 'Mr. Carruthers', 'Mr. Williamson', 'Mr. Sherlock', 'Mr. Holmes', 'Mr. Woodley', 'Mr. Woodley', 'Mr. Holmes', 'Mr. Carruthers', 'Mr. Carruthers', 'Mr. Carruthers', 'Mr. Woodley', 'Mr. Carruthers', 'Mr. Carruthers', 'Mr. Williamson', 'Mr. Holmes', 'Mr. Holmes', 'Mr. Holmes', 'Mr. Carruthers', 'Mr. Busybody', 'Mr. Carruthers', 'Mr. Holmes', 'Mr. Holmes', 'Mr. Holmes', 'Dr. Watson', 'Mr. Holmes', 'Dr. Huxtable', 'Dr. Huxtable', 'Dr. Thorneycroft', 'Mr. James', 'Mr. Holmes', 'Mr. Holmes', 'Mr. James', 'Mr. Holmes', 'Mr. Huxtable', 'Dr. Huxtable', 'Mr. Wilder', 'Dr. Huxtable', 'Dr. Huxtable', 'Mr. Sherlock', 'Dr. Huxtable', 'Mr. Wilder', 'Dr. Huxtable', 'Mr. Sherlock', 'Mr. Wilder', 'Dr. Huxtable', 'Mr. Holmes', 'Mr. Holmes', 'Mr. Holmes', 'Mr. Wilder', 'Dr. Huxtable', 'Dr. Huxtable', 'Dr. Huxtable', 'Mr. Reuben', 'Mr. Reuben', 'Mr. Reuben', 'Mr. Hayes', 'Mr. James', 'Mr. James', 'Dr. Huxtable', 'Mr. James', 'Dr. Huxtable', 'Mr. Wilder', 'Mr. Holmes', 'Mr. Holmes', 'Mr. Wilder', 'Mr. Holmes', 'Dr. Watson', 'Dr. Huxtable', 'Mr. Holmes', 'Mr. Sherlock', 'Mr. Holmes', 'Mr. Holmes', 'Mr. Holmes', 'Mr. Holmes', 'Mr. Holmes', 'Mr. Holmes', 'Mr. James', 'Mr. Reuben', 'Mr. Holmes', 'Dr. Huxtable', 'Mr. Holmes', 'Dr. Huxtable', 'Mr. Holmes', 'Mr. James', 'Mr. Holmes', 'Mr. Holmes', 'Mr. Wilder', 'Mr. Sherlock', 'Mr. Holmes', 'Dr. Watson', 'Mr. Holmes', 'Mr. Holmes', 'Mr. Holmes', 'Mr. Holmes', 'Mr. Holmes', 'Mr. Holmes', 'Mr. Holmes', 'Mr. Holmes', 'Mr. Holmes', 'Mr. Holmes', 'Mr. Holmes', 'Mr. Holmes', 'Mr. Holmes', 'Mr. Patrick', 'Mr. Holmes', 'Mr. Sherlock', 'Mr. Pickwick', 'Dr. Watson', 'Mr. Holmes', 'Dr. Watson', 'Mr. Holmes', 'Mr. Holmes', 'Mr. Holmes', 'Mr. Holmes', 'Mr. Lestrade', 'Mr. Holmes', 'Mr. Milverton', 'Mr. Lestrade', 'Mr. Holmes', 'Mr. Holmes', 'Dr. Watson', 'Dr. Barnicot', 'Dr. Barnicot', 'Dr. Barnicot', 'Dr. Barnicot', 'Mr. Holmes', 'Dr. Barnicot', 'Dr. Watson', 'Dr. Barnicot', 'Mr. Horace', 'Mr. Holmes', 'Mr. Harker', 'Mr. Sherlock', 'Mr. Holmes', 'Mr. Harker', 'Dr. Barnicot', 'Mr. Holmes', 'Mr. Horace', 'Mr. Horace', 'Mr. Horace', 'Mr. Harding', 'Mr. Harding', 'Mr. Morse', 'Dr. Barnicot', 'Dr. Barnicot', 'Mr. Horace', 'Mr. Lestrade', 'Mr. Sherlock', 'Mr. Horace', 'Mr. Harker', 'Mr. Josiah', 'Mr. Sandeford', 'Mr. Harding', 'Mr. Holmes', 'Mr. Sherlock', 'Mr. Sherlock', 'Mr. Josiah', 'Mr. Sherlock', 'Mr. Holmes', 'Mr. Sherlock', 'Mr. Sandeford', 'Mr. Harding', 'Mr. Sandeford', 'Mr. Holmes', 'Mr. Sandeford', 'Mr. Sandeford', 'Mr. Holmes', 'Mr. Sherlock', 'Mr. Hilton', 'Mr. Soames', 'Mr. Holmes', 'Mr. Holmes', 'Mr. Holmes', 'Mr. Holmes', 'Mr. Holmes', 'Mr. Holmes', 'Mr. Soames', 'Mr. Soames', 'Mr. Soames', 'Mr. Soames', 'Mr. Soames', 'Mr. Soames', 'Mr. Holmes', 'Mr. Holmes', 'Mr. Soames', 'Mr. Soames', 'Mr. Soames', 'Mr. Holmes', 'Mr. Soames', 'Mr. Holmes', 'Mr. Soames', 'Mr. Holmes', 'Mr. Holmes', 'Mr. Soames', 'Mr. Gilchrist', 'Mr. Gilchrist', 'Mr. Gilchrist', 'Mr. Soames', 'Mr. Soames', 'Mr. Gilchrist', 'Mr. Soames', 'Mr. Gilchrist', 'Mr. Soames', 'Mr. Soames', 'Mr. Holmes', 'Mr. Holmes', 'Mr. Willoughby', 'Mr. Willoughby', 'Mr. Sherlock', 'Mr. Sherlock', 'Mr. Holmes', 'Mr. Holmes', 'Mr. Holmes', 'Mr. Holmes', 'Mr. Holmes', 'Mr. Holmes', 'Mr. Holmes', 'Mr. Holmes', 'Mr. Holmes', 'Mr. Holmes', 'Mr. Holmes', 'Mr. Smith', 'Mr. Smith', 'Mr. Smith', 'Mr. Holmes', 'Mr. Sherlock', 'Mr. Holmes', 'Mr. Sherlock', 'Mr. Overton', 'Mr. Overton', 'Mr. Cyril', 'Mr. Sherlock', 'Mr. Holmes', 'Mr. Holmes', 'Mr. Holmes', 'Mr. Holmes', 'Mr. Holmes', 'Mr. Holmes', 'Mr. Overton', 'Mr. Holmes', 'Mr. Staunton', 'Mr. Staunton', 'Mr. Overton', 'Mr. Staunton', 'Mr. Detective', 'Mr. Detective', 'Dr. Leslie', 'Dr. Leslie', 'Mr. Sherlock', 'Mr. Godfrey', 'Mr. Staunton', 'Mr. Staunton', 'Mr. Godfrey', 'Dr. Leslie', 'Mr. Holmes', 'Mr. Staunton', 'Dr. Leslie', 'Dr. Leslie', 'Dr. Armstrong', 'Dr. Armstrong', 'Mr. Godfrey', 'Mr. Jeremy', 'Dr. Armstrong', 'Dr. Armstrong', 'Dr. Armstrong', 'Mr. Godfrey', 'Dr. Armstrong', 'Dr. Armstrong', 'Dr. Armstrong', 'Mr. Holmes', 'Mr. Holmes', 'Mr. Holmes', 'Dr. Watson', 'Mr. Hopkins', 'Mr. Holmes', 'Mr. Holmes', 'Mr. Holmes', 'Mr. Holmes', 'Mr. Jack', 'Mr. Holmes', 'Mr. Holmes', 'Mr. Holmes', 'Mr. Holmes', 'Mr. Holmes', 'Mr. Holmes', 'Mr. Holmes', 'Mr. Holmes', 'Mr. Holmes', 'Mr. Sherlock', 'Mr. Holmes', 'Mr. Holmes', 'Mr. Trelawney', 'Mr. Holmes', 'Mr. Holmes', 'Mr. Holmes', 'Mr. Holmes', 'Mr. Holmes', 'Dr. Watson', 'Mr. Holmes', 'Mr. Trelawney', 'Mr. Holmes', 'Mr. Holmes', 'Mr. Hope', 'Mr. Holmes', 'Mr. Holmes', 'Mr. Eduardo', 'Mr. Lucas', 'Mr. Lucas', 'Mr. Eduardo', 'Mr. Holmes', 'Mr. Holmes', 'Mr. Holmes', 'Mr. Holmes', 'Mr. Holmes', 'Mr. Holmes', 'Mr. Holmes', 'Mr. Holmes', 'Mr. Eduardo', 'Mr. Holmes', 'Mr. Holmes', 'Mr. Holmes', 'Mr. Holmes', 'Mr. Holmes', 'Mr. Holmes', 'Mr. Holmes', 'Mr. Holmes', 'Mr. Holmes', 'Mr. Holmes', 'Mr. Trelawney', 'Mr. Holmes', 'Mr. Holmes', 'Mr. Holmes', 'Mr. Holmes', 'Mr. Holmes', 'Mr. Holmes', 'Mr. Holmes', 'Mr. Holmes', 'Mr. Holmes', 'Mr. Holmes', 'Mr. Holmes', 'Mr. Holmes', 'Mr. Holmes', 'Mr. Holmes', 'Mr. Holmes', 'Mr. Sherlock', 'Dr. Watson', 'Dr. Watson', 'Dr. Watson', 'Mr. Sherlock', 'Mr. Sherlock', 'Dr. Mortimer', 'Dr. Mortimer', 'Dr. James', 'Dr. Mortimer', 'Dr. James', 'Mr. Holmes', 'Mr. Sherlock', 'Dr. Watson', 'Mr. Holmes', 'Mr. Holmes', 'Dr. Mortimer', 'Dr. James', 'Dr. Mortimer', 'Dr. Mortimer', 'Dr. Mortimer', 'Mr. Sherlock', 'Dr. Mortimer', 'Mr. Holmes', 'Dr. James', 'Dr. Mortimer', 'Mr. Henry', 'Dr. Mortimer', 'Mr. Holmes', 'Dr. Mortimer', 'Mr. Frankland', 'Mr. Stapleton', 'Mr. Holmes', 'Mr. Stapleton', 'Dr. Mortimer', 'Mr. Holmes', 'Dr. Mortimer', 'Dr. Mortimer', 'Dr. Mortimer', 'Mr. Holmes', 'Mr. Holmes', 'Dr. Mortimer', 'Dr. Mortimer', 'Mr. Holmes', 'Mr. Holmes', 'Dr. Mortimer', 'Mr. Holmes', 'Dr. Mortimer', 'Dr. Mortimer', 'Dr. Mortimer', 'Dr. Mortimer', 'Dr. Mortimer', 'Dr. Mortimer', 'Dr. Mortimer', 'Mr. Sherlock', 'Mr. Holmes', 'Dr. Mortimer', 'Dr. Mortimer', 'Mr. Holmes', 'Dr. Mortimer', 'Dr. Mortimer', 'Mr. Holmes', 'Dr. Mortimer', 'Mr. Holmes', 'Mr. Holmes', 'Dr. Mortimer', 'Mr. Holmes', 'Dr. Mortimer', 'Mr. Holmes', 'Dr. Mortimer', 'Dr. Mortimer', 'Dr. Mortimer', 'Dr. Mortimer', 'Dr. Mortimer', 'Mr. Holmes', 'Mr. Holmes', 'Dr. Watson', 'Dr. Mortimer', 'Dr. Mortimer', 'Dr. Mortimer', 'Mr. Johnson', 'Mr. Holmes', 'Mr. Holmes', 'Dr. Mortimer', 'Dr. Mortimer', 'Mr. Barrymore', 'Mr. Barrymore', 'Dr. Mortimer', 'Dr. Mortimer', 'Dr. Mortimer', 'Mr. James', 'Mr. Holmes', 'Dr. Mortimer', 'Dr. Mortimer', 'Mr. Holmes', 'Dr. Watson', 'Dr. Watson', 'Dr. Mortimer', 'Mr. Sherlock', 'Mr. Sherlock', 'Mr. Sherlock', 'Dr. Mortimer', 'Mr. Sherlock', 'Mr. James', 'Dr. Mortimer', 'Mr. Frankland', 'Dr. Mortimer', 'Dr. Mortimer', 'Dr. Mortimer', 'Dr. Watson', 'Dr. Mortimer', 'Dr. Watson', 'Dr. Mortimer', 'Dr. Mortimer', 'Dr. Mortimer', 'Dr. Mortimer', 'Dr. Mortimer', 'Mr. Barrymore', 'Mr. Barrymore', 'Mr. Barrymore', 'Mr. Barrymore', 'Dr. Mortimer', 'Dr. Watson', 'Mr. Stapleton', 'Mr. Sherlock', 'Dr. Watson', 'Mr. Sherlock', 'Dr. Watson', 'Dr. Watson', 'Dr. Watson', 'Dr. Watson', 'Dr. Mortimer', 'Dr. Watson', 'Dr. Watson', 'Dr. Watson', 'Dr. Watson', 'Dr. Watson', 'Mr. Sherlock', 'Dr. Mortimer', 'Mr. Frankland', 'Dr. Mortimer', 'Dr. Mortimer', 'Dr. Watson', 'Dr. Watson', 'Mr. Stapleton', 'Dr. Mortimer', 'Dr. Watson', 'Dr. Mortimer', 'Mr. Stapleton', 'Mr. Frankland', 'Dr. Watson', 'Dr. Watson', 'Dr. Watson', 'Dr. Watson', 'Dr. Watson', 'Dr. Watson', 'Dr. Watson', 'Mr. Sherlock', 'Dr. Watson', 'Dr. Watson', 'Mr. Stapleton', 'Mr. Holmes', 'Mr. Holmes', 'Dr. Mortimer', 'Dr. Mortimer', 'Dr. Mortimer', 'Dr. Mortimer', 'Dr. Mortimer', 'Dr. Mortimer', 'Dr. Mortimer', 'Dr. Mortimer', 'Mr. Holmes', 'Mr. Mac', 'Mr. Holmes', 'Mr. Holmes', 'Dr. Watson', 'Mr. Douglas', 'Mr. Mac', 'Mr. Holmes', 'Mr. Mac', 'Mr. Holmes', 'Mr. Holmes', 'Mr. Holmes', 'Mr. Holmes', 'Mr. Holmes', 'Mr. Holmes', 'Mr. Holmes', 'Mr. Mac', 'Mr. Holmes', 'Mr. Holmes', 'Mr. Mac', 'Mr. Holmes', 'Mr. Douglas', 'Mr. Holmes', 'Mr. Mac', 'Mr. Douglas', 'Mr. Douglas', 'Dr. Wood', 'Mr. Douglas', 'Mr. Douglas', 'Mr. Douglas', 'Dr. Wood', 'Mr. Douglas', 'Mr. Barker', 'Mr. Douglas', 'Mr. MacDonald', 'Mr. Holmes', 'Dr. Watson', 'Mr. Holmes', 'Dr. Wood', 'Mr. Douglas', 'Mr. Holmes', 'Mr. Douglas', 'Mr. Barker', 'Mr. Holmes', 'Mr. Mac', 'Mr. Holmes', 'Mr. White', 'Mr. Holmes', 'Mr. White', 'Mr. Holmes', 'Mr. Holmes', 'Mr. White', 'Dr. Watson', 'Mr. Holmes', 'Mr. Holmes', 'Mr. Cecil', 'Mr. Cecil', 'Mr. Douglas', 'Mr. Douglas', 'Mr. Douglas', 'Mr. Barker', 'Mr. Douglas', 'Mr. Douglas', 'Mr. Holmes', 'Mr. Holmes', 'Mr. White', 'Mr. Mac', 'Mr. Douglas', 'Mr. Douglas', 'Mr. Mac', 'Mr. Holmes', 'Mr. Mac', 'Mr. Douglas', 'Mr. Holmes', 'Mr. Douglas', 'Mr. Holmes', 'Mr. Holmes', 'Mr. Douglas', 'Mr. Douglas', 'Mr. Douglas', 'Mr. Douglas', 'Mr. Barker', 'Mr. Barker', 'Mr. Barker', 'Mr. Ames', 'Mr. Barker', 'Mr. Barker', 'Mr. Douglas', 'Mr. Holmes', 'Mr. Cecil', 'Mr. Barker', 'Mr. Douglas', 'Mr. Holmes', 'Mr. Cecil', 'Mr. Barker', 'Mr. Holmes', 'Mr. Barker', 'Mr. Holmes', 'Dr. Watson', 'Mr. Sherlock', 'Dr. Watson', 'Dr. Watson', 'Mr. Holmes', 'Dr. Watson', 'Mr. Holmes', 'Mr. Holmes', 'Mr. Douglas', 'Mr. Mac', 'Mr. Holmes', 'Mr. Mac', 'Mr. Holmes', 'Mr. Holmes', 'Mr. Douglas', 'Mr. Douglas', 'Mr. Douglas', 'Mr. Holmes', 'Mr. Mac', 'Mr. Holmes', 'Mr. Holmes', 'Dr. Watson', 'Mr. Mac', 'Mr. White', 'Mr. Holmes', 'Mr. Mac', 'Mr. Holmes', 'Mr. Mac', 'Mr. Holmes', 'Mr. Mac', 'Mr. Holmes', 'Mr. Mac', 'Mr. Ames', 'Mr. Mac', 'Mr. Mac', 'Mr. John', 'Mr. White', 'Mr. Mac', 'Mr. Barker', 'Mr. Mac', 'Mr. Mac', 'Mr. Barker', 'Dr. Watson', 'Mr. Barker', 'Mr. Barker', 'Mr. Douglas', 'Mr. Barker', 'Mr. Holmes', 'Mr. Barker', 'Mr. Barker', 'Dr. Watson', 'Mr. Douglas', 'Mr. Douglas', 'Dr. Watson', 'Mr. Douglas', 'Mr. Holmes', 'Mr. Holmes', 'Mr. John', 'Mr. Mac', 'Mr. Douglas', 'Mr. Holmes', 'Mr. Mac', 'Mr. John', 'Mr. John', 'Mr. Holmes', 'Mr. Douglas', 'Mr. Douglas', 'Mr. Shafter', 'Mr. Hyam', 'Mr. Shafter', 'Mr. McMurdo', 'Mr. Baldwin', 'Mr. Baldwin', 'Mr. McMurdo', 'Mr. Baldwin', 'Mr. Boarder', 'Mr. Baldwin', 'Mr. McGinty', 'Mr. McMurdo', 'Mr. McMurdo', 'Mr. Treasurer', 'Mr. Standback', 'Mr. Stanger', 'Mr. McMurdo', 'Mr. Morris', 'Mr. Crooked', 'Mr. McGinty', 'Mr. McGinty', 'Mr. McMurdo', 'Mr. Chairman', 'Mr. Chairman', 'Mr. Holmes', 'Mr. Holmes', 'Mr. Sherlock', 'Mr. John', 'Mr. John', 'Mr. Holmes', 'Mr. Scott', 'Mr. Holmes', 'Mr. Garcia', 'Dr. Watson', 'Mr. Holmes', 'Mr. Holmes', 'Mr. John', 'Mr. Holmes', 'Mr. Scott', 'Mr. Aloysius', 'Mr. Scott', 'Mr. Eccles', 'Mr. Inspector', 'Mr. Scott', 'Mr. Baynes', 'Mr. Holmes', 'Mr. Holmes', 'Mr. Gregson', 'Mr. Garcia', 'Mr. Baynes', 'Mr. Scott', 'Mr. Garcia', 'Mr. Scott', 'Mr. Gregson', 'Mr. Gregson', 'Mr. Scott', 'Mr. Holmes', 'Mr. Baynes', 'Mr. Baynes', 'Mr. Baynes', 'Mr. Hynes', 'Mr. James', 'Mr. Henderson', 'Mr. Holmes', 'Mr. Holmes', 'Mr. Baynes', 'Mr. Holmes', 'Mr. Baynes', 'Mr. Holmes', 'Mr. Garcia', 'Mr. Holmes', 'Mr. Holmes', 'Mr. Holmes', 'Mr. Baynes', 'Mr. Holmes', 'Mr. Holmes', 'Mr. Holmes', 'Mr. Henderson', 'Mr. Lucas', 'Mr. Holmes', 'Mr. Holmes', 'Mr. Holmes', 'Mr. Holmes', 'Mr. Lestrade', 'Mr. Holmes', 'Mr. Lestrade', 'Mr. Browner', 'Mr. Holmes', 'Mr. Holmes', 'Mr. Fairdale', 'Mr. Holmes', 'Mr. Warren', 'Mr. Warren', 'Mr. Holmes', 'Mr. Warren', 'Mr. Warren', 'Mr. Holmes', 'Dr. Watson', 'Mr. Warren', 'Mr. Holmes', 'Mr. Holmes', 'Mr. Sherlock', 'Mr. Leverton', 'Mr. Holmes', 'Mr. Gregson', 'Mr. Holmes', 'Mr. Holmes', 'Mr. Holmes', 'Mr. Holmes', 'Mr. Gregson', 'Mr. Holmes', 'Mr. Sidney', 'Mr. Sidney', 'Mr. Holmes', 'Mr. Holmes', 'Mr. Holmes', 'Mr. Holmes', 'Mr. Lestrade', 'Mr. Holmes', 'Mr. Holmes', 'Mr. Holmes', 'Mr. Sidney', 'Mr. Holmes', 'Mr. Holmes', 'Mr. Hugo', 'Mr. Holmes', 'Mr. Oberstein', 'Dr. Watson', 'Mr. Holmes', 'Dr. Ainstree', 'Mr. Culverton', 'Mr. Culverton', 'Mr. Culverton', 'Mr. Holmes', 'Mr. Culverton', 'Dr. Watson', 'Mr. Culverton', 'Mr. Sherlock', 'Mr. Holmes', 'Mr. Holmes', 'Mr. Homes', 'Mr. Culverton', 'Dr. Watson', 'Mr. Holmes', 'Mr. Smith', 'Mr. Culverton', 'Mr. Culverton', 'Mr. Sherlock', 'Dr. Shlessinger', 'Dr. Shlessinger', 'Dr. Shlessinger', 'Dr. Shlessinger', 'Mr. Holmes', 'Dr. Watson', 'Mr. Holmes', 'Mr. Holmes', 'Dr. Watson', 'Mr. Green', 'Dr. Shlessinger', 'Mr. Holmes', 'Mr. Holmes', 'Mr. Green', 'Dr. Shlessinger', 'Mr. Peters', 'Dr. Shlessinger', 'Mr. Holmes', 'Mr. Holmes', 'Mr. Sherlock', 'Dr. Horsom', 'Mr. Holmes', 'Mr. Holmes', 'Dr. Watson', 'Mr. Holmes', 'Mr. Holmes', 'Mr. Holmes', 'Mr. Green', 'Mr. Sherlock', 'Dr. Moore', 'Mr. Roundhay', 'Mr. Mortimer', 'Mr. Holmes', 'Mr. Mortimer', 'Mr. Tregennis', 'Dr. Richards', 'Mr. Mortimer', 'Mr. Holmes', 'Mr. Roundhay', 'Mr. Holmes', 'Mr. Tregennis', 'Mr. Mortimer', 'Mr. Holmes', 'Mr. Holmes', 'Mr. Holmes', 'Mr. Tregennis', 'Mr. Holmes', 'Mr. Tregennis', 'Mr. Holmes', 'Mr. Mortimer', 'Dr. Leon', 'Mr. Holmes', 'Dr. Sterndale', 'Mr. Roundhay', 'Dr. Leon', 'Mr. Holmes', 'Mr. Mortimer', 'Mr. Roundhay', 'Mr. Roundhay', 'Dr. Leon', 'Mr. Holmes', 'Mr. Holmes', 'Dr. Sterndale', 'Mr. Holmes', 'Dr. Leon', 'Dr. Sterndale', 'Mr. Holmes', 'Dr. Sterndale', 'Mr. Holmes', 'Mr. Holmes', 'Mr. Holmes', 'Dr. Sterndale', 'Dr. Sterndale', 'Mr. John', 'Mr. Altamont', 'Mr. Sherlock', 'Mr. Holmes', 'Mr. Holmes', 'Mr. Altamont', 'Mr. Von', 'Mr. Von', 'Mr. Sherlock', 'Mr. Von']\n"
          ]
        }
      ]
    },
    {
      "cell_type": "markdown",
      "source": [
        "**Question 4**"
      ],
      "metadata": {
        "id": "x57G62yq4ANd"
      }
    },
    {
      "cell_type": "code",
      "source": [
        "year_pattern = r'1[89]\\d\\d'\n",
        "date_pattern = r'[123][0-9]'\n",
        "\n",
        "years_mentioned = re.findall(year_pattern, text)\n",
        "dates_mentioned = re.findall(date_pattern, text)\n",
        "\n",
        "print(\"Year Mentioned:\", years_mentioned)\n",
        "print(\"Date Mentioned:\", dates_mentioned)"
      ],
      "metadata": {
        "colab": {
          "base_uri": "https://localhost:8080/"
        },
        "id": "WlFNQG-s4WvU",
        "outputId": "e1447eed-d5d2-40de-b33f-a3364f2bf110"
      },
      "execution_count": 47,
      "outputs": [
        {
          "output_type": "stream",
          "name": "stdout",
          "text": [
            "Year Mentioned: ['1878', '1860', '1857', '1871', '1878', '1878', '1882', '1882', '1882', '1888', '1858', '1890', '1890', '1869', '1870', '1878', '1883', '1883', '1869', '1869', '1884', '1887', '1846', '1855', '1875', '1891', '1890', '1891', '1894', '1894', '1840', '1881', '1884', '1887', '1894', '1901', '1895', '1900', '1888', '1872', '1883', '1884', '1883', '1883', '1883', '1883', '1894', '1884', '1882', '1882', '1884', '1882', '1883', '1876', '1800', '1865', '1875', '1872', '1874', '1875', '1892', '1895', '1897', '1914', '1911', '1915']\n",
            "Date Mentioned: ['18', '22', '10', '11', '12', '34', '16', '22', '16', '13', '13', '13', '12', '15', '11', '30', '28', '27', '18', '22', '18', '18', '18', '18', '34', '18', '34', '28', '18', '37', '18', '34', '22', '18', '18', '15', '27', '18', '18', '17', '30', '30', '30', '31', '11', '15', '15', '14', '18', '18', '18', '18', '14', '10', '18', '18', '10', '12', '18', '19', '10', '18', '18', '14', '10', '22', '35', '21', '27', '26', '25', '10', '22', '26', '22', '30', '22', '11', '24', '11', '22', '12', '10', '10', '11', '25', '16', '27', '10', '11', '15', '11', '15', '18', '22', '10', '20', '10', '10', '10', '10', '10', '10', '30', '12', '12', '11', '30', '10', '30', '20', '36', '17', '12', '12', '12', '18', '15', '20', '25', '14', '15', '25', '16', '14', '11', '10', '11', '11', '18', '24', '16', '10', '23', '22', '18', '18', '18', '24', '23', '18', '27', '30', '18', '27', '27', '30', '18', '18', '18', '18', '26', '18', '19', '18', '23', '12', '22', '13', '19', '18', '18', '13', '18', '18', '18', '18', '18', '18', '30', '14', '18', '13', '13', '20', '18', '30', '16', '16', '18', '18', '18', '18', '18', '18', '17', '30', '17', '17', '14', '18', '27', '27', '10', '30', '27', '13', '15', '16', '17', '18', '20', '16', '34', '34', '13', '12', '36', '31', '17', '21', '10', '29', '37', '26', '17', '34', '34', '34', '34', '34', '34', '34', '17', '18', '18', '17', '15', '34', '34', '34', '34', '16', '18', '34', '29', '34', '29', '24', '18', '18', '34', '34', '29', '34', '24', '18', '18', '18', '30', '11', '15', '15', '30', '13', '13', '13', '13', '11', '30', '36', '13', '20', '18', '16', '10', '19', '14', '19', '11', '19', '15']\n"
          ]
        }
      ]
    },
    {
      "cell_type": "markdown",
      "source": [
        "**Question 5**"
      ],
      "metadata": {
        "id": "24D0u8pN4BTg"
      }
    },
    {
      "cell_type": "code",
      "source": [
        "p = re.compile('\\.[ A-Za-z]+smok[ A-Za-z]+\\.')\n",
        "x = p.findall(text)\n",
        "print(x)"
      ],
      "metadata": {
        "colab": {
          "base_uri": "https://localhost:8080/"
        },
        "id": "EUK15dSRFf5z",
        "outputId": "4839e36f-3b57-4f96-c602-cadc45ebe51a"
      },
      "execution_count": 59,
      "outputs": [
        {
          "output_type": "stream",
          "name": "stdout",
          "text": [
            "['. I am going to smoke and to think over this queer business to which my fair client has introduced us.', '. I would have thought no more of knifing him than of smoking this cigar.', '. The smoke and shouting were enough to shake nerves of steel.', '. He had even smoked there.', '. Then I went into the back yard and smoked a pipe and wondered what it would be best to do.', '. As we rolled into Eyford Station we saw a gigantic column of smoke which streamed up from behind a small clump of trees in the neighbourhood and hung like an immense ostrich feather over the landscape.', '. Then he lit his pipe and sat for some time smoking and turning them over.', '. I had smoked two cigarettes before he moved.', '.  We had breakfasted and were smoking our morning pipe on the day after the remarkable experience which I have recorded when Mr.', '. I observed that he was smoking with extraordinary rapidity.', '. He does smoke something terrible.', '. From over a distant rise there floated a gray plume of smoke.', '. This might partly be due to the fact that a lamp stood flaring and smoking on the centre table.']\n"
          ]
        }
      ]
    }
  ]
}