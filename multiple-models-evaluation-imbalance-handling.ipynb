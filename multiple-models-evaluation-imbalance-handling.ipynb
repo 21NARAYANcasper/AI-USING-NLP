{
 "cells": [
  {
   "cell_type": "markdown",
   "id": "93abd624",
   "metadata": {
    "id": "8zn4oXuyHVFM",
    "papermill": {
     "duration": 0.020381,
     "end_time": "2023-09-05T21:09:58.933802",
     "exception": false,
     "start_time": "2023-09-05T21:09:58.913421",
     "status": "completed"
    },
    "tags": []
   },
   "source": [
    "**Credit Card Fraud Detection**"
   ]
  },
  {
   "cell_type": "markdown",
   "id": "70d9f5a7",
   "metadata": {
    "papermill": {
     "duration": 0.019463,
     "end_time": "2023-09-05T21:09:58.973135",
     "exception": false,
     "start_time": "2023-09-05T21:09:58.953672",
     "status": "completed"
    },
    "tags": []
   },
   "source": [
    "This file tries to explore the Credit Card Fraud Detection Dataset.\n",
    "The flow of the file is as follows:\n",
    "1. Data Exploration\n",
    "2. Modeling- \n",
    "               Exploring various Sampling methods,\n",
    "               Modeling using different ML Models- Logistic Regression, KNN, Random Forest, XGBoost, NN Network\n",
    "               Hyperparameter Tuning\n",
    "3. Evaluation of results\n",
    "4. Selection of Best Model and Ranking features absed on their feature importance\n"
   ]
  },
  {
   "cell_type": "code",
   "execution_count": 1,
   "id": "23d5330f",
   "metadata": {
    "execution": {
     "iopub.execute_input": "2023-09-05T21:09:59.014110Z",
     "iopub.status.busy": "2023-09-05T21:09:59.013533Z",
     "iopub.status.idle": "2023-09-05T21:09:59.780579Z",
     "shell.execute_reply": "2023-09-05T21:09:59.779636Z"
    },
    "papermill": {
     "duration": 0.790092,
     "end_time": "2023-09-05T21:09:59.782978",
     "exception": false,
     "start_time": "2023-09-05T21:09:58.992886",
     "status": "completed"
    },
    "tags": []
   },
   "outputs": [],
   "source": [
    "import os # accessing directory structure\n",
    "import pandas as pd # data processing, CSV file I/O (e.g. pd.read_csv)"
   ]
  },
  {
   "cell_type": "code",
   "execution_count": 2,
   "id": "d497264e",
   "metadata": {
    "execution": {
     "iopub.execute_input": "2023-09-05T21:09:59.825815Z",
     "iopub.status.busy": "2023-09-05T21:09:59.824272Z",
     "iopub.status.idle": "2023-09-05T21:09:59.839514Z",
     "shell.execute_reply": "2023-09-05T21:09:59.838677Z"
    },
    "id": "_-scW71pmsmi",
    "outputId": "dce83bcc-abb8-42f5-c624-ceb8a045a482",
    "papermill": {
     "duration": 0.038392,
     "end_time": "2023-09-05T21:09:59.841502",
     "exception": false,
     "start_time": "2023-09-05T21:09:59.803110",
     "status": "completed"
    },
    "tags": []
   },
   "outputs": [
    {
     "name": "stdout",
     "output_type": "stream",
     "text": [
      "/kaggle/input/creditcardfraud/creditcard.csv\n"
     ]
    }
   ],
   "source": [
    "for dirname, _, filenames in os.walk('/kaggle/input'):\n",
    "    for filename in filenames:\n",
    "        print(os.path.join(dirname, filename))"
   ]
  },
  {
   "cell_type": "code",
   "execution_count": 3,
   "id": "ef7d8fff",
   "metadata": {
    "execution": {
     "iopub.execute_input": "2023-09-05T21:09:59.883487Z",
     "iopub.status.busy": "2023-09-05T21:09:59.882118Z",
     "iopub.status.idle": "2023-09-05T21:10:01.020275Z",
     "shell.execute_reply": "2023-09-05T21:10:01.019352Z"
    },
    "id": "UzkD7U31mtvW",
    "papermill": {
     "duration": 1.161359,
     "end_time": "2023-09-05T21:10:01.022602",
     "exception": false,
     "start_time": "2023-09-05T21:09:59.861243",
     "status": "completed"
    },
    "tags": []
   },
   "outputs": [
    {
     "name": "stderr",
     "output_type": "stream",
     "text": [
      "/opt/conda/lib/python3.10/site-packages/scipy/__init__.py:146: UserWarning: A NumPy version >=1.16.5 and <1.23.0 is required for this version of SciPy (detected version 1.23.5\n",
      "  warnings.warn(f\"A NumPy version >={np_minversion} and <{np_maxversion}\"\n"
     ]
    }
   ],
   "source": [
    "#Importing the libraries\n",
    "import numpy as np\n",
    "import pandas as pd\n",
    "import matplotlib.pyplot as plt\n",
    "import seaborn as sns\n",
    "\n"
   ]
  },
  {
   "cell_type": "code",
   "execution_count": 4,
   "id": "b26a3086",
   "metadata": {
    "execution": {
     "iopub.execute_input": "2023-09-05T21:10:01.064761Z",
     "iopub.status.busy": "2023-09-05T21:10:01.064461Z",
     "iopub.status.idle": "2023-09-05T21:10:04.427240Z",
     "shell.execute_reply": "2023-09-05T21:10:04.426225Z"
    },
    "id": "wN0oLQ08oK7D",
    "papermill": {
     "duration": 3.386502,
     "end_time": "2023-09-05T21:10:04.430143",
     "exception": false,
     "start_time": "2023-09-05T21:10:01.043641",
     "status": "completed"
    },
    "tags": []
   },
   "outputs": [],
   "source": [
    "df = pd.read_csv('/kaggle/input/creditcardfraud/creditcard.csv', delimiter=',')"
   ]
  },
  {
   "cell_type": "code",
   "execution_count": 5,
   "id": "79e6930a",
   "metadata": {
    "execution": {
     "iopub.execute_input": "2023-09-05T21:10:04.474045Z",
     "iopub.status.busy": "2023-09-05T21:10:04.473758Z",
     "iopub.status.idle": "2023-09-05T21:10:04.511732Z",
     "shell.execute_reply": "2023-09-05T21:10:04.510924Z"
    },
    "id": "YWEKoV21oWJu",
    "outputId": "fa84d0cb-43ba-469a-800b-c6bec816a540",
    "papermill": {
     "duration": 0.061417,
     "end_time": "2023-09-05T21:10:04.513794",
     "exception": false,
     "start_time": "2023-09-05T21:10:04.452377",
     "status": "completed"
    },
    "tags": []
   },
   "outputs": [
    {
     "data": {
      "text/html": [
       "<div>\n",
       "<style scoped>\n",
       "    .dataframe tbody tr th:only-of-type {\n",
       "        vertical-align: middle;\n",
       "    }\n",
       "\n",
       "    .dataframe tbody tr th {\n",
       "        vertical-align: top;\n",
       "    }\n",
       "\n",
       "    .dataframe thead th {\n",
       "        text-align: right;\n",
       "    }\n",
       "</style>\n",
       "<table border=\"1\" class=\"dataframe\">\n",
       "  <thead>\n",
       "    <tr style=\"text-align: right;\">\n",
       "      <th></th>\n",
       "      <th>Time</th>\n",
       "      <th>V1</th>\n",
       "      <th>V2</th>\n",
       "      <th>V3</th>\n",
       "      <th>V4</th>\n",
       "      <th>V5</th>\n",
       "      <th>V6</th>\n",
       "      <th>V7</th>\n",
       "      <th>V8</th>\n",
       "      <th>V9</th>\n",
       "      <th>...</th>\n",
       "      <th>V21</th>\n",
       "      <th>V22</th>\n",
       "      <th>V23</th>\n",
       "      <th>V24</th>\n",
       "      <th>V25</th>\n",
       "      <th>V26</th>\n",
       "      <th>V27</th>\n",
       "      <th>V28</th>\n",
       "      <th>Amount</th>\n",
       "      <th>Class</th>\n",
       "    </tr>\n",
       "  </thead>\n",
       "  <tbody>\n",
       "    <tr>\n",
       "      <th>0</th>\n",
       "      <td>0.0</td>\n",
       "      <td>-1.359807</td>\n",
       "      <td>-0.072781</td>\n",
       "      <td>2.536347</td>\n",
       "      <td>1.378155</td>\n",
       "      <td>-0.338321</td>\n",
       "      <td>0.462388</td>\n",
       "      <td>0.239599</td>\n",
       "      <td>0.098698</td>\n",
       "      <td>0.363787</td>\n",
       "      <td>...</td>\n",
       "      <td>-0.018307</td>\n",
       "      <td>0.277838</td>\n",
       "      <td>-0.110474</td>\n",
       "      <td>0.066928</td>\n",
       "      <td>0.128539</td>\n",
       "      <td>-0.189115</td>\n",
       "      <td>0.133558</td>\n",
       "      <td>-0.021053</td>\n",
       "      <td>149.62</td>\n",
       "      <td>0</td>\n",
       "    </tr>\n",
       "    <tr>\n",
       "      <th>1</th>\n",
       "      <td>0.0</td>\n",
       "      <td>1.191857</td>\n",
       "      <td>0.266151</td>\n",
       "      <td>0.166480</td>\n",
       "      <td>0.448154</td>\n",
       "      <td>0.060018</td>\n",
       "      <td>-0.082361</td>\n",
       "      <td>-0.078803</td>\n",
       "      <td>0.085102</td>\n",
       "      <td>-0.255425</td>\n",
       "      <td>...</td>\n",
       "      <td>-0.225775</td>\n",
       "      <td>-0.638672</td>\n",
       "      <td>0.101288</td>\n",
       "      <td>-0.339846</td>\n",
       "      <td>0.167170</td>\n",
       "      <td>0.125895</td>\n",
       "      <td>-0.008983</td>\n",
       "      <td>0.014724</td>\n",
       "      <td>2.69</td>\n",
       "      <td>0</td>\n",
       "    </tr>\n",
       "    <tr>\n",
       "      <th>2</th>\n",
       "      <td>1.0</td>\n",
       "      <td>-1.358354</td>\n",
       "      <td>-1.340163</td>\n",
       "      <td>1.773209</td>\n",
       "      <td>0.379780</td>\n",
       "      <td>-0.503198</td>\n",
       "      <td>1.800499</td>\n",
       "      <td>0.791461</td>\n",
       "      <td>0.247676</td>\n",
       "      <td>-1.514654</td>\n",
       "      <td>...</td>\n",
       "      <td>0.247998</td>\n",
       "      <td>0.771679</td>\n",
       "      <td>0.909412</td>\n",
       "      <td>-0.689281</td>\n",
       "      <td>-0.327642</td>\n",
       "      <td>-0.139097</td>\n",
       "      <td>-0.055353</td>\n",
       "      <td>-0.059752</td>\n",
       "      <td>378.66</td>\n",
       "      <td>0</td>\n",
       "    </tr>\n",
       "    <tr>\n",
       "      <th>3</th>\n",
       "      <td>1.0</td>\n",
       "      <td>-0.966272</td>\n",
       "      <td>-0.185226</td>\n",
       "      <td>1.792993</td>\n",
       "      <td>-0.863291</td>\n",
       "      <td>-0.010309</td>\n",
       "      <td>1.247203</td>\n",
       "      <td>0.237609</td>\n",
       "      <td>0.377436</td>\n",
       "      <td>-1.387024</td>\n",
       "      <td>...</td>\n",
       "      <td>-0.108300</td>\n",
       "      <td>0.005274</td>\n",
       "      <td>-0.190321</td>\n",
       "      <td>-1.175575</td>\n",
       "      <td>0.647376</td>\n",
       "      <td>-0.221929</td>\n",
       "      <td>0.062723</td>\n",
       "      <td>0.061458</td>\n",
       "      <td>123.50</td>\n",
       "      <td>0</td>\n",
       "    </tr>\n",
       "    <tr>\n",
       "      <th>4</th>\n",
       "      <td>2.0</td>\n",
       "      <td>-1.158233</td>\n",
       "      <td>0.877737</td>\n",
       "      <td>1.548718</td>\n",
       "      <td>0.403034</td>\n",
       "      <td>-0.407193</td>\n",
       "      <td>0.095921</td>\n",
       "      <td>0.592941</td>\n",
       "      <td>-0.270533</td>\n",
       "      <td>0.817739</td>\n",
       "      <td>...</td>\n",
       "      <td>-0.009431</td>\n",
       "      <td>0.798278</td>\n",
       "      <td>-0.137458</td>\n",
       "      <td>0.141267</td>\n",
       "      <td>-0.206010</td>\n",
       "      <td>0.502292</td>\n",
       "      <td>0.219422</td>\n",
       "      <td>0.215153</td>\n",
       "      <td>69.99</td>\n",
       "      <td>0</td>\n",
       "    </tr>\n",
       "  </tbody>\n",
       "</table>\n",
       "<p>5 rows × 31 columns</p>\n",
       "</div>"
      ],
      "text/plain": [
       "   Time        V1        V2        V3        V4        V5        V6        V7  \\\n",
       "0   0.0 -1.359807 -0.072781  2.536347  1.378155 -0.338321  0.462388  0.239599   \n",
       "1   0.0  1.191857  0.266151  0.166480  0.448154  0.060018 -0.082361 -0.078803   \n",
       "2   1.0 -1.358354 -1.340163  1.773209  0.379780 -0.503198  1.800499  0.791461   \n",
       "3   1.0 -0.966272 -0.185226  1.792993 -0.863291 -0.010309  1.247203  0.237609   \n",
       "4   2.0 -1.158233  0.877737  1.548718  0.403034 -0.407193  0.095921  0.592941   \n",
       "\n",
       "         V8        V9  ...       V21       V22       V23       V24       V25  \\\n",
       "0  0.098698  0.363787  ... -0.018307  0.277838 -0.110474  0.066928  0.128539   \n",
       "1  0.085102 -0.255425  ... -0.225775 -0.638672  0.101288 -0.339846  0.167170   \n",
       "2  0.247676 -1.514654  ...  0.247998  0.771679  0.909412 -0.689281 -0.327642   \n",
       "3  0.377436 -1.387024  ... -0.108300  0.005274 -0.190321 -1.175575  0.647376   \n",
       "4 -0.270533  0.817739  ... -0.009431  0.798278 -0.137458  0.141267 -0.206010   \n",
       "\n",
       "        V26       V27       V28  Amount  Class  \n",
       "0 -0.189115  0.133558 -0.021053  149.62      0  \n",
       "1  0.125895 -0.008983  0.014724    2.69      0  \n",
       "2 -0.139097 -0.055353 -0.059752  378.66      0  \n",
       "3 -0.221929  0.062723  0.061458  123.50      0  \n",
       "4  0.502292  0.219422  0.215153   69.99      0  \n",
       "\n",
       "[5 rows x 31 columns]"
      ]
     },
     "execution_count": 5,
     "metadata": {},
     "output_type": "execute_result"
    }
   ],
   "source": [
    "df.head()"
   ]
  },
  {
   "cell_type": "markdown",
   "id": "38ee0364",
   "metadata": {
    "id": "NtD9j-_hqKCh",
    "papermill": {
     "duration": 0.020377,
     "end_time": "2023-09-05T21:10:04.554528",
     "exception": false,
     "start_time": "2023-09-05T21:10:04.534151",
     "status": "completed"
    },
    "tags": []
   },
   "source": [
    "As all columns are PCA tranformed, the data is scaled and has a gaussian distribution. Hence not much of data cleaning is to be performed"
   ]
  },
  {
   "cell_type": "markdown",
   "id": "33bb9fb1",
   "metadata": {
    "id": "siw624Layw-K",
    "papermill": {
     "duration": 0.01986,
     "end_time": "2023-09-05T21:10:04.594432",
     "exception": false,
     "start_time": "2023-09-05T21:10:04.574572",
     "status": "completed"
    },
    "tags": []
   },
   "source": [
    "# Exploratory Data Analysis"
   ]
  },
  {
   "cell_type": "code",
   "execution_count": 6,
   "id": "0af56edd",
   "metadata": {
    "execution": {
     "iopub.execute_input": "2023-09-05T21:10:04.635838Z",
     "iopub.status.busy": "2023-09-05T21:10:04.635565Z",
     "iopub.status.idle": "2023-09-05T21:10:05.073028Z",
     "shell.execute_reply": "2023-09-05T21:10:05.071869Z"
    },
    "id": "E1JIsrALrJWp",
    "outputId": "0c2e0eba-11d3-45e0-c239-6e52f4e47bc8",
    "papermill": {
     "duration": 0.460824,
     "end_time": "2023-09-05T21:10:05.075486",
     "exception": false,
     "start_time": "2023-09-05T21:10:04.614662",
     "status": "completed"
    },
    "tags": []
   },
   "outputs": [
    {
     "data": {
      "text/html": [
       "<div>\n",
       "<style scoped>\n",
       "    .dataframe tbody tr th:only-of-type {\n",
       "        vertical-align: middle;\n",
       "    }\n",
       "\n",
       "    .dataframe tbody tr th {\n",
       "        vertical-align: top;\n",
       "    }\n",
       "\n",
       "    .dataframe thead th {\n",
       "        text-align: right;\n",
       "    }\n",
       "</style>\n",
       "<table border=\"1\" class=\"dataframe\">\n",
       "  <thead>\n",
       "    <tr style=\"text-align: right;\">\n",
       "      <th></th>\n",
       "      <th>Time</th>\n",
       "      <th>V1</th>\n",
       "      <th>V2</th>\n",
       "      <th>V3</th>\n",
       "      <th>V4</th>\n",
       "      <th>V5</th>\n",
       "      <th>V6</th>\n",
       "      <th>V7</th>\n",
       "      <th>V8</th>\n",
       "      <th>V9</th>\n",
       "      <th>...</th>\n",
       "      <th>V21</th>\n",
       "      <th>V22</th>\n",
       "      <th>V23</th>\n",
       "      <th>V24</th>\n",
       "      <th>V25</th>\n",
       "      <th>V26</th>\n",
       "      <th>V27</th>\n",
       "      <th>V28</th>\n",
       "      <th>Amount</th>\n",
       "      <th>Class</th>\n",
       "    </tr>\n",
       "  </thead>\n",
       "  <tbody>\n",
       "    <tr>\n",
       "      <th>count</th>\n",
       "      <td>284807.000000</td>\n",
       "      <td>2.848070e+05</td>\n",
       "      <td>2.848070e+05</td>\n",
       "      <td>2.848070e+05</td>\n",
       "      <td>2.848070e+05</td>\n",
       "      <td>2.848070e+05</td>\n",
       "      <td>2.848070e+05</td>\n",
       "      <td>2.848070e+05</td>\n",
       "      <td>2.848070e+05</td>\n",
       "      <td>2.848070e+05</td>\n",
       "      <td>...</td>\n",
       "      <td>2.848070e+05</td>\n",
       "      <td>2.848070e+05</td>\n",
       "      <td>2.848070e+05</td>\n",
       "      <td>2.848070e+05</td>\n",
       "      <td>2.848070e+05</td>\n",
       "      <td>2.848070e+05</td>\n",
       "      <td>2.848070e+05</td>\n",
       "      <td>2.848070e+05</td>\n",
       "      <td>284807.000000</td>\n",
       "      <td>284807.000000</td>\n",
       "    </tr>\n",
       "    <tr>\n",
       "      <th>mean</th>\n",
       "      <td>94813.859575</td>\n",
       "      <td>1.168375e-15</td>\n",
       "      <td>3.416908e-16</td>\n",
       "      <td>-1.379537e-15</td>\n",
       "      <td>2.074095e-15</td>\n",
       "      <td>9.604066e-16</td>\n",
       "      <td>1.487313e-15</td>\n",
       "      <td>-5.556467e-16</td>\n",
       "      <td>1.213481e-16</td>\n",
       "      <td>-2.406331e-15</td>\n",
       "      <td>...</td>\n",
       "      <td>1.654067e-16</td>\n",
       "      <td>-3.568593e-16</td>\n",
       "      <td>2.578648e-16</td>\n",
       "      <td>4.473266e-15</td>\n",
       "      <td>5.340915e-16</td>\n",
       "      <td>1.683437e-15</td>\n",
       "      <td>-3.660091e-16</td>\n",
       "      <td>-1.227390e-16</td>\n",
       "      <td>88.349619</td>\n",
       "      <td>0.001727</td>\n",
       "    </tr>\n",
       "    <tr>\n",
       "      <th>std</th>\n",
       "      <td>47488.145955</td>\n",
       "      <td>1.958696e+00</td>\n",
       "      <td>1.651309e+00</td>\n",
       "      <td>1.516255e+00</td>\n",
       "      <td>1.415869e+00</td>\n",
       "      <td>1.380247e+00</td>\n",
       "      <td>1.332271e+00</td>\n",
       "      <td>1.237094e+00</td>\n",
       "      <td>1.194353e+00</td>\n",
       "      <td>1.098632e+00</td>\n",
       "      <td>...</td>\n",
       "      <td>7.345240e-01</td>\n",
       "      <td>7.257016e-01</td>\n",
       "      <td>6.244603e-01</td>\n",
       "      <td>6.056471e-01</td>\n",
       "      <td>5.212781e-01</td>\n",
       "      <td>4.822270e-01</td>\n",
       "      <td>4.036325e-01</td>\n",
       "      <td>3.300833e-01</td>\n",
       "      <td>250.120109</td>\n",
       "      <td>0.041527</td>\n",
       "    </tr>\n",
       "    <tr>\n",
       "      <th>min</th>\n",
       "      <td>0.000000</td>\n",
       "      <td>-5.640751e+01</td>\n",
       "      <td>-7.271573e+01</td>\n",
       "      <td>-4.832559e+01</td>\n",
       "      <td>-5.683171e+00</td>\n",
       "      <td>-1.137433e+02</td>\n",
       "      <td>-2.616051e+01</td>\n",
       "      <td>-4.355724e+01</td>\n",
       "      <td>-7.321672e+01</td>\n",
       "      <td>-1.343407e+01</td>\n",
       "      <td>...</td>\n",
       "      <td>-3.483038e+01</td>\n",
       "      <td>-1.093314e+01</td>\n",
       "      <td>-4.480774e+01</td>\n",
       "      <td>-2.836627e+00</td>\n",
       "      <td>-1.029540e+01</td>\n",
       "      <td>-2.604551e+00</td>\n",
       "      <td>-2.256568e+01</td>\n",
       "      <td>-1.543008e+01</td>\n",
       "      <td>0.000000</td>\n",
       "      <td>0.000000</td>\n",
       "    </tr>\n",
       "    <tr>\n",
       "      <th>25%</th>\n",
       "      <td>54201.500000</td>\n",
       "      <td>-9.203734e-01</td>\n",
       "      <td>-5.985499e-01</td>\n",
       "      <td>-8.903648e-01</td>\n",
       "      <td>-8.486401e-01</td>\n",
       "      <td>-6.915971e-01</td>\n",
       "      <td>-7.682956e-01</td>\n",
       "      <td>-5.540759e-01</td>\n",
       "      <td>-2.086297e-01</td>\n",
       "      <td>-6.430976e-01</td>\n",
       "      <td>...</td>\n",
       "      <td>-2.283949e-01</td>\n",
       "      <td>-5.423504e-01</td>\n",
       "      <td>-1.618463e-01</td>\n",
       "      <td>-3.545861e-01</td>\n",
       "      <td>-3.171451e-01</td>\n",
       "      <td>-3.269839e-01</td>\n",
       "      <td>-7.083953e-02</td>\n",
       "      <td>-5.295979e-02</td>\n",
       "      <td>5.600000</td>\n",
       "      <td>0.000000</td>\n",
       "    </tr>\n",
       "    <tr>\n",
       "      <th>50%</th>\n",
       "      <td>84692.000000</td>\n",
       "      <td>1.810880e-02</td>\n",
       "      <td>6.548556e-02</td>\n",
       "      <td>1.798463e-01</td>\n",
       "      <td>-1.984653e-02</td>\n",
       "      <td>-5.433583e-02</td>\n",
       "      <td>-2.741871e-01</td>\n",
       "      <td>4.010308e-02</td>\n",
       "      <td>2.235804e-02</td>\n",
       "      <td>-5.142873e-02</td>\n",
       "      <td>...</td>\n",
       "      <td>-2.945017e-02</td>\n",
       "      <td>6.781943e-03</td>\n",
       "      <td>-1.119293e-02</td>\n",
       "      <td>4.097606e-02</td>\n",
       "      <td>1.659350e-02</td>\n",
       "      <td>-5.213911e-02</td>\n",
       "      <td>1.342146e-03</td>\n",
       "      <td>1.124383e-02</td>\n",
       "      <td>22.000000</td>\n",
       "      <td>0.000000</td>\n",
       "    </tr>\n",
       "    <tr>\n",
       "      <th>75%</th>\n",
       "      <td>139320.500000</td>\n",
       "      <td>1.315642e+00</td>\n",
       "      <td>8.037239e-01</td>\n",
       "      <td>1.027196e+00</td>\n",
       "      <td>7.433413e-01</td>\n",
       "      <td>6.119264e-01</td>\n",
       "      <td>3.985649e-01</td>\n",
       "      <td>5.704361e-01</td>\n",
       "      <td>3.273459e-01</td>\n",
       "      <td>5.971390e-01</td>\n",
       "      <td>...</td>\n",
       "      <td>1.863772e-01</td>\n",
       "      <td>5.285536e-01</td>\n",
       "      <td>1.476421e-01</td>\n",
       "      <td>4.395266e-01</td>\n",
       "      <td>3.507156e-01</td>\n",
       "      <td>2.409522e-01</td>\n",
       "      <td>9.104512e-02</td>\n",
       "      <td>7.827995e-02</td>\n",
       "      <td>77.165000</td>\n",
       "      <td>0.000000</td>\n",
       "    </tr>\n",
       "    <tr>\n",
       "      <th>max</th>\n",
       "      <td>172792.000000</td>\n",
       "      <td>2.454930e+00</td>\n",
       "      <td>2.205773e+01</td>\n",
       "      <td>9.382558e+00</td>\n",
       "      <td>1.687534e+01</td>\n",
       "      <td>3.480167e+01</td>\n",
       "      <td>7.330163e+01</td>\n",
       "      <td>1.205895e+02</td>\n",
       "      <td>2.000721e+01</td>\n",
       "      <td>1.559499e+01</td>\n",
       "      <td>...</td>\n",
       "      <td>2.720284e+01</td>\n",
       "      <td>1.050309e+01</td>\n",
       "      <td>2.252841e+01</td>\n",
       "      <td>4.584549e+00</td>\n",
       "      <td>7.519589e+00</td>\n",
       "      <td>3.517346e+00</td>\n",
       "      <td>3.161220e+01</td>\n",
       "      <td>3.384781e+01</td>\n",
       "      <td>25691.160000</td>\n",
       "      <td>1.000000</td>\n",
       "    </tr>\n",
       "  </tbody>\n",
       "</table>\n",
       "<p>8 rows × 31 columns</p>\n",
       "</div>"
      ],
      "text/plain": [
       "                Time            V1            V2            V3            V4  \\\n",
       "count  284807.000000  2.848070e+05  2.848070e+05  2.848070e+05  2.848070e+05   \n",
       "mean    94813.859575  1.168375e-15  3.416908e-16 -1.379537e-15  2.074095e-15   \n",
       "std     47488.145955  1.958696e+00  1.651309e+00  1.516255e+00  1.415869e+00   \n",
       "min         0.000000 -5.640751e+01 -7.271573e+01 -4.832559e+01 -5.683171e+00   \n",
       "25%     54201.500000 -9.203734e-01 -5.985499e-01 -8.903648e-01 -8.486401e-01   \n",
       "50%     84692.000000  1.810880e-02  6.548556e-02  1.798463e-01 -1.984653e-02   \n",
       "75%    139320.500000  1.315642e+00  8.037239e-01  1.027196e+00  7.433413e-01   \n",
       "max    172792.000000  2.454930e+00  2.205773e+01  9.382558e+00  1.687534e+01   \n",
       "\n",
       "                 V5            V6            V7            V8            V9  \\\n",
       "count  2.848070e+05  2.848070e+05  2.848070e+05  2.848070e+05  2.848070e+05   \n",
       "mean   9.604066e-16  1.487313e-15 -5.556467e-16  1.213481e-16 -2.406331e-15   \n",
       "std    1.380247e+00  1.332271e+00  1.237094e+00  1.194353e+00  1.098632e+00   \n",
       "min   -1.137433e+02 -2.616051e+01 -4.355724e+01 -7.321672e+01 -1.343407e+01   \n",
       "25%   -6.915971e-01 -7.682956e-01 -5.540759e-01 -2.086297e-01 -6.430976e-01   \n",
       "50%   -5.433583e-02 -2.741871e-01  4.010308e-02  2.235804e-02 -5.142873e-02   \n",
       "75%    6.119264e-01  3.985649e-01  5.704361e-01  3.273459e-01  5.971390e-01   \n",
       "max    3.480167e+01  7.330163e+01  1.205895e+02  2.000721e+01  1.559499e+01   \n",
       "\n",
       "       ...           V21           V22           V23           V24  \\\n",
       "count  ...  2.848070e+05  2.848070e+05  2.848070e+05  2.848070e+05   \n",
       "mean   ...  1.654067e-16 -3.568593e-16  2.578648e-16  4.473266e-15   \n",
       "std    ...  7.345240e-01  7.257016e-01  6.244603e-01  6.056471e-01   \n",
       "min    ... -3.483038e+01 -1.093314e+01 -4.480774e+01 -2.836627e+00   \n",
       "25%    ... -2.283949e-01 -5.423504e-01 -1.618463e-01 -3.545861e-01   \n",
       "50%    ... -2.945017e-02  6.781943e-03 -1.119293e-02  4.097606e-02   \n",
       "75%    ...  1.863772e-01  5.285536e-01  1.476421e-01  4.395266e-01   \n",
       "max    ...  2.720284e+01  1.050309e+01  2.252841e+01  4.584549e+00   \n",
       "\n",
       "                V25           V26           V27           V28         Amount  \\\n",
       "count  2.848070e+05  2.848070e+05  2.848070e+05  2.848070e+05  284807.000000   \n",
       "mean   5.340915e-16  1.683437e-15 -3.660091e-16 -1.227390e-16      88.349619   \n",
       "std    5.212781e-01  4.822270e-01  4.036325e-01  3.300833e-01     250.120109   \n",
       "min   -1.029540e+01 -2.604551e+00 -2.256568e+01 -1.543008e+01       0.000000   \n",
       "25%   -3.171451e-01 -3.269839e-01 -7.083953e-02 -5.295979e-02       5.600000   \n",
       "50%    1.659350e-02 -5.213911e-02  1.342146e-03  1.124383e-02      22.000000   \n",
       "75%    3.507156e-01  2.409522e-01  9.104512e-02  7.827995e-02      77.165000   \n",
       "max    7.519589e+00  3.517346e+00  3.161220e+01  3.384781e+01   25691.160000   \n",
       "\n",
       "               Class  \n",
       "count  284807.000000  \n",
       "mean        0.001727  \n",
       "std         0.041527  \n",
       "min         0.000000  \n",
       "25%         0.000000  \n",
       "50%         0.000000  \n",
       "75%         0.000000  \n",
       "max         1.000000  \n",
       "\n",
       "[8 rows x 31 columns]"
      ]
     },
     "execution_count": 6,
     "metadata": {},
     "output_type": "execute_result"
    }
   ],
   "source": [
    "df.describe()"
   ]
  },
  {
   "cell_type": "markdown",
   "id": "9788ae70",
   "metadata": {
    "id": "duuAfcWO6FFK",
    "papermill": {
     "duration": 0.021061,
     "end_time": "2023-09-05T21:10:05.156173",
     "exception": false,
     "start_time": "2023-09-05T21:10:05.135112",
     "status": "completed"
    },
    "tags": []
   },
   "source": [
    "Since the variables are PCA tranformed. The variables are not interpretable, except for Amount and Time"
   ]
  },
  {
   "cell_type": "code",
   "execution_count": 7,
   "id": "72d39e33",
   "metadata": {
    "execution": {
     "iopub.execute_input": "2023-09-05T21:10:05.199199Z",
     "iopub.status.busy": "2023-09-05T21:10:05.198268Z",
     "iopub.status.idle": "2023-09-05T21:10:05.216993Z",
     "shell.execute_reply": "2023-09-05T21:10:05.215965Z"
    },
    "id": "ndnxcOPly4Q0",
    "outputId": "75f30c29-8c5e-4578-90ca-17a7832ea47d",
    "papermill": {
     "duration": 0.0424,
     "end_time": "2023-09-05T21:10:05.219053",
     "exception": false,
     "start_time": "2023-09-05T21:10:05.176653",
     "status": "completed"
    },
    "tags": []
   },
   "outputs": [
    {
     "data": {
      "text/plain": [
       "Time      0\n",
       "V1        0\n",
       "V2        0\n",
       "V3        0\n",
       "V4        0\n",
       "V5        0\n",
       "V6        0\n",
       "V7        0\n",
       "V8        0\n",
       "V9        0\n",
       "V10       0\n",
       "V11       0\n",
       "V12       0\n",
       "V13       0\n",
       "V14       0\n",
       "V15       0\n",
       "V16       0\n",
       "V17       0\n",
       "V18       0\n",
       "V19       0\n",
       "V20       0\n",
       "V21       0\n",
       "V22       0\n",
       "V23       0\n",
       "V24       0\n",
       "V25       0\n",
       "V26       0\n",
       "V27       0\n",
       "V28       0\n",
       "Amount    0\n",
       "Class     0\n",
       "dtype: int64"
      ]
     },
     "execution_count": 7,
     "metadata": {},
     "output_type": "execute_result"
    }
   ],
   "source": [
    "# Counting number of null values in each column\n",
    "df.isna().sum()"
   ]
  },
  {
   "cell_type": "markdown",
   "id": "0ead5d74",
   "metadata": {
    "id": "NeaaSU4NzQND",
    "papermill": {
     "duration": 0.020554,
     "end_time": "2023-09-05T21:10:05.260277",
     "exception": false,
     "start_time": "2023-09-05T21:10:05.239723",
     "status": "completed"
    },
    "tags": []
   },
   "source": [
    "###It can be seen that there are no null values. Thus no need to impute any missing values"
   ]
  },
  {
   "cell_type": "code",
   "execution_count": 8,
   "id": "fd5d3bc7",
   "metadata": {
    "execution": {
     "iopub.execute_input": "2023-09-05T21:10:05.302645Z",
     "iopub.status.busy": "2023-09-05T21:10:05.302350Z",
     "iopub.status.idle": "2023-09-05T21:10:05.310987Z",
     "shell.execute_reply": "2023-09-05T21:10:05.309986Z"
    },
    "id": "OIanFRes2QaT",
    "outputId": "1a518f0a-5fbe-434e-c793-ab5a00630c6c",
    "papermill": {
     "duration": 0.032224,
     "end_time": "2023-09-05T21:10:05.313154",
     "exception": false,
     "start_time": "2023-09-05T21:10:05.280930",
     "status": "completed"
    },
    "tags": []
   },
   "outputs": [
    {
     "data": {
      "text/plain": [
       "0.1727485630620034"
      ]
     },
     "execution_count": 8,
     "metadata": {},
     "output_type": "execute_result"
    }
   ],
   "source": [
    "# Determining Percentage of fradulaent Transactions\n",
    "df[df.Class==1].Class.sum()/df.Class.count()*100"
   ]
  },
  {
   "cell_type": "code",
   "execution_count": 9,
   "id": "0caa5278",
   "metadata": {
    "execution": {
     "iopub.execute_input": "2023-09-05T21:10:05.358487Z",
     "iopub.status.busy": "2023-09-05T21:10:05.358229Z",
     "iopub.status.idle": "2023-09-05T21:10:05.655654Z",
     "shell.execute_reply": "2023-09-05T21:10:05.654799Z"
    },
    "id": "ieggyt8ERgRv",
    "outputId": "2a2c8136-dd5d-46ec-ba0b-652479ff0584",
    "papermill": {
     "duration": 0.323838,
     "end_time": "2023-09-05T21:10:05.657718",
     "exception": false,
     "start_time": "2023-09-05T21:10:05.333880",
     "status": "completed"
    },
    "tags": []
   },
   "outputs": [
    {
     "data": {
      "image/png": "[encoded data removed]",
      "text/plain": [
       "<Figure size 800x600 with 1 Axes>"
      ]
     },
     "metadata": {},
     "output_type": "display_data"
    },
    {
     "name": "stdout",
     "output_type": "stream",
     "text": [
      "Fraudulent Transactions:\n",
      "Count: 492\n",
      "Percentage: 0.17%\n",
      "\n",
      "Non-Fraudulent Transactions:\n",
      "Count: 284315\n",
      "Percentage: 99.83%\n"
     ]
    }
   ],
   "source": [
    "# Create a bar plot for the number and percentage of fraudulent vs non-fraudulent transcations\n",
    "# Count the number of fraudulent and non-fraudulent transactions\n",
    "fraud_counts = df['Class'].value_counts()\n",
    "\n",
    "# Calculate the percentage of fraudulent and non-fraudulent transactions\n",
    "fraud_percentage = fraud_counts / len(df) * 100\n",
    "\n",
    "# Create a bar plot\n",
    "plt.figure(figsize=(8, 6))\n",
    "fraud_counts.plot(kind='bar', color=['blue', 'red'])\n",
    "plt.title('Number of Fraudulent vs Non-Fraudulent Transactions')\n",
    "plt.xlabel('Class')\n",
    "plt.ylabel('Number of Transactions')\n",
    "plt.xticks([0, 1], labels=['Non-Fraudulent', 'Fraudulent'], rotation=0)\n",
    "plt.show()\n",
    "\n",
    "# Print the counts and percentages\n",
    "print(\"Fraudulent Transactions:\")\n",
    "print(f\"Count: {fraud_counts[1]}\")\n",
    "print(f\"Percentage: {fraud_percentage[1]:.2f}%\")\n",
    "\n",
    "print(\"\\nNon-Fraudulent Transactions:\")\n",
    "print(f\"Count: {fraud_counts[0]}\")\n",
    "print(f\"Percentage: {fraud_percentage[0]:.2f}%\")"
   ]
  },
  {
   "cell_type": "markdown",
   "id": "29bab116",
   "metadata": {
    "id": "BKd_M4WeA1TI",
    "papermill": {
     "duration": 0.021427,
     "end_time": "2023-09-05T21:10:05.700876",
     "exception": false,
     "start_time": "2023-09-05T21:10:05.679449",
     "status": "completed"
    },
    "tags": []
   },
   "source": [
    "##Thus, it can be seen that only 0.173% of the transactions are actually fradulent.\n",
    "####Hence, the dataset will require sampling technique to balance the training dataset"
   ]
  },
  {
   "cell_type": "code",
   "execution_count": 10,
   "id": "063d9ef7",
   "metadata": {
    "execution": {
     "iopub.execute_input": "2023-09-05T21:10:05.745129Z",
     "iopub.status.busy": "2023-09-05T21:10:05.744391Z",
     "iopub.status.idle": "2023-09-05T21:10:06.091694Z",
     "shell.execute_reply": "2023-09-05T21:10:06.090777Z"
    },
    "id": "XWgqL3CnzN70",
    "outputId": "a4b46745-2f2c-43fa-e079-6a2639072f2e",
    "papermill": {
     "duration": 0.371336,
     "end_time": "2023-09-05T21:10:06.093702",
     "exception": false,
     "start_time": "2023-09-05T21:10:05.722366",
     "status": "completed"
    },
    "tags": []
   },
   "outputs": [
    {
     "data": {
      "text/plain": [
       "<Axes: xlabel='Class', ylabel='Amount'>"
      ]
     },
     "execution_count": 10,
     "metadata": {},
     "output_type": "execute_result"
    },
    {
     "data": {
      "image/png": "[encoded data removed]",
      "text/plain": [
       "<Figure size 640x480 with 1 Axes>"
      ]
     },
     "metadata": {},
     "output_type": "display_data"
    }
   ],
   "source": [
    "sns.boxplot(x=\"Class\",y=\"Amount\", data= df)"
   ]
  },
  {
   "cell_type": "markdown",
   "id": "79ab3f9d",
   "metadata": {
    "id": "3v8AMacQ8cEF",
    "papermill": {
     "duration": 0.021622,
     "end_time": "2023-09-05T21:10:06.137608",
     "exception": false,
     "start_time": "2023-09-05T21:10:06.115986",
     "status": "completed"
    },
    "tags": []
   },
   "source": [
    "Interestingly, the fradulent transactions have a lesser range of amount as compared to the non-fradulent ones"
   ]
  },
  {
   "cell_type": "code",
   "execution_count": 11,
   "id": "f27a9f65",
   "metadata": {
    "execution": {
     "iopub.execute_input": "2023-09-05T21:10:06.183441Z",
     "iopub.status.busy": "2023-09-05T21:10:06.182674Z",
     "iopub.status.idle": "2023-09-05T21:10:06.496500Z",
     "shell.execute_reply": "2023-09-05T21:10:06.495592Z"
    },
    "id": "r9I9TSMi0a2B",
    "outputId": "ccc889c2-f643-4c28-ff68-14dcc8eec21a",
    "papermill": {
     "duration": 0.338653,
     "end_time": "2023-09-05T21:10:06.498580",
     "exception": false,
     "start_time": "2023-09-05T21:10:06.159927",
     "status": "completed"
    },
    "tags": []
   },
   "outputs": [
    {
     "data": {
      "text/plain": [
       "<Axes: xlabel='Amount', ylabel='Count'>"
      ]
     },
     "execution_count": 11,
     "metadata": {},
     "output_type": "execute_result"
    },
    {
     "data": {
      "image/png": "[encoded data removed]",
      "text/plain": [
       "<Figure size 640x480 with 1 Axes>"
      ]
     },
     "metadata": {},
     "output_type": "display_data"
    }
   ],
   "source": [
    "sns.histplot(df[df.Class==1].Amount,bins=20,kde=True, color='blue')"
   ]
  },
  {
   "cell_type": "code",
   "execution_count": 12,
   "id": "72fa2975",
   "metadata": {
    "execution": {
     "iopub.execute_input": "2023-09-05T21:10:06.545748Z",
     "iopub.status.busy": "2023-09-05T21:10:06.544904Z",
     "iopub.status.idle": "2023-09-05T21:10:08.449839Z",
     "shell.execute_reply": "2023-09-05T21:10:08.448777Z"
    },
    "id": "PNHcuTpV9DOu",
    "outputId": "b3f8d3eb-eb1f-4706-c8f1-6d82e0984558",
    "papermill": {
     "duration": 1.930591,
     "end_time": "2023-09-05T21:10:08.451948",
     "exception": false,
     "start_time": "2023-09-05T21:10:06.521357",
     "status": "completed"
    },
    "tags": []
   },
   "outputs": [
    {
     "data": {
      "text/plain": [
       "<Axes: xlabel='Amount', ylabel='Count'>"
      ]
     },
     "execution_count": 12,
     "metadata": {},
     "output_type": "execute_result"
    },
    {
     "data": {
      "image/png": "[encoded data removed]",
      "text/plain": [
       "<Figure size 640x480 with 1 Axes>"
      ]
     },
     "metadata": {},
     "output_type": "display_data"
    }
   ],
   "source": [
    "sns.histplot(df[df.Class==0].Amount,bins=200,kde=True, color='blue')"
   ]
  },
  {
   "cell_type": "code",
   "execution_count": 13,
   "id": "a1492fa6",
   "metadata": {
    "execution": {
     "iopub.execute_input": "2023-09-05T21:10:08.500771Z",
     "iopub.status.busy": "2023-09-05T21:10:08.499117Z",
     "iopub.status.idle": "2023-09-05T21:10:09.716486Z",
     "shell.execute_reply": "2023-09-05T21:10:09.715414Z"
    },
    "id": "EVuMTK9dSMJ8",
    "outputId": "539c68b7-3690-47da-9c29-7d5a5a34ed76",
    "papermill": {
     "duration": 1.243622,
     "end_time": "2023-09-05T21:10:09.718795",
     "exception": false,
     "start_time": "2023-09-05T21:10:08.475173",
     "status": "completed"
    },
    "tags": []
   },
   "outputs": [
    {
     "data": {
      "text/plain": [
       "<Axes: xlabel='Time', ylabel='Class'>"
      ]
     },
     "execution_count": 13,
     "metadata": {},
     "output_type": "execute_result"
    },
    {
     "data": {
      "image/png": "[encoded data removed]",
      "text/plain": [
       "<Figure size 640x480 with 1 Axes>"
      ]
     },
     "metadata": {},
     "output_type": "display_data"
    }
   ],
   "source": [
    "# Creating a scatter plot to observe the distribution of classes with time\n",
    "sns.scatterplot(y=\"Class\",x=\"Time\", data=df)"
   ]
  },
  {
   "cell_type": "code",
   "execution_count": 14,
   "id": "eb2bcc1a",
   "metadata": {
    "execution": {
     "iopub.execute_input": "2023-09-05T21:10:09.769529Z",
     "iopub.status.busy": "2023-09-05T21:10:09.769237Z",
     "iopub.status.idle": "2023-09-05T21:10:11.010518Z",
     "shell.execute_reply": "2023-09-05T21:10:11.009607Z"
    },
    "id": "Onpp9uk-Sqtl",
    "outputId": "acb43dbb-90cf-4e8c-d12e-dc1fba7f7e25",
    "papermill": {
     "duration": 1.267582,
     "end_time": "2023-09-05T21:10:11.012577",
     "exception": false,
     "start_time": "2023-09-05T21:10:09.744995",
     "status": "completed"
    },
    "tags": []
   },
   "outputs": [
    {
     "data": {
      "text/plain": [
       "<Axes: xlabel='Amount', ylabel='Class'>"
      ]
     },
     "execution_count": 14,
     "metadata": {},
     "output_type": "execute_result"
    },
    {
     "data": {
      "image/png": "[encoded data removed]",
      "text/plain": [
       "<Figure size 640x480 with 1 Axes>"
      ]
     },
     "metadata": {},
     "output_type": "display_data"
    }
   ],
   "source": [
    "# Creating a scatter plot to observe the distribution of classes with Amount\n",
    "sns.scatterplot(x=\"Amount\",y=\"Class\",data=df)"
   ]
  },
  {
   "cell_type": "markdown",
   "id": "528dd0bd",
   "metadata": {
    "id": "MUa7_MJNS5N5",
    "papermill": {
     "duration": 0.023991,
     "end_time": "2023-09-05T21:10:11.060659",
     "exception": false,
     "start_time": "2023-09-05T21:10:11.036668",
     "status": "completed"
    },
    "tags": []
   },
   "source": [
    "Fraudulent transactions are actually low value transactions"
   ]
  },
  {
   "cell_type": "markdown",
   "id": "e079faf6",
   "metadata": {
    "id": "P7ARpQ5GQpfi",
    "papermill": {
     "duration": 0.023441,
     "end_time": "2023-09-05T21:10:11.107854",
     "exception": false,
     "start_time": "2023-09-05T21:10:11.084413",
     "status": "completed"
    },
    "tags": []
   },
   "source": [
    "# Modeling"
   ]
  },
  {
   "cell_type": "markdown",
   "id": "af5921da",
   "metadata": {
    "id": "-88mgRqMPo3F",
    "papermill": {
     "duration": 0.023509,
     "end_time": "2023-09-05T21:10:11.154824",
     "exception": false,
     "start_time": "2023-09-05T21:10:11.131315",
     "status": "completed"
    },
    "tags": []
   },
   "source": [
    "#####Since the number of fraudulent samples are less, Sampling techniques need to be applied to ensure the models are rightly built"
   ]
  },
  {
   "cell_type": "markdown",
   "id": "1f11ab40",
   "metadata": {
    "id": "K8doVV36RgoU",
    "papermill": {
     "duration": 0.023621,
     "end_time": "2023-09-05T21:10:11.202023",
     "exception": false,
     "start_time": "2023-09-05T21:10:11.178402",
     "status": "completed"
    },
    "tags": []
   },
   "source": [
    "###Trying different sampling techniques"
   ]
  },
  {
   "cell_type": "code",
   "execution_count": 15,
   "id": "3d3d3d25",
   "metadata": {
    "execution": {
     "iopub.execute_input": "2023-09-05T21:10:11.250579Z",
     "iopub.status.busy": "2023-09-05T21:10:11.250252Z",
     "iopub.status.idle": "2023-09-05T21:10:11.577831Z",
     "shell.execute_reply": "2023-09-05T21:10:11.576869Z"
    },
    "id": "yEJUyctwRlcy",
    "papermill": {
     "duration": 0.354701,
     "end_time": "2023-09-05T21:10:11.580240",
     "exception": false,
     "start_time": "2023-09-05T21:10:11.225539",
     "status": "completed"
    },
    "tags": []
   },
   "outputs": [],
   "source": [
    "from sklearn.model_selection import train_test_split\n",
    "from sklearn.preprocessing import StandardScaler\n",
    "from sklearn.linear_model import LogisticRegression\n",
    "from sklearn.metrics import classification_report, confusion_matrix, accuracy_score, precision_score, recall_score, f1_score\n"
   ]
  },
  {
   "cell_type": "code",
   "execution_count": 16,
   "id": "7fa08464",
   "metadata": {
    "execution": {
     "iopub.execute_input": "2023-09-05T21:10:11.630270Z",
     "iopub.status.busy": "2023-09-05T21:10:11.629477Z",
     "iopub.status.idle": "2023-09-05T21:10:11.827936Z",
     "shell.execute_reply": "2023-09-05T21:10:11.826919Z"
    },
    "id": "xaRz5dlpSoN4",
    "papermill": {
     "duration": 0.225613,
     "end_time": "2023-09-05T21:10:11.830494",
     "exception": false,
     "start_time": "2023-09-05T21:10:11.604881",
     "status": "completed"
    },
    "tags": []
   },
   "outputs": [],
   "source": [
    "# Split the data into training and testing sets\n",
    "X=df.copy()\n",
    "y=X.pop('Class')\n",
    "X_train, X_test, y_train, y_test = train_test_split(X, y, test_size=0.2, random_state=50, stratify=y)"
   ]
  },
  {
   "cell_type": "code",
   "execution_count": 17,
   "id": "b693ca7c",
   "metadata": {
    "execution": {
     "iopub.execute_input": "2023-09-05T21:10:11.880194Z",
     "iopub.status.busy": "2023-09-05T21:10:11.879875Z",
     "iopub.status.idle": "2023-09-05T21:10:11.889458Z",
     "shell.execute_reply": "2023-09-05T21:10:11.888598Z"
    },
    "id": "RpfCXvLVVYtP",
    "outputId": "3adef4af-da14-42b2-b2ac-5ef6f46ffcdc",
    "papermill": {
     "duration": 0.036751,
     "end_time": "2023-09-05T21:10:11.891503",
     "exception": false,
     "start_time": "2023-09-05T21:10:11.854752",
     "status": "completed"
    },
    "tags": []
   },
   "outputs": [
    {
     "data": {
      "text/plain": [
       "0.001729245759178389"
      ]
     },
     "execution_count": 17,
     "metadata": {},
     "output_type": "execute_result"
    }
   ],
   "source": [
    "y_train.sum()/y_train.count()"
   ]
  },
  {
   "cell_type": "code",
   "execution_count": 18,
   "id": "3a316986",
   "metadata": {
    "execution": {
     "iopub.execute_input": "2023-09-05T21:10:11.941088Z",
     "iopub.status.busy": "2023-09-05T21:10:11.940809Z",
     "iopub.status.idle": "2023-09-05T21:10:11.947220Z",
     "shell.execute_reply": "2023-09-05T21:10:11.946334Z"
    },
    "id": "PjwhFHMOVbnr",
    "outputId": "a4a86c0c-71d2-4193-b650-68a3d155975e",
    "papermill": {
     "duration": 0.033907,
     "end_time": "2023-09-05T21:10:11.949266",
     "exception": false,
     "start_time": "2023-09-05T21:10:11.915359",
     "status": "completed"
    },
    "tags": []
   },
   "outputs": [
    {
     "data": {
      "text/plain": [
       "0.0017204452090867595"
      ]
     },
     "execution_count": 18,
     "metadata": {},
     "output_type": "execute_result"
    }
   ],
   "source": [
    "y_test.sum()/y_test.count()"
   ]
  },
  {
   "cell_type": "markdown",
   "id": "fe7a62b4",
   "metadata": {
    "id": "-ZsqErflVknW",
    "papermill": {
     "duration": 0.023742,
     "end_time": "2023-09-05T21:10:11.996960",
     "exception": false,
     "start_time": "2023-09-05T21:10:11.973218",
     "status": "completed"
    },
    "tags": []
   },
   "source": [
    "It can be seen that both the test and train sets have equal percentage of fraudulent transactions, as stratify is set to True"
   ]
  },
  {
   "cell_type": "markdown",
   "id": "99d7efb2",
   "metadata": {
    "id": "XFu-EZQ8UXWa",
    "papermill": {
     "duration": 0.023503,
     "end_time": "2023-09-05T21:10:12.044160",
     "exception": false,
     "start_time": "2023-09-05T21:10:12.020657",
     "status": "completed"
    },
    "tags": []
   },
   "source": [
    "###Using Logistic Regression as the base model to determine which sampling technique is better suited for this use case"
   ]
  },
  {
   "cell_type": "code",
   "execution_count": 19,
   "id": "a4d6eb0f",
   "metadata": {
    "execution": {
     "iopub.execute_input": "2023-09-05T21:10:12.095934Z",
     "iopub.status.busy": "2023-09-05T21:10:12.095643Z",
     "iopub.status.idle": "2023-09-05T21:10:13.810347Z",
     "shell.execute_reply": "2023-09-05T21:10:13.809439Z"
    },
    "id": "UFdbgDHoTl6O",
    "outputId": "f01812dc-4d6a-4ddf-9604-0864ceb15f0a",
    "papermill": {
     "duration": 1.744771,
     "end_time": "2023-09-05T21:10:13.813455",
     "exception": false,
     "start_time": "2023-09-05T21:10:12.068684",
     "status": "completed"
    },
    "tags": []
   },
   "outputs": [
    {
     "data": {
      "text/html": [
       "<style>#sk-container-id-1 {color: black;background-color: white;}#sk-container-id-1 pre{padding: 0;}#sk-container-id-1 div.sk-toggleable {background-color: white;}#sk-container-id-1 label.sk-toggleable__label {cursor: pointer;display: block;width: 100%;margin-bottom: 0;padding: 0.3em;box-sizing: border-box;text-align: center;}#sk-container-id-1 label.sk-toggleable__label-arrow:before {content: \"▸\";float: left;margin-right: 0.25em;color: #696969;}#sk-container-id-1 label.sk-toggleable__label-arrow:hover:before {color: black;}#sk-container-id-1 div.sk-estimator:hover label.sk-toggleable__label-arrow:before {color: black;}#sk-container-id-1 div.sk-toggleable__content {max-height: 0;max-width: 0;overflow: hidden;text-align: left;background-color: #f0f8ff;}#sk-container-id-1 div.sk-toggleable__content pre {margin: 0.2em;color: black;border-radius: 0.25em;background-color: #f0f8ff;}#sk-container-id-1 input.sk-toggleable__control:checked~div.sk-toggleable__content {max-height: 200px;max-width: 100%;overflow: auto;}#sk-container-id-1 input.sk-toggleable__control:checked~label.sk-toggleable__label-arrow:before {content: \"▾\";}#sk-container-id-1 div.sk-estimator input.sk-toggleable__control:checked~label.sk-toggleable__label {background-color: #d4ebff;}#sk-container-id-1 div.sk-label input.sk-toggleable__control:checked~label.sk-toggleable__label {background-color: #d4ebff;}#sk-container-id-1 input.sk-hidden--visually {border: 0;clip: rect(1px 1px 1px 1px);clip: rect(1px, 1px, 1px, 1px);height: 1px;margin: -1px;overflow: hidden;padding: 0;position: absolute;width: 1px;}#sk-container-id-1 div.sk-estimator {font-family: monospace;background-color: #f0f8ff;border: 1px dotted black;border-radius: 0.25em;box-sizing: border-box;margin-bottom: 0.5em;}#sk-container-id-1 div.sk-estimator:hover {background-color: #d4ebff;}#sk-container-id-1 div.sk-parallel-item::after {content: \"\";width: 100%;border-bottom: 1px solid gray;flex-grow: 1;}#sk-container-id-1 div.sk-label:hover label.sk-toggleable__label {background-color: #d4ebff;}#sk-container-id-1 div.sk-serial::before {content: \"\";position: absolute;border-left: 1px solid gray;box-sizing: border-box;top: 0;bottom: 0;left: 50%;z-index: 0;}#sk-container-id-1 div.sk-serial {display: flex;flex-direction: column;align-items: center;background-color: white;padding-right: 0.2em;padding-left: 0.2em;position: relative;}#sk-container-id-1 div.sk-item {position: relative;z-index: 1;}#sk-container-id-1 div.sk-parallel {display: flex;align-items: stretch;justify-content: center;background-color: white;position: relative;}#sk-container-id-1 div.sk-item::before, #sk-container-id-1 div.sk-parallel-item::before {content: \"\";position: absolute;border-left: 1px solid gray;box-sizing: border-box;top: 0;bottom: 0;left: 50%;z-index: -1;}#sk-container-id-1 div.sk-parallel-item {display: flex;flex-direction: column;z-index: 1;position: relative;background-color: white;}#sk-container-id-1 div.sk-parallel-item:first-child::after {align-self: flex-end;width: 50%;}#sk-container-id-1 div.sk-parallel-item:last-child::after {align-self: flex-start;width: 50%;}#sk-container-id-1 div.sk-parallel-item:only-child::after {width: 0;}#sk-container-id-1 div.sk-dashed-wrapped {border: 1px dashed gray;margin: 0 0.4em 0.5em 0.4em;box-sizing: border-box;padding-bottom: 0.4em;background-color: white;}#sk-container-id-1 div.sk-label label {font-family: monospace;font-weight: bold;display: inline-block;line-height: 1.2em;}#sk-container-id-1 div.sk-label-container {text-align: center;}#sk-container-id-1 div.sk-container {/* jupyter's `normalize.less` sets `[hidden] { display: none; }` but bootstrap.min.css set `[hidden] { display: none !important; }` so we also need the `!important` here to be able to override the default hidden behavior on the sphinx rendered scikit-learn.org. See: https://github.com/scikit-learn/scikit-learn/issues/21755 */display: inline-block !important;position: relative;}#sk-container-id-1 div.sk-text-repr-fallback {display: none;}</style><div id=\"sk-container-id-1\" class=\"sk-top-container\"><div class=\"sk-text-repr-fallback\"><pre>LogisticRegression(random_state=50)</pre><b>In a Jupyter environment, please rerun this cell to show the HTML representation or trust the notebook. <br />On GitHub, the HTML representation is unable to render, please try loading this page with nbviewer.org.</b></div><div class=\"sk-container\" hidden><div class=\"sk-item\"><div class=\"sk-estimator sk-toggleable\"><input class=\"sk-toggleable__control sk-hidden--visually\" id=\"sk-estimator-id-1\" type=\"checkbox\" checked><label for=\"sk-estimator-id-1\" class=\"sk-toggleable__label sk-toggleable__label-arrow\">LogisticRegression</label><div class=\"sk-toggleable__content\"><pre>LogisticRegression(random_state=50)</pre></div></div></div></div></div>"
      ],
      "text/plain": [
       "LogisticRegression(random_state=50)"
      ]
     },
     "execution_count": 19,
     "metadata": {},
     "output_type": "execute_result"
    }
   ],
   "source": [
    "# Standardize the features\n",
    "scaler = StandardScaler()\n",
    "X_train_scaled = scaler.fit_transform(X_train)\n",
    "X_test_scaled = scaler.transform(X_test)\n",
    "\n",
    "#Initialize and train the Logistic Regression model\n",
    "model = LogisticRegression(random_state=50)\n",
    "model.fit(X_train_scaled, y_train)"
   ]
  },
  {
   "cell_type": "code",
   "execution_count": 20,
   "id": "03484ed9",
   "metadata": {
    "execution": {
     "iopub.execute_input": "2023-09-05T21:10:13.920111Z",
     "iopub.status.busy": "2023-09-05T21:10:13.919521Z",
     "iopub.status.idle": "2023-09-05T21:10:14.073957Z",
     "shell.execute_reply": "2023-09-05T21:10:14.072545Z"
    },
    "id": "V8FBGelKWVup",
    "outputId": "2efd0a16-9f55-4e12-e483-22bfdd54fb22",
    "papermill": {
     "duration": 0.209677,
     "end_time": "2023-09-05T21:10:14.076102",
     "exception": false,
     "start_time": "2023-09-05T21:10:13.866425",
     "status": "completed"
    },
    "tags": []
   },
   "outputs": [
    {
     "name": "stdout",
     "output_type": "stream",
     "text": [
      "Confusion Matrix:\n",
      "[[56858     6]\n",
      " [   35    63]]\n",
      "\n",
      "Classification Report:\n",
      "              precision    recall  f1-score   support\n",
      "\n",
      "           0       1.00      1.00      1.00     56864\n",
      "           1       0.91      0.64      0.75        98\n",
      "\n",
      "    accuracy                           1.00     56962\n",
      "   macro avg       0.96      0.82      0.88     56962\n",
      "weighted avg       1.00      1.00      1.00     56962\n",
      "\n"
     ]
    }
   ],
   "source": [
    "# Make predictions on the test set\n",
    "y_pred = model.predict(X_test_scaled)\n",
    "# Evaluate the model\n",
    "print(\"Confusion Matrix:\")\n",
    "print(confusion_matrix(y_test, y_pred))\n",
    "\n",
    "print(\"\\nClassification Report:\")\n",
    "print(classification_report(y_test, y_pred))"
   ]
  },
  {
   "cell_type": "code",
   "execution_count": 21,
   "id": "c8d69082",
   "metadata": {
    "execution": {
     "iopub.execute_input": "2023-09-05T21:10:14.125935Z",
     "iopub.status.busy": "2023-09-05T21:10:14.125665Z",
     "iopub.status.idle": "2023-09-05T21:10:14.183136Z",
     "shell.execute_reply": "2023-09-05T21:10:14.181812Z"
    },
    "id": "-r1dfmhVXGxU",
    "outputId": "5da8826d-4ba9-43cf-c515-5a9d471003e1",
    "papermill": {
     "duration": 0.084767,
     "end_time": "2023-09-05T21:10:14.185185",
     "exception": false,
     "start_time": "2023-09-05T21:10:14.100418",
     "status": "completed"
    },
    "tags": []
   },
   "outputs": [
    {
     "name": "stdout",
     "output_type": "stream",
     "text": [
      "     Iteration  Accuracy  Precision    Recall  F1-Score\n",
      "0  No_Sampling   0.99928   0.913043  0.642857  0.754491\n"
     ]
    }
   ],
   "source": [
    "# Calculate the metrics\n",
    "accuracy = accuracy_score(y_test , y_pred)\n",
    "precision = precision_score(y_test, y_pred)\n",
    "recall = recall_score(y_test, y_pred)\n",
    "f1 = f1_score(y_test, y_pred)\n",
    "results=pd.DataFrame(columns=['Iteration','Accuracy', 'Precision', 'Recall', 'F1-Score'])\n",
    "# Create a DataFrame\n",
    "results=results._append({'Iteration':'No_Sampling','Accuracy':accuracy, 'Precision':precision, 'Recall':recall, 'F1-Score':f1}, ignore_index=True)\n",
    "\n",
    "# Display the result DataFrame\n",
    "print(results)"
   ]
  },
  {
   "cell_type": "code",
   "execution_count": 22,
   "id": "00cbce55",
   "metadata": {
    "execution": {
     "iopub.execute_input": "2023-09-05T21:10:14.236366Z",
     "iopub.status.busy": "2023-09-05T21:10:14.235766Z",
     "iopub.status.idle": "2023-09-05T21:10:14.858451Z",
     "shell.execute_reply": "2023-09-05T21:10:14.857462Z"
    },
    "id": "GWFFQYD2n_3o",
    "papermill": {
     "duration": 0.650422,
     "end_time": "2023-09-05T21:10:14.860939",
     "exception": false,
     "start_time": "2023-09-05T21:10:14.210517",
     "status": "completed"
    },
    "tags": []
   },
   "outputs": [],
   "source": [
    "from imblearn.over_sampling import RandomOverSampler\n",
    "# Perform random upsampling using RandomOverSampler\n",
    "oversampler = RandomOverSampler(sampling_strategy='minority', random_state=25)\n",
    "X_train_resampled, y_train_resampled = oversampler.fit_resample(X_train, y_train)"
   ]
  },
  {
   "cell_type": "code",
   "execution_count": 23,
   "id": "b9ca3065",
   "metadata": {
    "execution": {
     "iopub.execute_input": "2023-09-05T21:10:14.914601Z",
     "iopub.status.busy": "2023-09-05T21:10:14.914193Z",
     "iopub.status.idle": "2023-09-05T21:10:14.921492Z",
     "shell.execute_reply": "2023-09-05T21:10:14.920567Z"
    },
    "id": "2LhfkS_4pD5l",
    "outputId": "3af3d6d4-cb65-4f53-ec6e-f16fa13351aa",
    "papermill": {
     "duration": 0.036275,
     "end_time": "2023-09-05T21:10:14.923643",
     "exception": false,
     "start_time": "2023-09-05T21:10:14.887368",
     "status": "completed"
    },
    "tags": []
   },
   "outputs": [
    {
     "data": {
      "text/plain": [
       "0.5"
      ]
     },
     "execution_count": 23,
     "metadata": {},
     "output_type": "execute_result"
    }
   ],
   "source": [
    "y_train_resampled.sum()/y_train_resampled.count()"
   ]
  },
  {
   "cell_type": "markdown",
   "id": "3b6bd6cd",
   "metadata": {
    "id": "dksmqeHbpTIJ",
    "papermill": {
     "duration": 0.024471,
     "end_time": "2023-09-05T21:10:14.972549",
     "exception": false,
     "start_time": "2023-09-05T21:10:14.948078",
     "status": "completed"
    },
    "tags": []
   },
   "source": [
    "### It can be seen that the number of fraudulent transactions have been Oversampled to bring its proportion to 50% of the training dataset"
   ]
  },
  {
   "cell_type": "code",
   "execution_count": 24,
   "id": "ed1c6b29",
   "metadata": {
    "execution": {
     "iopub.execute_input": "2023-09-05T21:10:15.022253Z",
     "iopub.status.busy": "2023-09-05T21:10:15.021991Z",
     "iopub.status.idle": "2023-09-05T21:10:23.559304Z",
     "shell.execute_reply": "2023-09-05T21:10:23.558097Z"
    },
    "id": "IBxWmVT8oWsG",
    "outputId": "33ec036b-8e1b-4ba6-b5e3-41a2b8d486c3",
    "papermill": {
     "duration": 8.566179,
     "end_time": "2023-09-05T21:10:23.562934",
     "exception": false,
     "start_time": "2023-09-05T21:10:14.996755",
     "status": "completed"
    },
    "tags": []
   },
   "outputs": [
    {
     "name": "stdout",
     "output_type": "stream",
     "text": [
      "           Iteration  Accuracy  Precision    Recall  F1-Score\n",
      "0        No_Sampling  0.999280   0.913043  0.642857  0.754491\n",
      "1  Random_Upsampling  0.964239   0.042904  0.928571  0.082019\n"
     ]
    }
   ],
   "source": [
    "# Initialize and train the Logistic Regression model\n",
    "model = LogisticRegression(random_state=50,max_iter=1000)\n",
    "model.fit(X_train_resampled, y_train_resampled)\n",
    "\n",
    "# Make predictions on the test set\n",
    "y_pred = model.predict(X_test)\n",
    "\n",
    "# Calculate the metrics\n",
    "accuracy = accuracy_score(y_test, y_pred)\n",
    "precision = precision_score(y_test, y_pred)\n",
    "recall = recall_score(y_test, y_pred)\n",
    "f1 = f1_score(y_test, y_pred)\n",
    "\n",
    "# Create a DataFrame to store results\n",
    "#results = pd.DataFrame(columns=['Iteration', 'Accuracy', 'Precision', 'Recall', 'F1-Score'])\n",
    "\n",
    "# Append the results as a row to the DataFrame\n",
    "results = results._append({'Iteration': 'Random_Upsampling', 'Accuracy': accuracy, 'Precision': precision, 'Recall': recall, 'F1-Score': f1}, ignore_index=True)\n",
    "\n",
    "# Display the result DataFrame\n",
    "print(results)"
   ]
  },
  {
   "cell_type": "markdown",
   "id": "60140234",
   "metadata": {
    "id": "TztNOIFurEfI",
    "papermill": {
     "duration": 0.024365,
     "end_time": "2023-09-05T21:10:23.613957",
     "exception": false,
     "start_time": "2023-09-05T21:10:23.589592",
     "status": "completed"
    },
    "tags": []
   },
   "source": [
    "It can be seen that the Recall went up to 0.92 from 0.64 in the earlier case, which means the model is performing better at detecting Fraudulent transaction.\n",
    "However the precision of the model has decreased drastically. A lower precision means that the model's predictions for the positive class (here, fraudulent transactions) are less accurate or have a higher rate of false positives."
   ]
  },
  {
   "cell_type": "markdown",
   "id": "d6661fd0",
   "metadata": {
    "id": "bPO2RKTjsi6a",
    "papermill": {
     "duration": 0.024091,
     "end_time": "2023-09-05T21:10:23.662332",
     "exception": false,
     "start_time": "2023-09-05T21:10:23.638241",
     "status": "completed"
    },
    "tags": []
   },
   "source": [
    "High Precision: When precision is high, it means that when the model predicts a transaction as fraudulent, it is likely to be correct. This is important when the cost of false alarms (flagging a legitimate transaction as fraudulent) is high.\n",
    "\n",
    "Low Precision: When precision is low, the model is incorrectly flagging more legitimate transactions as fraudulent. This can be problematic, as it can result in user inconvenience and dissatisfaction due to unnecessary transaction holds or declines."
   ]
  },
  {
   "cell_type": "markdown",
   "id": "904840a8",
   "metadata": {
    "id": "86ou2ChRuSoj",
    "papermill": {
     "duration": 0.024601,
     "end_time": "2023-09-05T21:10:23.711611",
     "exception": false,
     "start_time": "2023-09-05T21:10:23.687010",
     "status": "completed"
    },
    "tags": []
   },
   "source": [
    "Since the business case prioritises identifying the fraudulent transactions accurately than the non-fraudulent ones,\n",
    "\n",
    "**Recall is the focus metric for this case study**\n",
    "\n",
    "\n",
    "\n",
    "\n",
    "\n"
   ]
  },
  {
   "cell_type": "code",
   "execution_count": 25,
   "id": "db846229",
   "metadata": {
    "execution": {
     "iopub.execute_input": "2023-09-05T21:10:23.762329Z",
     "iopub.status.busy": "2023-09-05T21:10:23.761719Z",
     "iopub.status.idle": "2023-09-05T21:10:23.993669Z",
     "shell.execute_reply": "2023-09-05T21:10:23.992676Z"
    },
    "id": "ISGq-TNJrFOM",
    "outputId": "90cadcb3-5e48-4ac6-aef1-20de4cccbdec",
    "papermill": {
     "duration": 0.260845,
     "end_time": "2023-09-05T21:10:23.997232",
     "exception": false,
     "start_time": "2023-09-05T21:10:23.736387",
     "status": "completed"
    },
    "tags": []
   },
   "outputs": [
    {
     "name": "stdout",
     "output_type": "stream",
     "text": [
      "              Iteration  Accuracy  Precision    Recall  F1-Score\n",
      "0           No_Sampling  0.999280   0.913043  0.642857  0.754491\n",
      "1     Random_Upsampling  0.964239   0.042904  0.928571  0.082019\n",
      "2  Random_Undersampling  0.939714   0.025867  0.928571  0.050332\n"
     ]
    }
   ],
   "source": [
    "from imblearn.under_sampling import RandomUnderSampler\n",
    "# Perform random undersampling using RandomUnderSampler\n",
    "undersampler = RandomUnderSampler(sampling_strategy='majority', random_state=25)\n",
    "X_train_resampled, y_train_resampled = undersampler.fit_resample(X_train, y_train)\n",
    "\n",
    "# Initialize and train the Logistic Regression model\n",
    "model = LogisticRegression(random_state=50, max_iter=1000)\n",
    "model.fit(X_train_resampled, y_train_resampled)\n",
    "\n",
    "# Make predictions on the test set\n",
    "y_pred = model.predict(X_test)\n",
    "\n",
    "# Calculate the metrics\n",
    "accuracy = accuracy_score(y_test, y_pred)\n",
    "precision = precision_score(y_test, y_pred)\n",
    "recall = recall_score(y_test, y_pred)\n",
    "f1 = f1_score(y_test, y_pred)\n",
    "\n",
    "\n",
    "# Append the results as a row to the DataFrame\n",
    "results = results._append({'Iteration': 'Random_Undersampling', 'Accuracy': accuracy, 'Precision': precision, 'Recall': recall, 'F1-Score': f1}, ignore_index=True)\n",
    "\n",
    "# Display the result DataFrame\n",
    "print(results)"
   ]
  },
  {
   "cell_type": "markdown",
   "id": "9b00728d",
   "metadata": {
    "id": "RcS9dF7ozk0j",
    "papermill": {
     "duration": 0.024394,
     "end_time": "2023-09-05T21:10:24.052687",
     "exception": false,
     "start_time": "2023-09-05T21:10:24.028293",
     "status": "completed"
    },
    "tags": []
   },
   "source": [
    "We see that the Recall is similar however the precision has decreased further as compared to Random Over Sampling"
   ]
  },
  {
   "cell_type": "code",
   "execution_count": 26,
   "id": "f64ca6f3",
   "metadata": {
    "execution": {
     "iopub.execute_input": "2023-09-05T21:10:24.103078Z",
     "iopub.status.busy": "2023-09-05T21:10:24.102800Z",
     "iopub.status.idle": "2023-09-05T21:10:28.718966Z",
     "shell.execute_reply": "2023-09-05T21:10:28.716868Z"
    },
    "id": "foEwEnMNzlog",
    "outputId": "53811ec4-b9c2-4dd3-b8c7-6a97c46d7947",
    "papermill": {
     "duration": 4.643812,
     "end_time": "2023-09-05T21:10:28.721262",
     "exception": false,
     "start_time": "2023-09-05T21:10:24.077450",
     "status": "completed"
    },
    "tags": []
   },
   "outputs": [
    {
     "name": "stdout",
     "output_type": "stream",
     "text": [
      "              Iteration  Accuracy  Precision    Recall  F1-Score\n",
      "0           No_Sampling  0.999280   0.913043  0.642857  0.754491\n",
      "1     Random_Upsampling  0.964239   0.042904  0.928571  0.082019\n",
      "2  Random_Undersampling  0.939714   0.025867  0.928571  0.050332\n",
      "3                 SMOTE  0.966732   0.044602  0.897959  0.084983\n"
     ]
    }
   ],
   "source": [
    "from imblearn.over_sampling import SMOTE\n",
    "# Perform SMOTE to generate synthetic samples for the minority class\n",
    "smote = SMOTE(sampling_strategy='auto', random_state=25)\n",
    "X_train_resampled, y_train_resampled = smote.fit_resample(X_train, y_train)\n",
    "\n",
    "# Initialize and train the Logistic Regression model\n",
    "model = LogisticRegression(random_state=50)\n",
    "model.fit(X_train_resampled, y_train_resampled)\n",
    "\n",
    "# Make predictions on the test set\n",
    "y_pred = model.predict(X_test)\n",
    "\n",
    "# Calculate the metrics\n",
    "accuracy = accuracy_score(y_test, y_pred)\n",
    "precision = precision_score(y_test, y_pred)\n",
    "recall = recall_score(y_test, y_pred)\n",
    "f1 = f1_score(y_test, y_pred)\n",
    "\n",
    "\n",
    "# Append the results as a row to the DataFrame\n",
    "results = results._append({'Iteration': 'SMOTE', 'Accuracy': accuracy, 'Precision': precision, 'Recall': recall, 'F1-Score': f1}, ignore_index=True)\n",
    "\n",
    "# Display the result DataFrame\n",
    "print(results)"
   ]
  },
  {
   "cell_type": "markdown",
   "id": "43b87594",
   "metadata": {
    "id": "kKK2Lc5J10ng",
    "papermill": {
     "duration": 0.024564,
     "end_time": "2023-09-05T21:10:28.771664",
     "exception": false,
     "start_time": "2023-09-05T21:10:28.747100",
     "status": "completed"
    },
    "tags": []
   },
   "source": [
    "We can observe that the using SMOTE, Recall decreased but we also see a marginal increase in the Precision."
   ]
  },
  {
   "cell_type": "code",
   "execution_count": 27,
   "id": "c0b22ef1",
   "metadata": {
    "execution": {
     "iopub.execute_input": "2023-09-05T21:10:28.821988Z",
     "iopub.status.busy": "2023-09-05T21:10:28.821697Z",
     "iopub.status.idle": "2023-09-05T21:10:36.585117Z",
     "shell.execute_reply": "2023-09-05T21:10:36.583883Z"
    },
    "id": "mpx_h1H70RMZ",
    "outputId": "ca4b4f15-e758-47cd-c449-d8aaa98f772d",
    "papermill": {
     "duration": 7.793643,
     "end_time": "2023-09-05T21:10:36.589793",
     "exception": false,
     "start_time": "2023-09-05T21:10:28.796150",
     "status": "completed"
    },
    "tags": []
   },
   "outputs": [
    {
     "name": "stdout",
     "output_type": "stream",
     "text": [
      "              Iteration  Accuracy  Precision    Recall  F1-Score\n",
      "0           No_Sampling  0.999280   0.913043  0.642857  0.754491\n",
      "1     Random_Upsampling  0.964239   0.042904  0.928571  0.082019\n",
      "2  Random_Undersampling  0.939714   0.025867  0.928571  0.050332\n",
      "3                 SMOTE  0.966732   0.044602  0.897959  0.084983\n",
      "4                ADASYN  0.981093   0.076923  0.908163  0.141833\n"
     ]
    }
   ],
   "source": [
    "from imblearn.over_sampling import ADASYN\n",
    "# Perform ADASYN to generate synthetic samples for the minority class\n",
    "adasyn = ADASYN(sampling_strategy='auto', random_state=25)\n",
    "X_train_resampled, y_train_resampled = adasyn.fit_resample(X_train, y_train)\n",
    "\n",
    "# Initialize and train the Logistic Regression model\n",
    "logit_model = LogisticRegression(random_state=50,max_iter=1000)\n",
    "logit_model.fit(X_train_resampled, y_train_resampled)\n",
    "\n",
    "# Make predictions on the test set\n",
    "y_pred = logit_model.predict(X_test)\n",
    "\n",
    "# Calculate the metrics\n",
    "accuracy = accuracy_score(y_test, y_pred)\n",
    "precision = precision_score(y_test, y_pred)\n",
    "recall = recall_score(y_test, y_pred)\n",
    "f1 = f1_score(y_test, y_pred)\n",
    "\n",
    "# Append the results as a row to the DataFrame\n",
    "results = results._append({'Iteration': 'ADASYN', 'Accuracy': accuracy, 'Precision': precision, 'Recall': recall, 'F1-Score': f1}, ignore_index=True)\n",
    "\n",
    "# Display the result DataFrame\n",
    "print(results)"
   ]
  },
  {
   "cell_type": "markdown",
   "id": "9290d26c",
   "metadata": {
    "id": "TgzJDgwT2q5H",
    "papermill": {
     "duration": 0.02487,
     "end_time": "2023-09-05T21:10:36.640091",
     "exception": false,
     "start_time": "2023-09-05T21:10:36.615221",
     "status": "completed"
    },
    "tags": []
   },
   "source": [
    "We can observe that the Reall and Precision both increase marginally.\n",
    "Thus, ADASYN resampled dataset will be used for buiilding other models."
   ]
  },
  {
   "cell_type": "code",
   "execution_count": 28,
   "id": "c13521ae",
   "metadata": {
    "execution": {
     "iopub.execute_input": "2023-09-05T21:10:36.690796Z",
     "iopub.status.busy": "2023-09-05T21:10:36.690485Z",
     "iopub.status.idle": "2023-09-05T21:10:36.702216Z",
     "shell.execute_reply": "2023-09-05T21:10:36.700971Z"
    },
    "id": "Plprx2ZGfREb",
    "outputId": "ce9a0d4b-4489-4f7f-a2a0-6df1cecc3a01",
    "papermill": {
     "duration": 0.039527,
     "end_time": "2023-09-05T21:10:36.704180",
     "exception": false,
     "start_time": "2023-09-05T21:10:36.664653",
     "status": "completed"
    },
    "tags": []
   },
   "outputs": [
    {
     "name": "stdout",
     "output_type": "stream",
     "text": [
      "                 Model  Accuracy  Precision    Recall  F1-Score\n",
      "0  Logistic_Regression  0.981093   0.076923  0.908163  0.141833\n"
     ]
    }
   ],
   "source": [
    "# Create a DataFrame to store results\n",
    "results_mod= pd.DataFrame(columns=['Model', 'Accuracy', 'Precision', 'Recall', 'F1-Score'])\n",
    "# Append the results as a row to the DataFrame\n",
    "results_mod = results_mod._append({'Model': 'Logistic_Regression', 'Accuracy': accuracy, 'Precision': precision, 'Recall': recall, 'F1-Score': f1}, ignore_index=True)\n",
    "print(results_mod)"
   ]
  },
  {
   "cell_type": "markdown",
   "id": "600544c1",
   "metadata": {
    "id": "G6S1LN5VXM_R",
    "papermill": {
     "duration": 0.024816,
     "end_time": "2023-09-05T21:10:36.753998",
     "exception": false,
     "start_time": "2023-09-05T21:10:36.729182",
     "status": "completed"
    },
    "tags": []
   },
   "source": [
    "#Using KNN Classifier"
   ]
  },
  {
   "cell_type": "code",
   "execution_count": 29,
   "id": "6b80608c",
   "metadata": {
    "execution": {
     "iopub.execute_input": "2023-09-05T21:10:36.804965Z",
     "iopub.status.busy": "2023-09-05T21:10:36.804184Z",
     "iopub.status.idle": "2023-09-05T21:17:57.580465Z",
     "shell.execute_reply": "2023-09-05T21:17:57.579273Z"
    },
    "id": "vxiPRXrDXQK2",
    "outputId": "97991cf2-33d5-4466-b0bc-a770dbb28a5e",
    "papermill": {
     "duration": 440.804451,
     "end_time": "2023-09-05T21:17:57.583182",
     "exception": false,
     "start_time": "2023-09-05T21:10:36.778731",
     "status": "completed"
    },
    "tags": []
   },
   "outputs": [
    {
     "name": "stdout",
     "output_type": "stream",
     "text": [
      "Fitting 2 folds for each of 4 candidates, totalling 8 fits\n"
     ]
    },
    {
     "name": "stderr",
     "output_type": "stream",
     "text": [
      "/opt/conda/lib/python3.10/site-packages/scipy/__init__.py:146: UserWarning: A NumPy version >=1.16.5 and <1.23.0 is required for this version of SciPy (detected version 1.23.5\n",
      "  warnings.warn(f\"A NumPy version >={np_minversion} and <{np_maxversion}\"\n",
      "/opt/conda/lib/python3.10/site-packages/scipy/__init__.py:146: UserWarning: A NumPy version >=1.16.5 and <1.23.0 is required for this version of SciPy (detected version 1.23.5\n",
      "  warnings.warn(f\"A NumPy version >={np_minversion} and <{np_maxversion}\"\n"
     ]
    }
   ],
   "source": [
    "from sklearn.neighbors import KNeighborsClassifier\n",
    "from sklearn.model_selection import GridSearchCV\n",
    "\n",
    "# Standardize the data\n",
    "scaler = StandardScaler()\n",
    "X_train_scaled = scaler.fit_transform(X_train)\n",
    "X_test_scaled = scaler.transform(X_test)\n",
    "\n",
    "# Initialize the KNN classifier\n",
    "knn = KNeighborsClassifier()\n",
    "\n",
    "# Define hyperparameters and values to search\n",
    "param_grid = {\n",
    "    'n_neighbors': [3, 5, 7, 9],  # Different values of k\n",
    "    #'metric': ['euclidean', 'manhattan']  # Different distance metrics\n",
    "}\n",
    "\n",
    "# Initialize GridSearchCV\n",
    "grid_search = GridSearchCV(knn, param_grid, cv=2, n_jobs=-1, scoring='recall', verbose=1)\n",
    "\n",
    "# Perform GridSearchCV to find the best hyperparameters\n",
    "grid_search.fit(X_train_scaled, y_train)\n",
    "\n",
    "# Get the best parameters and model\n",
    "best_params = grid_search.best_params_\n",
    "best_model = grid_search.best_estimator_\n",
    "\n"
   ]
  },
  {
   "cell_type": "code",
   "execution_count": 30,
   "id": "c588cc18",
   "metadata": {
    "execution": {
     "iopub.execute_input": "2023-09-05T21:17:57.637162Z",
     "iopub.status.busy": "2023-09-05T21:17:57.636848Z",
     "iopub.status.idle": "2023-09-05T21:17:57.644373Z",
     "shell.execute_reply": "2023-09-05T21:17:57.643484Z"
    },
    "id": "hFOwqx7YeMcn",
    "outputId": "c60ca7ea-a371-4112-ea28-67fe68d97a48",
    "papermill": {
     "duration": 0.036165,
     "end_time": "2023-09-05T21:17:57.646326",
     "exception": false,
     "start_time": "2023-09-05T21:17:57.610161",
     "status": "completed"
    },
    "tags": []
   },
   "outputs": [
    {
     "data": {
      "text/html": [
       "<style>#sk-container-id-2 {color: black;background-color: white;}#sk-container-id-2 pre{padding: 0;}#sk-container-id-2 div.sk-toggleable {background-color: white;}#sk-container-id-2 label.sk-toggleable__label {cursor: pointer;display: block;width: 100%;margin-bottom: 0;padding: 0.3em;box-sizing: border-box;text-align: center;}#sk-container-id-2 label.sk-toggleable__label-arrow:before {content: \"▸\";float: left;margin-right: 0.25em;color: #696969;}#sk-container-id-2 label.sk-toggleable__label-arrow:hover:before {color: black;}#sk-container-id-2 div.sk-estimator:hover label.sk-toggleable__label-arrow:before {color: black;}#sk-container-id-2 div.sk-toggleable__content {max-height: 0;max-width: 0;overflow: hidden;text-align: left;background-color: #f0f8ff;}#sk-container-id-2 div.sk-toggleable__content pre {margin: 0.2em;color: black;border-radius: 0.25em;background-color: #f0f8ff;}#sk-container-id-2 input.sk-toggleable__control:checked~div.sk-toggleable__content {max-height: 200px;max-width: 100%;overflow: auto;}#sk-container-id-2 input.sk-toggleable__control:checked~label.sk-toggleable__label-arrow:before {content: \"▾\";}#sk-container-id-2 div.sk-estimator input.sk-toggleable__control:checked~label.sk-toggleable__label {background-color: #d4ebff;}#sk-container-id-2 div.sk-label input.sk-toggleable__control:checked~label.sk-toggleable__label {background-color: #d4ebff;}#sk-container-id-2 input.sk-hidden--visually {border: 0;clip: rect(1px 1px 1px 1px);clip: rect(1px, 1px, 1px, 1px);height: 1px;margin: -1px;overflow: hidden;padding: 0;position: absolute;width: 1px;}#sk-container-id-2 div.sk-estimator {font-family: monospace;background-color: #f0f8ff;border: 1px dotted black;border-radius: 0.25em;box-sizing: border-box;margin-bottom: 0.5em;}#sk-container-id-2 div.sk-estimator:hover {background-color: #d4ebff;}#sk-container-id-2 div.sk-parallel-item::after {content: \"\";width: 100%;border-bottom: 1px solid gray;flex-grow: 1;}#sk-container-id-2 div.sk-label:hover label.sk-toggleable__label {background-color: #d4ebff;}#sk-container-id-2 div.sk-serial::before {content: \"\";position: absolute;border-left: 1px solid gray;box-sizing: border-box;top: 0;bottom: 0;left: 50%;z-index: 0;}#sk-container-id-2 div.sk-serial {display: flex;flex-direction: column;align-items: center;background-color: white;padding-right: 0.2em;padding-left: 0.2em;position: relative;}#sk-container-id-2 div.sk-item {position: relative;z-index: 1;}#sk-container-id-2 div.sk-parallel {display: flex;align-items: stretch;justify-content: center;background-color: white;position: relative;}#sk-container-id-2 div.sk-item::before, #sk-container-id-2 div.sk-parallel-item::before {content: \"\";position: absolute;border-left: 1px solid gray;box-sizing: border-box;top: 0;bottom: 0;left: 50%;z-index: -1;}#sk-container-id-2 div.sk-parallel-item {display: flex;flex-direction: column;z-index: 1;position: relative;background-color: white;}#sk-container-id-2 div.sk-parallel-item:first-child::after {align-self: flex-end;width: 50%;}#sk-container-id-2 div.sk-parallel-item:last-child::after {align-self: flex-start;width: 50%;}#sk-container-id-2 div.sk-parallel-item:only-child::after {width: 0;}#sk-container-id-2 div.sk-dashed-wrapped {border: 1px dashed gray;margin: 0 0.4em 0.5em 0.4em;box-sizing: border-box;padding-bottom: 0.4em;background-color: white;}#sk-container-id-2 div.sk-label label {font-family: monospace;font-weight: bold;display: inline-block;line-height: 1.2em;}#sk-container-id-2 div.sk-label-container {text-align: center;}#sk-container-id-2 div.sk-container {/* jupyter's `normalize.less` sets `[hidden] { display: none; }` but bootstrap.min.css set `[hidden] { display: none !important; }` so we also need the `!important` here to be able to override the default hidden behavior on the sphinx rendered scikit-learn.org. See: https://github.com/scikit-learn/scikit-learn/issues/21755 */display: inline-block !important;position: relative;}#sk-container-id-2 div.sk-text-repr-fallback {display: none;}</style><div id=\"sk-container-id-2\" class=\"sk-top-container\"><div class=\"sk-text-repr-fallback\"><pre>KNeighborsClassifier(n_neighbors=3)</pre><b>In a Jupyter environment, please rerun this cell to show the HTML representation or trust the notebook. <br />On GitHub, the HTML representation is unable to render, please try loading this page with nbviewer.org.</b></div><div class=\"sk-container\" hidden><div class=\"sk-item\"><div class=\"sk-estimator sk-toggleable\"><input class=\"sk-toggleable__control sk-hidden--visually\" id=\"sk-estimator-id-2\" type=\"checkbox\" checked><label for=\"sk-estimator-id-2\" class=\"sk-toggleable__label sk-toggleable__label-arrow\">KNeighborsClassifier</label><div class=\"sk-toggleable__content\"><pre>KNeighborsClassifier(n_neighbors=3)</pre></div></div></div></div></div>"
      ],
      "text/plain": [
       "KNeighborsClassifier(n_neighbors=3)"
      ]
     },
     "execution_count": 30,
     "metadata": {},
     "output_type": "execute_result"
    }
   ],
   "source": [
    "best_model"
   ]
  },
  {
   "cell_type": "code",
   "execution_count": 31,
   "id": "d1a75634",
   "metadata": {
    "execution": {
     "iopub.execute_input": "2023-09-05T21:17:57.698251Z",
     "iopub.status.busy": "2023-09-05T21:17:57.697388Z",
     "iopub.status.idle": "2023-09-05T21:18:50.694787Z",
     "shell.execute_reply": "2023-09-05T21:18:50.693747Z"
    },
    "id": "6WIJ8ZqqXa-W",
    "papermill": {
     "duration": 53.026272,
     "end_time": "2023-09-05T21:18:50.697544",
     "exception": false,
     "start_time": "2023-09-05T21:17:57.671272",
     "status": "completed"
    },
    "tags": []
   },
   "outputs": [],
   "source": [
    "# Train the KNN classifier\n",
    "best_model.fit(X_train_scaled, y_train)\n",
    "\n",
    "# Make predictions on the test mset\n",
    "y_pred = best_model.predict(X_test_scaled)\n"
   ]
  },
  {
   "cell_type": "code",
   "execution_count": 32,
   "id": "6b92d029",
   "metadata": {
    "execution": {
     "iopub.execute_input": "2023-09-05T21:18:50.752827Z",
     "iopub.status.busy": "2023-09-05T21:18:50.752008Z",
     "iopub.status.idle": "2023-09-05T21:18:50.810576Z",
     "shell.execute_reply": "2023-09-05T21:18:50.809380Z"
    },
    "id": "Mz5UWTfeXdbH",
    "outputId": "84b22ccd-28f5-4301-ea3b-3cc17eda61d2",
    "papermill": {
     "duration": 0.088813,
     "end_time": "2023-09-05T21:18:50.812761",
     "exception": false,
     "start_time": "2023-09-05T21:18:50.723948",
     "status": "completed"
    },
    "tags": []
   },
   "outputs": [
    {
     "name": "stdout",
     "output_type": "stream",
     "text": [
      "                 Model  Accuracy  Precision    Recall  F1-Score\n",
      "0  Logistic_Regression  0.981093   0.076923  0.908163  0.141833\n",
      "1                  KNN  0.999561   0.892473  0.846939  0.869110\n"
     ]
    }
   ],
   "source": [
    "# Calculate the metrics\n",
    "accuracy = accuracy_score(y_test, y_pred)\n",
    "precision = precision_score(y_test, y_pred)\n",
    "recall = recall_score(y_test, y_pred)\n",
    "f1 = f1_score(y_test, y_pred)\n",
    "\n",
    "\n",
    "# Append the results as a row to the DataFrame\n",
    "results_mod = results_mod._append({'Model': 'KNN', 'Accuracy': accuracy, 'Precision': precision, 'Recall': recall, 'F1-Score': f1}, ignore_index=True)\n",
    "\n",
    "# Display the result DataFrame\n",
    "print(results_mod)"
   ]
  },
  {
   "cell_type": "markdown",
   "id": "ddb69dba",
   "metadata": {
    "id": "wRtPJ8_Y4cM2",
    "papermill": {
     "duration": 0.024859,
     "end_time": "2023-09-05T21:18:50.863082",
     "exception": false,
     "start_time": "2023-09-05T21:18:50.838223",
     "status": "completed"
    },
    "tags": []
   },
   "source": [
    "##Using Random Forest Classifier"
   ]
  },
  {
   "cell_type": "code",
   "execution_count": 33,
   "id": "aa3ae382",
   "metadata": {
    "execution": {
     "iopub.execute_input": "2023-09-05T21:18:50.914464Z",
     "iopub.status.busy": "2023-09-05T21:18:50.914194Z",
     "iopub.status.idle": "2023-09-05T21:18:50.922116Z",
     "shell.execute_reply": "2023-09-05T21:18:50.921260Z"
    },
    "id": "AaZiIdBpCnU2",
    "outputId": "198c87b9-be1a-4379-b75d-6f170c47adf7",
    "papermill": {
     "duration": 0.035854,
     "end_time": "2023-09-05T21:18:50.924042",
     "exception": false,
     "start_time": "2023-09-05T21:18:50.888188",
     "status": "completed"
    },
    "tags": []
   },
   "outputs": [
    {
     "data": {
      "text/plain": [
       "455040"
      ]
     },
     "execution_count": 33,
     "metadata": {},
     "output_type": "execute_result"
    }
   ],
   "source": [
    "y_train_resampled.count()"
   ]
  },
  {
   "cell_type": "markdown",
   "id": "adaf7d5f",
   "metadata": {
    "id": "dLPMs2xTE5nG",
    "papermill": {
     "duration": 0.025289,
     "end_time": "2023-09-05T21:18:50.974867",
     "exception": false,
     "start_time": "2023-09-05T21:18:50.949578",
     "status": "completed"
    },
    "tags": []
   },
   "source": [
    "Since the training data is huge, the number of iterations to be performed for hyperparameter tuning will be limited due to lesser available computing resources and time."
   ]
  },
  {
   "cell_type": "code",
   "execution_count": 34,
   "id": "93f994a8",
   "metadata": {
    "execution": {
     "iopub.execute_input": "2023-09-05T21:18:51.027258Z",
     "iopub.status.busy": "2023-09-05T21:18:51.026497Z",
     "iopub.status.idle": "2023-09-05T21:20:48.777574Z",
     "shell.execute_reply": "2023-09-05T21:20:48.776668Z"
    },
    "id": "Ke213Stn1dR2",
    "outputId": "5761e436-b11c-492c-a06c-177067efa2bc",
    "papermill": {
     "duration": 117.806712,
     "end_time": "2023-09-05T21:20:48.806924",
     "exception": false,
     "start_time": "2023-09-05T21:18:51.000212",
     "status": "completed"
    },
    "tags": []
   },
   "outputs": [
    {
     "name": "stdout",
     "output_type": "stream",
     "text": [
      "Fitting 2 folds for each of 12 candidates, totalling 24 fits\n"
     ]
    },
    {
     "data": {
      "text/html": [
       "<div>\n",
       "<style scoped>\n",
       "    .dataframe tbody tr th:only-of-type {\n",
       "        vertical-align: middle;\n",
       "    }\n",
       "\n",
       "    .dataframe tbody tr th {\n",
       "        vertical-align: top;\n",
       "    }\n",
       "\n",
       "    .dataframe thead th {\n",
       "        text-align: right;\n",
       "    }\n",
       "</style>\n",
       "<table border=\"1\" class=\"dataframe\">\n",
       "  <thead>\n",
       "    <tr style=\"text-align: right;\">\n",
       "      <th></th>\n",
       "      <th>mean_fit_time</th>\n",
       "      <th>std_fit_time</th>\n",
       "      <th>mean_score_time</th>\n",
       "      <th>std_score_time</th>\n",
       "      <th>param_max_depth</th>\n",
       "      <th>param_n_estimators</th>\n",
       "      <th>params</th>\n",
       "      <th>split0_test_score</th>\n",
       "      <th>split1_test_score</th>\n",
       "      <th>mean_test_score</th>\n",
       "      <th>std_test_score</th>\n",
       "      <th>rank_test_score</th>\n",
       "    </tr>\n",
       "  </thead>\n",
       "  <tbody>\n",
       "    <tr>\n",
       "      <th>0</th>\n",
       "      <td>2.113614</td>\n",
       "      <td>0.016922</td>\n",
       "      <td>0.215732</td>\n",
       "      <td>0.003006</td>\n",
       "      <td>2</td>\n",
       "      <td>5</td>\n",
       "      <td>{'max_depth': 2, 'n_estimators': 5}</td>\n",
       "      <td>0.916384</td>\n",
       "      <td>0.923881</td>\n",
       "      <td>0.920132</td>\n",
       "      <td>0.003748</td>\n",
       "      <td>10</td>\n",
       "    </tr>\n",
       "    <tr>\n",
       "      <th>1</th>\n",
       "      <td>3.807177</td>\n",
       "      <td>0.003598</td>\n",
       "      <td>0.277936</td>\n",
       "      <td>0.002429</td>\n",
       "      <td>2</td>\n",
       "      <td>10</td>\n",
       "      <td>{'max_depth': 2, 'n_estimators': 10}</td>\n",
       "      <td>0.917693</td>\n",
       "      <td>0.924821</td>\n",
       "      <td>0.921257</td>\n",
       "      <td>0.003564</td>\n",
       "      <td>9</td>\n",
       "    </tr>\n",
       "    <tr>\n",
       "      <th>2</th>\n",
       "      <td>8.207018</td>\n",
       "      <td>0.019590</td>\n",
       "      <td>0.405174</td>\n",
       "      <td>0.000675</td>\n",
       "      <td>2</td>\n",
       "      <td>20</td>\n",
       "      <td>{'max_depth': 2, 'n_estimators': 20}</td>\n",
       "      <td>0.902332</td>\n",
       "      <td>0.910110</td>\n",
       "      <td>0.906221</td>\n",
       "      <td>0.003889</td>\n",
       "      <td>12</td>\n",
       "    </tr>\n",
       "    <tr>\n",
       "      <th>3</th>\n",
       "      <td>2.821523</td>\n",
       "      <td>0.002084</td>\n",
       "      <td>0.215529</td>\n",
       "      <td>0.003350</td>\n",
       "      <td>3</td>\n",
       "      <td>5</td>\n",
       "      <td>{'max_depth': 3, 'n_estimators': 5}</td>\n",
       "      <td>0.922790</td>\n",
       "      <td>0.929215</td>\n",
       "      <td>0.926003</td>\n",
       "      <td>0.003212</td>\n",
       "      <td>7</td>\n",
       "    </tr>\n",
       "    <tr>\n",
       "      <th>4</th>\n",
       "      <td>5.482552</td>\n",
       "      <td>0.046932</td>\n",
       "      <td>0.283435</td>\n",
       "      <td>0.000069</td>\n",
       "      <td>3</td>\n",
       "      <td>10</td>\n",
       "      <td>{'max_depth': 3, 'n_estimators': 10}</td>\n",
       "      <td>0.921639</td>\n",
       "      <td>0.928108</td>\n",
       "      <td>0.924873</td>\n",
       "      <td>0.003234</td>\n",
       "      <td>8</td>\n",
       "    </tr>\n",
       "  </tbody>\n",
       "</table>\n",
       "</div>"
      ],
      "text/plain": [
       "   mean_fit_time  std_fit_time  mean_score_time  std_score_time  \\\n",
       "0       2.113614      0.016922         0.215732        0.003006   \n",
       "1       3.807177      0.003598         0.277936        0.002429   \n",
       "2       8.207018      0.019590         0.405174        0.000675   \n",
       "3       2.821523      0.002084         0.215529        0.003350   \n",
       "4       5.482552      0.046932         0.283435        0.000069   \n",
       "\n",
       "  param_max_depth param_n_estimators                                params  \\\n",
       "0               2                  5   {'max_depth': 2, 'n_estimators': 5}   \n",
       "1               2                 10  {'max_depth': 2, 'n_estimators': 10}   \n",
       "2               2                 20  {'max_depth': 2, 'n_estimators': 20}   \n",
       "3               3                  5   {'max_depth': 3, 'n_estimators': 5}   \n",
       "4               3                 10  {'max_depth': 3, 'n_estimators': 10}   \n",
       "\n",
       "   split0_test_score  split1_test_score  mean_test_score  std_test_score  \\\n",
       "0           0.916384           0.923881         0.920132        0.003748   \n",
       "1           0.917693           0.924821         0.921257        0.003564   \n",
       "2           0.902332           0.910110         0.906221        0.003889   \n",
       "3           0.922790           0.929215         0.926003        0.003212   \n",
       "4           0.921639           0.928108         0.924873        0.003234   \n",
       "\n",
       "   rank_test_score  \n",
       "0               10  \n",
       "1                9  \n",
       "2               12  \n",
       "3                7  \n",
       "4                8  "
      ]
     },
     "execution_count": 34,
     "metadata": {},
     "output_type": "execute_result"
    }
   ],
   "source": [
    "from sklearn.model_selection import GridSearchCV\n",
    "from sklearn.ensemble import RandomForestClassifier\n",
    "\n",
    "# Define the parameter grid for hyperparameter tuning\n",
    "params_grid = {\n",
    "    'n_estimators': [5,10,20],\n",
    "    'max_depth': [2,3,5,7]\n",
    "    #'min_samples_split': [1000, 2000, 4000]\n",
    "    #'min_samples_leaf': [250,500, 1000],\n",
    "}\n",
    "\n",
    "# Initialize the Random Forest Classifier model\n",
    "model = RandomForestClassifier(random_state=50)\n",
    "\n",
    "# Initialize RandomizedSearchCV\n",
    "grid_search = GridSearchCV(estimator=model, param_grid=params_grid,n_jobs=-1, scoring='recall', cv=2,verbose=1)\n",
    "\n",
    "# Perform hyperparameter tuning on the training data\n",
    "grid_search.fit(X_train_resampled, y_train_resampled)\n",
    "\n",
    "# Get the best parameters and best model\n",
    "score_df = pd.DataFrame(grid_search.cv_results_)\n",
    "score_df.head()\n"
   ]
  },
  {
   "cell_type": "code",
   "execution_count": 35,
   "id": "c95ade77",
   "metadata": {
    "execution": {
     "iopub.execute_input": "2023-09-05T21:20:48.860709Z",
     "iopub.status.busy": "2023-09-05T21:20:48.859909Z",
     "iopub.status.idle": "2023-09-05T21:20:48.885170Z",
     "shell.execute_reply": "2023-09-05T21:20:48.884201Z"
    },
    "id": "EZO-fu937xDo",
    "outputId": "741f8a92-a35c-44ac-ad12-811c17c037fe",
    "papermill": {
     "duration": 0.054097,
     "end_time": "2023-09-05T21:20:48.887171",
     "exception": false,
     "start_time": "2023-09-05T21:20:48.833074",
     "status": "completed"
    },
    "tags": []
   },
   "outputs": [
    {
     "data": {
      "text/html": [
       "<div>\n",
       "<style scoped>\n",
       "    .dataframe tbody tr th:only-of-type {\n",
       "        vertical-align: middle;\n",
       "    }\n",
       "\n",
       "    .dataframe tbody tr th {\n",
       "        vertical-align: top;\n",
       "    }\n",
       "\n",
       "    .dataframe thead th {\n",
       "        text-align: right;\n",
       "    }\n",
       "</style>\n",
       "<table border=\"1\" class=\"dataframe\">\n",
       "  <thead>\n",
       "    <tr style=\"text-align: right;\">\n",
       "      <th></th>\n",
       "      <th>mean_fit_time</th>\n",
       "      <th>std_fit_time</th>\n",
       "      <th>mean_score_time</th>\n",
       "      <th>std_score_time</th>\n",
       "      <th>param_max_depth</th>\n",
       "      <th>param_n_estimators</th>\n",
       "      <th>params</th>\n",
       "      <th>split0_test_score</th>\n",
       "      <th>split1_test_score</th>\n",
       "      <th>mean_test_score</th>\n",
       "      <th>std_test_score</th>\n",
       "      <th>rank_test_score</th>\n",
       "    </tr>\n",
       "  </thead>\n",
       "  <tbody>\n",
       "    <tr>\n",
       "      <th>9</th>\n",
       "      <td>6.610786</td>\n",
       "      <td>0.029840</td>\n",
       "      <td>0.240011</td>\n",
       "      <td>0.014783</td>\n",
       "      <td>7</td>\n",
       "      <td>5</td>\n",
       "      <td>{'max_depth': 7, 'n_estimators': 5}</td>\n",
       "      <td>0.941781</td>\n",
       "      <td>0.948486</td>\n",
       "      <td>0.945134</td>\n",
       "      <td>0.003353</td>\n",
       "      <td>1</td>\n",
       "    </tr>\n",
       "    <tr>\n",
       "      <th>11</th>\n",
       "      <td>23.062574</td>\n",
       "      <td>0.012804</td>\n",
       "      <td>0.519294</td>\n",
       "      <td>0.017882</td>\n",
       "      <td>7</td>\n",
       "      <td>20</td>\n",
       "      <td>{'max_depth': 7, 'n_estimators': 20}</td>\n",
       "      <td>0.939522</td>\n",
       "      <td>0.946922</td>\n",
       "      <td>0.943222</td>\n",
       "      <td>0.003700</td>\n",
       "      <td>2</td>\n",
       "    </tr>\n",
       "    <tr>\n",
       "      <th>10</th>\n",
       "      <td>11.331606</td>\n",
       "      <td>0.060584</td>\n",
       "      <td>0.330871</td>\n",
       "      <td>0.003784</td>\n",
       "      <td>7</td>\n",
       "      <td>10</td>\n",
       "      <td>{'max_depth': 7, 'n_estimators': 10}</td>\n",
       "      <td>0.941456</td>\n",
       "      <td>0.942748</td>\n",
       "      <td>0.942102</td>\n",
       "      <td>0.000646</td>\n",
       "      <td>3</td>\n",
       "    </tr>\n",
       "    <tr>\n",
       "      <th>6</th>\n",
       "      <td>5.096198</td>\n",
       "      <td>0.087406</td>\n",
       "      <td>0.374269</td>\n",
       "      <td>0.072347</td>\n",
       "      <td>5</td>\n",
       "      <td>5</td>\n",
       "      <td>{'max_depth': 5, 'n_estimators': 5}</td>\n",
       "      <td>0.926754</td>\n",
       "      <td>0.934672</td>\n",
       "      <td>0.930713</td>\n",
       "      <td>0.003959</td>\n",
       "      <td>4</td>\n",
       "    </tr>\n",
       "    <tr>\n",
       "      <th>7</th>\n",
       "      <td>8.331980</td>\n",
       "      <td>0.031027</td>\n",
       "      <td>0.308871</td>\n",
       "      <td>0.011139</td>\n",
       "      <td>5</td>\n",
       "      <td>10</td>\n",
       "      <td>{'max_depth': 5, 'n_estimators': 10}</td>\n",
       "      <td>0.926138</td>\n",
       "      <td>0.934022</td>\n",
       "      <td>0.930080</td>\n",
       "      <td>0.003942</td>\n",
       "      <td>5</td>\n",
       "    </tr>\n",
       "  </tbody>\n",
       "</table>\n",
       "</div>"
      ],
      "text/plain": [
       "    mean_fit_time  std_fit_time  mean_score_time  std_score_time  \\\n",
       "9        6.610786      0.029840         0.240011        0.014783   \n",
       "11      23.062574      0.012804         0.519294        0.017882   \n",
       "10      11.331606      0.060584         0.330871        0.003784   \n",
       "6        5.096198      0.087406         0.374269        0.072347   \n",
       "7        8.331980      0.031027         0.308871        0.011139   \n",
       "\n",
       "   param_max_depth param_n_estimators                                params  \\\n",
       "9                7                  5   {'max_depth': 7, 'n_estimators': 5}   \n",
       "11               7                 20  {'max_depth': 7, 'n_estimators': 20}   \n",
       "10               7                 10  {'max_depth': 7, 'n_estimators': 10}   \n",
       "6                5                  5   {'max_depth': 5, 'n_estimators': 5}   \n",
       "7                5                 10  {'max_depth': 5, 'n_estimators': 10}   \n",
       "\n",
       "    split0_test_score  split1_test_score  mean_test_score  std_test_score  \\\n",
       "9            0.941781           0.948486         0.945134        0.003353   \n",
       "11           0.939522           0.946922         0.943222        0.003700   \n",
       "10           0.941456           0.942748         0.942102        0.000646   \n",
       "6            0.926754           0.934672         0.930713        0.003959   \n",
       "7            0.926138           0.934022         0.930080        0.003942   \n",
       "\n",
       "    rank_test_score  \n",
       "9                 1  \n",
       "11                2  \n",
       "10                3  \n",
       "6                 4  \n",
       "7                 5  "
      ]
     },
     "execution_count": 35,
     "metadata": {},
     "output_type": "execute_result"
    }
   ],
   "source": [
    "score_df.nlargest(5,\"mean_test_score\")"
   ]
  },
  {
   "cell_type": "code",
   "execution_count": 36,
   "id": "856da282",
   "metadata": {
    "execution": {
     "iopub.execute_input": "2023-09-05T21:20:48.941354Z",
     "iopub.status.busy": "2023-09-05T21:20:48.940518Z",
     "iopub.status.idle": "2023-09-05T21:20:48.947828Z",
     "shell.execute_reply": "2023-09-05T21:20:48.946844Z"
    },
    "id": "It6A8_-44sNE",
    "outputId": "6edbdf09-c4e3-4a48-d94a-46a924febe73",
    "papermill": {
     "duration": 0.036226,
     "end_time": "2023-09-05T21:20:48.949967",
     "exception": false,
     "start_time": "2023-09-05T21:20:48.913741",
     "status": "completed"
    },
    "tags": []
   },
   "outputs": [
    {
     "data": {
      "text/html": [
       "<style>#sk-container-id-3 {color: black;background-color: white;}#sk-container-id-3 pre{padding: 0;}#sk-container-id-3 div.sk-toggleable {background-color: white;}#sk-container-id-3 label.sk-toggleable__label {cursor: pointer;display: block;width: 100%;margin-bottom: 0;padding: 0.3em;box-sizing: border-box;text-align: center;}#sk-container-id-3 label.sk-toggleable__label-arrow:before {content: \"▸\";float: left;margin-right: 0.25em;color: #696969;}#sk-container-id-3 label.sk-toggleable__label-arrow:hover:before {color: black;}#sk-container-id-3 div.sk-estimator:hover label.sk-toggleable__label-arrow:before {color: black;}#sk-container-id-3 div.sk-toggleable__content {max-height: 0;max-width: 0;overflow: hidden;text-align: left;background-color: #f0f8ff;}#sk-container-id-3 div.sk-toggleable__content pre {margin: 0.2em;color: black;border-radius: 0.25em;background-color: #f0f8ff;}#sk-container-id-3 input.sk-toggleable__control:checked~div.sk-toggleable__content {max-height: 200px;max-width: 100%;overflow: auto;}#sk-container-id-3 input.sk-toggleable__control:checked~label.sk-toggleable__label-arrow:before {content: \"▾\";}#sk-container-id-3 div.sk-estimator input.sk-toggleable__control:checked~label.sk-toggleable__label {background-color: #d4ebff;}#sk-container-id-3 div.sk-label input.sk-toggleable__control:checked~label.sk-toggleable__label {background-color: #d4ebff;}#sk-container-id-3 input.sk-hidden--visually {border: 0;clip: rect(1px 1px 1px 1px);clip: rect(1px, 1px, 1px, 1px);height: 1px;margin: -1px;overflow: hidden;padding: 0;position: absolute;width: 1px;}#sk-container-id-3 div.sk-estimator {font-family: monospace;background-color: #f0f8ff;border: 1px dotted black;border-radius: 0.25em;box-sizing: border-box;margin-bottom: 0.5em;}#sk-container-id-3 div.sk-estimator:hover {background-color: #d4ebff;}#sk-container-id-3 div.sk-parallel-item::after {content: \"\";width: 100%;border-bottom: 1px solid gray;flex-grow: 1;}#sk-container-id-3 div.sk-label:hover label.sk-toggleable__label {background-color: #d4ebff;}#sk-container-id-3 div.sk-serial::before {content: \"\";position: absolute;border-left: 1px solid gray;box-sizing: border-box;top: 0;bottom: 0;left: 50%;z-index: 0;}#sk-container-id-3 div.sk-serial {display: flex;flex-direction: column;align-items: center;background-color: white;padding-right: 0.2em;padding-left: 0.2em;position: relative;}#sk-container-id-3 div.sk-item {position: relative;z-index: 1;}#sk-container-id-3 div.sk-parallel {display: flex;align-items: stretch;justify-content: center;background-color: white;position: relative;}#sk-container-id-3 div.sk-item::before, #sk-container-id-3 div.sk-parallel-item::before {content: \"\";position: absolute;border-left: 1px solid gray;box-sizing: border-box;top: 0;bottom: 0;left: 50%;z-index: -1;}#sk-container-id-3 div.sk-parallel-item {display: flex;flex-direction: column;z-index: 1;position: relative;background-color: white;}#sk-container-id-3 div.sk-parallel-item:first-child::after {align-self: flex-end;width: 50%;}#sk-container-id-3 div.sk-parallel-item:last-child::after {align-self: flex-start;width: 50%;}#sk-container-id-3 div.sk-parallel-item:only-child::after {width: 0;}#sk-container-id-3 div.sk-dashed-wrapped {border: 1px dashed gray;margin: 0 0.4em 0.5em 0.4em;box-sizing: border-box;padding-bottom: 0.4em;background-color: white;}#sk-container-id-3 div.sk-label label {font-family: monospace;font-weight: bold;display: inline-block;line-height: 1.2em;}#sk-container-id-3 div.sk-label-container {text-align: center;}#sk-container-id-3 div.sk-container {/* jupyter's `normalize.less` sets `[hidden] { display: none; }` but bootstrap.min.css set `[hidden] { display: none !important; }` so we also need the `!important` here to be able to override the default hidden behavior on the sphinx rendered scikit-learn.org. See: https://github.com/scikit-learn/scikit-learn/issues/21755 */display: inline-block !important;position: relative;}#sk-container-id-3 div.sk-text-repr-fallback {display: none;}</style><div id=\"sk-container-id-3\" class=\"sk-top-container\"><div class=\"sk-text-repr-fallback\"><pre>RandomForestClassifier(max_depth=7, n_estimators=5, random_state=50)</pre><b>In a Jupyter environment, please rerun this cell to show the HTML representation or trust the notebook. <br />On GitHub, the HTML representation is unable to render, please try loading this page with nbviewer.org.</b></div><div class=\"sk-container\" hidden><div class=\"sk-item\"><div class=\"sk-estimator sk-toggleable\"><input class=\"sk-toggleable__control sk-hidden--visually\" id=\"sk-estimator-id-3\" type=\"checkbox\" checked><label for=\"sk-estimator-id-3\" class=\"sk-toggleable__label sk-toggleable__label-arrow\">RandomForestClassifier</label><div class=\"sk-toggleable__content\"><pre>RandomForestClassifier(max_depth=7, n_estimators=5, random_state=50)</pre></div></div></div></div></div>"
      ],
      "text/plain": [
       "RandomForestClassifier(max_depth=7, n_estimators=5, random_state=50)"
      ]
     },
     "execution_count": 36,
     "metadata": {},
     "output_type": "execute_result"
    }
   ],
   "source": [
    "# Make predictions on the test set using the best model\n",
    "grid_search.best_estimator_\n"
   ]
  },
  {
   "cell_type": "code",
   "execution_count": 37,
   "id": "010dab93",
   "metadata": {
    "execution": {
     "iopub.execute_input": "2023-09-05T21:20:49.005777Z",
     "iopub.status.busy": "2023-09-05T21:20:49.005031Z",
     "iopub.status.idle": "2023-09-05T21:20:49.032379Z",
     "shell.execute_reply": "2023-09-05T21:20:49.031551Z"
    },
    "id": "O3Oxe8a_dNLA",
    "papermill": {
     "duration": 0.056691,
     "end_time": "2023-09-05T21:20:49.034704",
     "exception": false,
     "start_time": "2023-09-05T21:20:48.978013",
     "status": "completed"
    },
    "tags": []
   },
   "outputs": [],
   "source": [
    "rf_best = grid_search.best_estimator_\n",
    "\n",
    "# Make predictions on the test set using the best model\n",
    "y_pred = rf_best.predict(X_test)"
   ]
  },
  {
   "cell_type": "code",
   "execution_count": 38,
   "id": "3f134a9b",
   "metadata": {
    "execution": {
     "iopub.execute_input": "2023-09-05T21:20:49.088874Z",
     "iopub.status.busy": "2023-09-05T21:20:49.088022Z",
     "iopub.status.idle": "2023-09-05T21:20:49.139249Z",
     "shell.execute_reply": "2023-09-05T21:20:49.138436Z"
    },
    "id": "VzY1SrWmd0P9",
    "papermill": {
     "duration": 0.080511,
     "end_time": "2023-09-05T21:20:49.141408",
     "exception": false,
     "start_time": "2023-09-05T21:20:49.060897",
     "status": "completed"
    },
    "tags": []
   },
   "outputs": [],
   "source": [
    "# Calculate the metrics\n",
    "accuracy = accuracy_score(y_test, y_pred)\n",
    "precision = precision_score(y_test, y_pred)\n",
    "recall = recall_score(y_test, y_pred)\n",
    "f1 = f1_score(y_test, y_pred)"
   ]
  },
  {
   "cell_type": "code",
   "execution_count": 39,
   "id": "39f63845",
   "metadata": {
    "execution": {
     "iopub.execute_input": "2023-09-05T21:20:49.196233Z",
     "iopub.status.busy": "2023-09-05T21:20:49.195505Z",
     "iopub.status.idle": "2023-09-05T21:20:49.205269Z",
     "shell.execute_reply": "2023-09-05T21:20:49.203775Z"
    },
    "id": "i4v2F-ned1qd",
    "outputId": "88f470ca-234b-469b-b441-349a9b84f847",
    "papermill": {
     "duration": 0.039151,
     "end_time": "2023-09-05T21:20:49.207314",
     "exception": false,
     "start_time": "2023-09-05T21:20:49.168163",
     "status": "completed"
    },
    "tags": []
   },
   "outputs": [
    {
     "name": "stdout",
     "output_type": "stream",
     "text": [
      "                 Model  Accuracy  Precision    Recall  F1-Score\n",
      "0  Logistic_Regression  0.981093   0.076923  0.908163  0.141833\n",
      "1                  KNN  0.999561   0.892473  0.846939  0.869110\n",
      "2        Random_forest  0.994224   0.210526  0.857143  0.338028\n"
     ]
    }
   ],
   "source": [
    "\n",
    "# Append the results as a row to the DataFrame\n",
    "results_mod = results_mod._append({'Model': 'Random_forest', 'Accuracy': accuracy, 'Precision': precision, 'Recall': recall, 'F1-Score': f1}, ignore_index=True)\n",
    "print(results_mod)\n"
   ]
  },
  {
   "cell_type": "markdown",
   "id": "9efaffd7",
   "metadata": {
    "id": "IcK0sfNafzBo",
    "papermill": {
     "duration": 0.02623,
     "end_time": "2023-09-05T21:20:49.260313",
     "exception": false,
     "start_time": "2023-09-05T21:20:49.234083",
     "status": "completed"
    },
    "tags": []
   },
   "source": [
    "We observe that Random Forest Classifier has a lower Recall, but a higher F1 score as it has a better Precision"
   ]
  },
  {
   "cell_type": "markdown",
   "id": "f746a14a",
   "metadata": {
    "id": "bCDY_Ju7eljk",
    "papermill": {
     "duration": 0.026321,
     "end_time": "2023-09-05T21:20:49.312931",
     "exception": false,
     "start_time": "2023-09-05T21:20:49.286610",
     "status": "completed"
    },
    "tags": []
   },
   "source": [
    "#Using XGBoost"
   ]
  },
  {
   "cell_type": "code",
   "execution_count": 40,
   "id": "10b67c72",
   "metadata": {
    "execution": {
     "iopub.execute_input": "2023-09-05T21:20:49.368853Z",
     "iopub.status.busy": "2023-09-05T21:20:49.367842Z",
     "iopub.status.idle": "2023-09-05T21:26:42.142485Z",
     "shell.execute_reply": "2023-09-05T21:26:42.141563Z"
    },
    "id": "O2IJs0-HeDDy",
    "outputId": "cf902526-1cf4-409e-d6c2-9e64563cb392",
    "papermill": {
     "duration": 352.830833,
     "end_time": "2023-09-05T21:26:42.171268",
     "exception": false,
     "start_time": "2023-09-05T21:20:49.340435",
     "status": "completed"
    },
    "tags": []
   },
   "outputs": [
    {
     "name": "stdout",
     "output_type": "stream",
     "text": [
      "Fitting 2 folds for each of 12 candidates, totalling 24 fits\n"
     ]
    },
    {
     "data": {
      "text/html": [
       "<style>#sk-container-id-4 {color: black;background-color: white;}#sk-container-id-4 pre{padding: 0;}#sk-container-id-4 div.sk-toggleable {background-color: white;}#sk-container-id-4 label.sk-toggleable__label {cursor: pointer;display: block;width: 100%;margin-bottom: 0;padding: 0.3em;box-sizing: border-box;text-align: center;}#sk-container-id-4 label.sk-toggleable__label-arrow:before {content: \"▸\";float: left;margin-right: 0.25em;color: #696969;}#sk-container-id-4 label.sk-toggleable__label-arrow:hover:before {color: black;}#sk-container-id-4 div.sk-estimator:hover label.sk-toggleable__label-arrow:before {color: black;}#sk-container-id-4 div.sk-toggleable__content {max-height: 0;max-width: 0;overflow: hidden;text-align: left;background-color: #f0f8ff;}#sk-container-id-4 div.sk-toggleable__content pre {margin: 0.2em;color: black;border-radius: 0.25em;background-color: #f0f8ff;}#sk-container-id-4 input.sk-toggleable__control:checked~div.sk-toggleable__content {max-height: 200px;max-width: 100%;overflow: auto;}#sk-container-id-4 input.sk-toggleable__control:checked~label.sk-toggleable__label-arrow:before {content: \"▾\";}#sk-container-id-4 div.sk-estimator input.sk-toggleable__control:checked~label.sk-toggleable__label {background-color: #d4ebff;}#sk-container-id-4 div.sk-label input.sk-toggleable__control:checked~label.sk-toggleable__label {background-color: #d4ebff;}#sk-container-id-4 input.sk-hidden--visually {border: 0;clip: rect(1px 1px 1px 1px);clip: rect(1px, 1px, 1px, 1px);height: 1px;margin: -1px;overflow: hidden;padding: 0;position: absolute;width: 1px;}#sk-container-id-4 div.sk-estimator {font-family: monospace;background-color: #f0f8ff;border: 1px dotted black;border-radius: 0.25em;box-sizing: border-box;margin-bottom: 0.5em;}#sk-container-id-4 div.sk-estimator:hover {background-color: #d4ebff;}#sk-container-id-4 div.sk-parallel-item::after {content: \"\";width: 100%;border-bottom: 1px solid gray;flex-grow: 1;}#sk-container-id-4 div.sk-label:hover label.sk-toggleable__label {background-color: #d4ebff;}#sk-container-id-4 div.sk-serial::before {content: \"\";position: absolute;border-left: 1px solid gray;box-sizing: border-box;top: 0;bottom: 0;left: 50%;z-index: 0;}#sk-container-id-4 div.sk-serial {display: flex;flex-direction: column;align-items: center;background-color: white;padding-right: 0.2em;padding-left: 0.2em;position: relative;}#sk-container-id-4 div.sk-item {position: relative;z-index: 1;}#sk-container-id-4 div.sk-parallel {display: flex;align-items: stretch;justify-content: center;background-color: white;position: relative;}#sk-container-id-4 div.sk-item::before, #sk-container-id-4 div.sk-parallel-item::before {content: \"\";position: absolute;border-left: 1px solid gray;box-sizing: border-box;top: 0;bottom: 0;left: 50%;z-index: -1;}#sk-container-id-4 div.sk-parallel-item {display: flex;flex-direction: column;z-index: 1;position: relative;background-color: white;}#sk-container-id-4 div.sk-parallel-item:first-child::after {align-self: flex-end;width: 50%;}#sk-container-id-4 div.sk-parallel-item:last-child::after {align-self: flex-start;width: 50%;}#sk-container-id-4 div.sk-parallel-item:only-child::after {width: 0;}#sk-container-id-4 div.sk-dashed-wrapped {border: 1px dashed gray;margin: 0 0.4em 0.5em 0.4em;box-sizing: border-box;padding-bottom: 0.4em;background-color: white;}#sk-container-id-4 div.sk-label label {font-family: monospace;font-weight: bold;display: inline-block;line-height: 1.2em;}#sk-container-id-4 div.sk-label-container {text-align: center;}#sk-container-id-4 div.sk-container {/* jupyter's `normalize.less` sets `[hidden] { display: none; }` but bootstrap.min.css set `[hidden] { display: none !important; }` so we also need the `!important` here to be able to override the default hidden behavior on the sphinx rendered scikit-learn.org. See: https://github.com/scikit-learn/scikit-learn/issues/21755 */display: inline-block !important;position: relative;}#sk-container-id-4 div.sk-text-repr-fallback {display: none;}</style><div id=\"sk-container-id-4\" class=\"sk-top-container\"><div class=\"sk-text-repr-fallback\"><pre>GridSearchCV(cv=2,\n",
       "             estimator=XGBClassifier(base_score=None, booster=None,\n",
       "                                     callbacks=None, colsample_bylevel=None,\n",
       "                                     colsample_bynode=None,\n",
       "                                     colsample_bytree=None,\n",
       "                                     early_stopping_rounds=None,\n",
       "                                     enable_categorical=False, eval_metric=None,\n",
       "                                     feature_types=None, gamma=None,\n",
       "                                     gpu_id=None, grow_policy=None,\n",
       "                                     importance_type=None,\n",
       "                                     interaction_constraints=None,\n",
       "                                     learning_rate=None, max_bin=None,\n",
       "                                     max_cat_threshold=None,\n",
       "                                     max_cat_to_onehot=None,\n",
       "                                     max_delta_step=None, max_depth=None,\n",
       "                                     max_leaves=None, min_child_weight=None,\n",
       "                                     missing=nan, monotone_constraints=None,\n",
       "                                     n_estimators=100, n_jobs=None,\n",
       "                                     num_parallel_tree=None, predictor=None,\n",
       "                                     random_state=50, ...),\n",
       "             param_grid={&#x27;max_depth&#x27;: [2, 3, 5, 7],\n",
       "                         &#x27;n_estimators&#x27;: [5, 10, 20]},\n",
       "             scoring=&#x27;recall&#x27;, verbose=1)</pre><b>In a Jupyter environment, please rerun this cell to show the HTML representation or trust the notebook. <br />On GitHub, the HTML representation is unable to render, please try loading this page with nbviewer.org.</b></div><div class=\"sk-container\" hidden><div class=\"sk-item sk-dashed-wrapped\"><div class=\"sk-label-container\"><div class=\"sk-label sk-toggleable\"><input class=\"sk-toggleable__control sk-hidden--visually\" id=\"sk-estimator-id-4\" type=\"checkbox\" ><label for=\"sk-estimator-id-4\" class=\"sk-toggleable__label sk-toggleable__label-arrow\">GridSearchCV</label><div class=\"sk-toggleable__content\"><pre>GridSearchCV(cv=2,\n",
       "             estimator=XGBClassifier(base_score=None, booster=None,\n",
       "                                     callbacks=None, colsample_bylevel=None,\n",
       "                                     colsample_bynode=None,\n",
       "                                     colsample_bytree=None,\n",
       "                                     early_stopping_rounds=None,\n",
       "                                     enable_categorical=False, eval_metric=None,\n",
       "                                     feature_types=None, gamma=None,\n",
       "                                     gpu_id=None, grow_policy=None,\n",
       "                                     importance_type=None,\n",
       "                                     interaction_constraints=None,\n",
       "                                     learning_rate=None, max_bin=None,\n",
       "                                     max_cat_threshold=None,\n",
       "                                     max_cat_to_onehot=None,\n",
       "                                     max_delta_step=None, max_depth=None,\n",
       "                                     max_leaves=None, min_child_weight=None,\n",
       "                                     missing=nan, monotone_constraints=None,\n",
       "                                     n_estimators=100, n_jobs=None,\n",
       "                                     num_parallel_tree=None, predictor=None,\n",
       "                                     random_state=50, ...),\n",
       "             param_grid={&#x27;max_depth&#x27;: [2, 3, 5, 7],\n",
       "                         &#x27;n_estimators&#x27;: [5, 10, 20]},\n",
       "             scoring=&#x27;recall&#x27;, verbose=1)</pre></div></div></div><div class=\"sk-parallel\"><div class=\"sk-parallel-item\"><div class=\"sk-item\"><div class=\"sk-label-container\"><div class=\"sk-label sk-toggleable\"><input class=\"sk-toggleable__control sk-hidden--visually\" id=\"sk-estimator-id-5\" type=\"checkbox\" ><label for=\"sk-estimator-id-5\" class=\"sk-toggleable__label sk-toggleable__label-arrow\">estimator: XGBClassifier</label><div class=\"sk-toggleable__content\"><pre>XGBClassifier(base_score=None, booster=None, callbacks=None,\n",
       "              colsample_bylevel=None, colsample_bynode=None,\n",
       "              colsample_bytree=None, early_stopping_rounds=None,\n",
       "              enable_categorical=False, eval_metric=None, feature_types=None,\n",
       "              gamma=None, gpu_id=None, grow_policy=None, importance_type=None,\n",
       "              interaction_constraints=None, learning_rate=None, max_bin=None,\n",
       "              max_cat_threshold=None, max_cat_to_onehot=None,\n",
       "              max_delta_step=None, max_depth=None, max_leaves=None,\n",
       "              min_child_weight=None, missing=nan, monotone_constraints=None,\n",
       "              n_estimators=100, n_jobs=None, num_parallel_tree=None,\n",
       "              predictor=None, random_state=50, ...)</pre></div></div></div><div class=\"sk-serial\"><div class=\"sk-item\"><div class=\"sk-estimator sk-toggleable\"><input class=\"sk-toggleable__control sk-hidden--visually\" id=\"sk-estimator-id-6\" type=\"checkbox\" ><label for=\"sk-estimator-id-6\" class=\"sk-toggleable__label sk-toggleable__label-arrow\">XGBClassifier</label><div class=\"sk-toggleable__content\"><pre>XGBClassifier(base_score=None, booster=None, callbacks=None,\n",
       "              colsample_bylevel=None, colsample_bynode=None,\n",
       "              colsample_bytree=None, early_stopping_rounds=None,\n",
       "              enable_categorical=False, eval_metric=None, feature_types=None,\n",
       "              gamma=None, gpu_id=None, grow_policy=None, importance_type=None,\n",
       "              interaction_constraints=None, learning_rate=None, max_bin=None,\n",
       "              max_cat_threshold=None, max_cat_to_onehot=None,\n",
       "              max_delta_step=None, max_depth=None, max_leaves=None,\n",
       "              min_child_weight=None, missing=nan, monotone_constraints=None,\n",
       "              n_estimators=100, n_jobs=None, num_parallel_tree=None,\n",
       "              predictor=None, random_state=50, ...)</pre></div></div></div></div></div></div></div></div></div></div>"
      ],
      "text/plain": [
       "GridSearchCV(cv=2,\n",
       "             estimator=XGBClassifier(base_score=None, booster=None,\n",
       "                                     callbacks=None, colsample_bylevel=None,\n",
       "                                     colsample_bynode=None,\n",
       "                                     colsample_bytree=None,\n",
       "                                     early_stopping_rounds=None,\n",
       "                                     enable_categorical=False, eval_metric=None,\n",
       "                                     feature_types=None, gamma=None,\n",
       "                                     gpu_id=None, grow_policy=None,\n",
       "                                     importance_type=None,\n",
       "                                     interaction_constraints=None,\n",
       "                                     learning_rate=None, max_bin=None,\n",
       "                                     max_cat_threshold=None,\n",
       "                                     max_cat_to_onehot=None,\n",
       "                                     max_delta_step=None, max_depth=None,\n",
       "                                     max_leaves=None, min_child_weight=None,\n",
       "                                     missing=nan, monotone_constraints=None,\n",
       "                                     n_estimators=100, n_jobs=None,\n",
       "                                     num_parallel_tree=None, predictor=None,\n",
       "                                     random_state=50, ...),\n",
       "             param_grid={'max_depth': [2, 3, 5, 7],\n",
       "                         'n_estimators': [5, 10, 20]},\n",
       "             scoring='recall', verbose=1)"
      ]
     },
     "execution_count": 40,
     "metadata": {},
     "output_type": "execute_result"
    }
   ],
   "source": [
    "from xgboost import XGBClassifier\n",
    "\n",
    "# Define the parameter grid for hyperparameter tuning\n",
    "param_grid = {\n",
    "    'n_estimators': [5,10,20],\n",
    "    'max_depth': [2,3,5,7]\n",
    "    #'learning_rate': [0.01, 0.1],\n",
    "}\n",
    "\n",
    "# Initialize the XGBoost Classifier model\n",
    "model = XGBClassifier(random_state=50)\n",
    "\n",
    "# Initialize GridSearchCV\n",
    "grid_search = GridSearchCV(estimator=model, param_grid=param_grid, scoring='recall', cv=2, verbose=1)\n",
    "\n",
    "# Perform hyperparameter tuning on the training data\n",
    "grid_search.fit(X_train_resampled, y_train_resampled)\n"
   ]
  },
  {
   "cell_type": "code",
   "execution_count": 41,
   "id": "aab1fc77",
   "metadata": {
    "execution": {
     "iopub.execute_input": "2023-09-05T21:26:42.226594Z",
     "iopub.status.busy": "2023-09-05T21:26:42.225814Z",
     "iopub.status.idle": "2023-09-05T21:26:42.230462Z",
     "shell.execute_reply": "2023-09-05T21:26:42.229537Z"
    },
    "id": "Fuw_sRPbgeKq",
    "papermill": {
     "duration": 0.034413,
     "end_time": "2023-09-05T21:26:42.232487",
     "exception": false,
     "start_time": "2023-09-05T21:26:42.198074",
     "status": "completed"
    },
    "tags": []
   },
   "outputs": [],
   "source": [
    "# Get the best parameters and best model\n",
    "best_params = grid_search.best_params_\n",
    "xg_best_model = grid_search.best_estimator_"
   ]
  },
  {
   "cell_type": "code",
   "execution_count": 42,
   "id": "9c75be7d",
   "metadata": {
    "execution": {
     "iopub.execute_input": "2023-09-05T21:26:42.289335Z",
     "iopub.status.busy": "2023-09-05T21:26:42.289064Z",
     "iopub.status.idle": "2023-09-05T21:26:42.332996Z",
     "shell.execute_reply": "2023-09-05T21:26:42.332340Z"
    },
    "id": "23s2bIJTgk5y",
    "papermill": {
     "duration": 0.075814,
     "end_time": "2023-09-05T21:26:42.334889",
     "exception": false,
     "start_time": "2023-09-05T21:26:42.259075",
     "status": "completed"
    },
    "tags": []
   },
   "outputs": [],
   "source": [
    "# Make predictions on the test set using the best model\n",
    "y_pred = xg_best_model.predict(X_test)"
   ]
  },
  {
   "cell_type": "code",
   "execution_count": 43,
   "id": "e9b15067",
   "metadata": {
    "execution": {
     "iopub.execute_input": "2023-09-05T21:26:42.390424Z",
     "iopub.status.busy": "2023-09-05T21:26:42.390163Z",
     "iopub.status.idle": "2023-09-05T21:26:42.446813Z",
     "shell.execute_reply": "2023-09-05T21:26:42.445683Z"
    },
    "id": "69ia5tAqgnUq",
    "outputId": "4ae1cde2-5641-4e26-8527-843673533ed1",
    "papermill": {
     "duration": 0.087022,
     "end_time": "2023-09-05T21:26:42.449494",
     "exception": false,
     "start_time": "2023-09-05T21:26:42.362472",
     "status": "completed"
    },
    "tags": []
   },
   "outputs": [
    {
     "name": "stdout",
     "output_type": "stream",
     "text": [
      "                 Model  Accuracy  Precision    Recall  F1-Score\n",
      "0  Logistic_Regression  0.981093   0.076923  0.908163  0.141833\n",
      "1                  KNN  0.999561   0.892473  0.846939  0.869110\n",
      "2        Random_forest  0.994224   0.210526  0.857143  0.338028\n",
      "3              XGBoost  0.998051   0.465241  0.887755  0.610526\n"
     ]
    }
   ],
   "source": [
    "# Calculate the metrics\n",
    "accuracy = accuracy_score(y_test, y_pred)\n",
    "precision = precision_score(y_test, y_pred)\n",
    "recall = recall_score(y_test, y_pred)\n",
    "f1 = f1_score(y_test, y_pred)\n",
    "\n",
    "# Append the results as a row to the DataFrame\n",
    "results_mod = results_mod._append({'Model': 'XGBoost', 'Accuracy': accuracy, 'Precision': precision, 'Recall': recall, 'F1-Score': f1}, ignore_index=True)\n",
    "\n",
    "# Display the result DataFrame\n",
    "print(results_mod)"
   ]
  },
  {
   "cell_type": "markdown",
   "id": "3fb2512f",
   "metadata": {
    "id": "tweiaR5pi9dP",
    "papermill": {
     "duration": 0.026335,
     "end_time": "2023-09-05T21:26:42.503633",
     "exception": false,
     "start_time": "2023-09-05T21:26:42.477298",
     "status": "completed"
    },
    "tags": []
   },
   "source": [
    "We observe that both Recall and Precision have improved compared to Random Forest in XG Boost"
   ]
  },
  {
   "cell_type": "code",
   "execution_count": 44,
   "id": "ba42cc86",
   "metadata": {
    "execution": {
     "iopub.execute_input": "2023-09-05T21:26:42.558937Z",
     "iopub.status.busy": "2023-09-05T21:26:42.558672Z",
     "iopub.status.idle": "2023-09-05T21:31:19.496605Z",
     "shell.execute_reply": "2023-09-05T21:31:19.495570Z"
    },
    "id": "jDeNv8Eui-CX",
    "outputId": "ce20643a-1bef-4d63-c83f-4712aaee72a0",
    "papermill": {
     "duration": 277.288595,
     "end_time": "2023-09-05T21:31:19.819379",
     "exception": false,
     "start_time": "2023-09-05T21:26:42.530784",
     "status": "completed"
    },
    "tags": []
   },
   "outputs": [
    {
     "name": "stdout",
     "output_type": "stream",
     "text": [
      "Epoch 1/5\n",
      "14220/14220 [==============================] - 45s 3ms/step - loss: 0.0218 - recall: 0.9912\n",
      "Epoch 2/5\n",
      "14220/14220 [==============================] - 39s 3ms/step - loss: 0.0055 - recall: 0.9990\n",
      "Epoch 3/5\n",
      "14220/14220 [==============================] - 40s 3ms/step - loss: 0.0037 - recall: 0.9993\n",
      "Epoch 4/5\n",
      "14220/14220 [==============================] - 39s 3ms/step - loss: 0.0030 - recall: 0.9994\n",
      "Epoch 5/5\n",
      "14220/14220 [==============================] - 39s 3ms/step - loss: 0.0025 - recall: 0.9995\n"
     ]
    },
    {
     "data": {
      "text/plain": [
       "<keras.callbacks.History at 0x7bfe593db6d0>"
      ]
     },
     "execution_count": 44,
     "metadata": {},
     "output_type": "execute_result"
    }
   ],
   "source": [
    "from keras.models import Sequential\n",
    "from keras.layers import Dense\n",
    "import tensorflow as tf\n",
    "\n",
    "# Standardize the data\n",
    "scaler = StandardScaler()\n",
    "X_train_scaled = scaler.fit_transform(X_train_resampled)\n",
    "X_test_scaled = scaler.transform(X_test)\n",
    "\n",
    "\n",
    "# Initialize the neural network model\n",
    "nn_model = Sequential()\n",
    "\n",
    "# Add input layer and hidden layers\n",
    "nn_model.add(Dense(64, activation='relu'))\n",
    "nn_model.add(Dense(32, activation='relu'))\n",
    "nn_model.add(Dense(1, activation='sigmoid'))  # Output layer\n",
    "\n",
    "# Compile the model\n",
    "nn_model.compile(optimizer='adam', loss='binary_crossentropy', metrics=[tf.keras.metrics.Recall()])\n",
    "\n",
    "\n",
    "# Train the model on the training data\n",
    "nn_model.fit(X_train_scaled, y_train_resampled, epochs=5, batch_size=32, verbose=1)"
   ]
  },
  {
   "cell_type": "code",
   "execution_count": 45,
   "id": "e1659b60",
   "metadata": {
    "execution": {
     "iopub.execute_input": "2023-09-05T21:31:20.462122Z",
     "iopub.status.busy": "2023-09-05T21:31:20.461762Z",
     "iopub.status.idle": "2023-09-05T21:31:25.721732Z",
     "shell.execute_reply": "2023-09-05T21:31:25.720686Z"
    },
    "id": "SheJ6cAbjlxQ",
    "outputId": "e60f305a-c916-4327-ed1f-5427507bdddf",
    "papermill": {
     "duration": 5.586299,
     "end_time": "2023-09-05T21:31:25.724604",
     "exception": false,
     "start_time": "2023-09-05T21:31:20.138305",
     "status": "completed"
    },
    "tags": []
   },
   "outputs": [
    {
     "name": "stdout",
     "output_type": "stream",
     "text": [
      "1781/1781 [==============================] - 3s 1ms/step\n"
     ]
    }
   ],
   "source": [
    "# Make predictions on the test set\n",
    "y_pred_prob = nn_model.predict(X_test_scaled)"
   ]
  },
  {
   "cell_type": "code",
   "execution_count": 46,
   "id": "339583d5",
   "metadata": {
    "execution": {
     "iopub.execute_input": "2023-09-05T21:31:26.370465Z",
     "iopub.status.busy": "2023-09-05T21:31:26.370098Z",
     "iopub.status.idle": "2023-09-05T21:31:27.019614Z",
     "shell.execute_reply": "2023-09-05T21:31:27.018695Z"
    },
    "id": "4s8nf65ELZqn",
    "outputId": "79d01379-048b-411e-eb60-fe4825ae6dea",
    "papermill": {
     "duration": 0.974901,
     "end_time": "2023-09-05T21:31:27.022256",
     "exception": false,
     "start_time": "2023-09-05T21:31:26.047355",
     "status": "completed"
    },
    "tags": []
   },
   "outputs": [
    {
     "data": {
      "image/png": "[encoded data removed]",
      "text/plain": [
       "<Figure size 640x480 with 1 Axes>"
      ]
     },
     "metadata": {},
     "output_type": "display_data"
    },
    {
     "name": "stdout",
     "output_type": "stream",
     "text": [
      "Intersection Threshold: 0.9683632254600525\n"
     ]
    }
   ],
   "source": [
    "from sklearn.metrics import precision_recall_curve, auc\n",
    "# Compute precision-recall curve\n",
    "precision, recall, thresholds = precision_recall_curve(y_test, y_pred_prob)\n",
    "\n",
    "# Calculate F1 score for different thresholds\n",
    "f1_scores = 2 * (precision * recall) / (precision + recall + 1e-10)\n",
    "\n",
    "# Calculate the intersection point\n",
    "intersection_idx = np.argmin(np.abs(precision - recall))\n",
    "intersection_threshold = thresholds[intersection_idx]\n",
    "\n",
    "# Plot precision-recall curve\n",
    "plt.plot(thresholds, precision[:-1], 'b-', label='Precision')\n",
    "plt.plot(thresholds, recall[:-1], 'g-', label='Recall')\n",
    "plt.axvline(x=intersection_threshold, color='r', linestyle='--', label='Intersection Threshold')\n",
    "plt.xlabel('Threshold')\n",
    "plt.ylabel('Score')\n",
    "plt.title('Precision-Recall Curve')\n",
    "plt.legend()\n",
    "plt.show()\n",
    "\n",
    "# Display the best threshold\n",
    "print(f\"Intersection Threshold: {intersection_threshold}\")"
   ]
  },
  {
   "cell_type": "code",
   "execution_count": 47,
   "id": "f9e2f4d9",
   "metadata": {
    "execution": {
     "iopub.execute_input": "2023-09-05T21:31:27.714887Z",
     "iopub.status.busy": "2023-09-05T21:31:27.714516Z",
     "iopub.status.idle": "2023-09-05T21:31:27.719873Z",
     "shell.execute_reply": "2023-09-05T21:31:27.718815Z"
    },
    "id": "HLXCdt7pM4N9",
    "papermill": {
     "duration": 0.332887,
     "end_time": "2023-09-05T21:31:27.722177",
     "exception": false,
     "start_time": "2023-09-05T21:31:27.389290",
     "status": "completed"
    },
    "tags": []
   },
   "outputs": [],
   "source": [
    "y_pred = (y_pred_prob > intersection_threshold).astype(int)"
   ]
  },
  {
   "cell_type": "code",
   "execution_count": 48,
   "id": "7f7fc033",
   "metadata": {
    "execution": {
     "iopub.execute_input": "2023-09-05T21:31:28.366805Z",
     "iopub.status.busy": "2023-09-05T21:31:28.366418Z",
     "iopub.status.idle": "2023-09-05T21:31:28.426218Z",
     "shell.execute_reply": "2023-09-05T21:31:28.425291Z"
    },
    "id": "JKt8xcVbjoWn",
    "outputId": "7dab08cd-dd99-485d-8581-5035e8b51e88",
    "papermill": {
     "duration": 0.386319,
     "end_time": "2023-09-05T21:31:28.428380",
     "exception": false,
     "start_time": "2023-09-05T21:31:28.042061",
     "status": "completed"
    },
    "tags": []
   },
   "outputs": [
    {
     "name": "stdout",
     "output_type": "stream",
     "text": [
      "                 Model  Accuracy  Precision    Recall  F1-Score\n",
      "0  Logistic_Regression  0.981093   0.076923  0.908163  0.141833\n",
      "1                  KNN  0.999561   0.892473  0.846939  0.869110\n",
      "2        Random_forest  0.994224   0.210526  0.857143  0.338028\n",
      "3              XGBoost  0.998051   0.465241  0.887755  0.610526\n",
      "4        NeuralNetwork  0.999350   0.814433  0.806122  0.810256\n"
     ]
    }
   ],
   "source": [
    "# Calculate the metrics\n",
    "accuracy = accuracy_score(y_test, y_pred)\n",
    "precision = precision_score(y_test, y_pred)\n",
    "recall = recall_score(y_test, y_pred)\n",
    "f1 = f1_score(y_test, y_pred)\n",
    "\n",
    "# Append the results as a row to the DataFrame\n",
    "results_mod = results_mod._append({'Model': 'NeuralNetwork', 'Accuracy': accuracy, 'Precision': precision, 'Recall': recall, 'F1-Score': f1}, ignore_index=True)\n",
    "\n",
    "print(results_mod)"
   ]
  },
  {
   "cell_type": "markdown",
   "id": "4f7f67ea",
   "metadata": {
    "id": "Q3esKlURODIR",
    "papermill": {
     "duration": 0.366166,
     "end_time": "2023-09-05T21:31:29.123738",
     "exception": false,
     "start_time": "2023-09-05T21:31:28.757572",
     "status": "completed"
    },
    "tags": []
   },
   "source": [
    "Thus, we observe that the KNN Classifier model has the best F1-Score as compared to all the other models. This is primarily due to a slightly high precision and an equally high recall score as compared to the next best model- Neural Network.\n",
    "\n",
    "Since, Recall was the main metric of measuement either of these models- KNN Classifier or the NN Model can be used."
   ]
  },
  {
   "cell_type": "markdown",
   "id": "7bde394a",
   "metadata": {
    "id": "sidjhJ9qTUhs",
    "papermill": {
     "duration": 0.328284,
     "end_time": "2023-09-05T21:31:29.778287",
     "exception": false,
     "start_time": "2023-09-05T21:31:29.450003",
     "status": "completed"
    },
    "tags": []
   },
   "source": [
    "To understand the feature importance we use the simple logistic regression model that was built at the start."
   ]
  },
  {
   "cell_type": "markdown",
   "id": "6d9ea51e",
   "metadata": {
    "id": "11xVzu9KTjJK",
    "papermill": {
     "duration": 0.328043,
     "end_time": "2023-09-05T21:31:30.429488",
     "exception": false,
     "start_time": "2023-09-05T21:31:30.101445",
     "status": "completed"
    },
    "tags": []
   },
   "source": [
    "Printing the important features of the best model to understand the dataset\n",
    "This will not give much explanation on the already transformed dataset\n",
    "But it will help us in understanding if the dataset is not PCA transformed"
   ]
  },
  {
   "cell_type": "code",
   "execution_count": 49,
   "id": "5e4916ca",
   "metadata": {
    "execution": {
     "iopub.execute_input": "2023-09-05T21:31:31.089325Z",
     "iopub.status.busy": "2023-09-05T21:31:31.088883Z",
     "iopub.status.idle": "2023-09-05T21:31:31.103039Z",
     "shell.execute_reply": "2023-09-05T21:31:31.101861Z"
    },
    "id": "Tc8avKVpQOCH",
    "outputId": "5ad9ae66-c5e8-427d-9c3d-0c40acf1e525",
    "papermill": {
     "duration": 0.347683,
     "end_time": "2023-09-05T21:31:31.105181",
     "exception": false,
     "start_time": "2023-09-05T21:31:30.757498",
     "status": "completed"
    },
    "tags": []
   },
   "outputs": [
    {
     "name": "stdout",
     "output_type": "stream",
     "text": [
      "Important Features:\n",
      "   Feature  Importance\n",
      "4       V4    0.891333\n",
      "22     V22    0.355716\n",
      "5       V5    0.293143\n",
      "19     V19    0.241727\n",
      "11     V11    0.192765\n",
      "1       V1    0.168536\n",
      "23     V23    0.101932\n",
      "24     V24    0.059615\n",
      "27     V27    0.042972\n",
      "28     V28    0.028364\n",
      "20     V20    0.020263\n",
      "21     V21    0.015913\n",
      "0     Time   -0.000037\n",
      "29  Amount   -0.000502\n",
      "26     V26   -0.002541\n",
      "7       V7   -0.137988\n",
      "18     V18   -0.145751\n",
      "25     V25   -0.208429\n",
      "6       V6   -0.258357\n",
      "15     V15   -0.277878\n",
      "2       V2   -0.282306\n",
      "8       V8   -0.398721\n",
      "13     V13   -0.434689\n",
      "9       V9   -0.561098\n",
      "10     V10   -0.565455\n",
      "16     V16   -0.631359\n",
      "3       V3   -0.821221\n",
      "12     V12   -0.843638\n",
      "17     V17   -0.982118\n",
      "14     V14   -1.427959\n"
     ]
    }
   ],
   "source": [
    "# Get the feature importances or coefficients\n",
    "# For logistic regression, you can access the coefficients using logreg.coef_\n",
    "feature_importances = logit_model.coef_[0]\n",
    "\n",
    "# Create a DataFrame to store feature names and their importances\n",
    "feature_importance_df = pd.DataFrame({'Feature': X_train.columns, 'Importance': feature_importances})\n",
    "\n",
    "# Sort the DataFrame by importance in descending order\n",
    "feature_importance_df = feature_importance_df.sort_values(by='Importance', ascending=False)\n",
    "\n",
    "# Print the important features and their importances\n",
    "print(\"Important Features:\")\n",
    "print(feature_importance_df)"
   ]
  },
  {
   "cell_type": "markdown",
   "id": "da04940c",
   "metadata": {
    "id": "yLtuXz8pqzl6",
    "papermill": {
     "duration": 0.360006,
     "end_time": "2023-09-05T21:31:31.852507",
     "exception": false,
     "start_time": "2023-09-05T21:31:31.492501",
     "status": "completed"
    },
    "tags": []
   },
   "source": [
    "The top order of feature importance is V4, V22 and V5"
   ]
  }
 ],
 "kernelspec": {
  "display_name": "Python 3",
  "language": "python",
  "name": "python3"
 },
 "language_info": {
  "codemirror_mode": {
   "name": "ipython",
   "version": 3
  },
  "file_extension": ".py",
  "mimetype": "text/x-python",
  "name": "python",
  "nbconvert_exporter": "python",
  "pygments_lexer": "ipython3",
  "version": "3.6.4"
 },
 "metadata": {
  "accelerator": "TPU",
  "colab": {
   "provenance": []
  },
  "kernelspec": {
   "display_name": "Python 3",
   "language": "python",
   "name": "python3"
  },
  "language_info": {
   "codemirror_mode": {
    "name": "ipython",
    "version": 3
   },
   "file_extension": ".py",
   "mimetype": "text/x-python",
   "name": "python",
   "nbconvert_exporter": "python",
   "pygments_lexer": "ipython3",
   "version": "3.10.12"
  },
  "papermill": {
   "default_parameters": {},
   "duration": 1300.084077,
   "end_time": "2023-09-05T21:31:35.106607",
   "environment_variables": {},
   "exception": null,
   "input_path": "__notebook__.ipynb",
   "output_path": "__notebook__.ipynb",
   "parameters": {},
   "start_time": "2023-09-05T21:09:55.022530",
   "version": "2.4.0"
  }
 },
 "nbformat": 4,
 "nbformat_minor": 5
}
